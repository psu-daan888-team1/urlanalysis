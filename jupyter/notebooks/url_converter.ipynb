{
 "cells": [
  {
   "cell_type": "code",
   "execution_count": 1,
   "id": "398d6fc3-a5a9-414e-9e4e-41f8466d3ad8",
   "metadata": {},
   "outputs": [
    {
     "name": "stdout",
     "output_type": "stream",
     "text": [
      "Collecting tldextract\n",
      "  Downloading tldextract-3.3.1-py3-none-any.whl (93 kB)\n",
      "\u001b[2K     \u001b[90m━━━━━━━━━━━━━━━━━━━━━━━━━━━━━━━━━━━━━━━━\u001b[0m \u001b[32m93.6/93.6 kB\u001b[0m \u001b[31m3.2 MB/s\u001b[0m eta \u001b[36m0:00:00\u001b[0m\n",
      "\u001b[?25hCollecting dnspython\n",
      "  Downloading dnspython-2.2.1-py3-none-any.whl (269 kB)\n",
      "\u001b[2K     \u001b[90m━━━━━━━━━━━━━━━━━━━━━━━━━━━━━━━━━━━━━━━\u001b[0m \u001b[32m269.1/269.1 kB\u001b[0m \u001b[31m6.9 MB/s\u001b[0m eta \u001b[36m0:00:00\u001b[0ma \u001b[36m0:00:01\u001b[0m\n",
      "\u001b[?25hCollecting python-whois\n",
      "  Downloading python-whois-0.8.0.tar.gz (109 kB)\n",
      "\u001b[2K     \u001b[90m━━━━━━━━━━━━━━━━━━━━━━━━━━━━━━━━━━━━━━\u001b[0m \u001b[32m109.6/109.6 kB\u001b[0m \u001b[31m10.8 MB/s\u001b[0m eta \u001b[36m0:00:00\u001b[0m\n",
      "\u001b[?25h  Preparing metadata (setup.py) ... \u001b[?25ldone\n",
      "\u001b[?25hCollecting cymruwhois\n",
      "  Downloading cymruwhois-1.6-py3-none-any.whl (6.2 kB)\n",
      "Collecting requests-file>=1.4\n",
      "  Downloading requests_file-1.5.1-py2.py3-none-any.whl (3.7 kB)\n",
      "Collecting filelock>=3.0.8\n",
      "  Downloading filelock-3.8.0-py3-none-any.whl (10 kB)\n",
      "Requirement already satisfied: requests>=2.1.0 in /opt/conda/lib/python3.10/site-packages (from tldextract) (2.28.1)\n",
      "Requirement already satisfied: idna in /opt/conda/lib/python3.10/site-packages (from tldextract) (3.3)\n",
      "Collecting future\n",
      "  Downloading future-0.18.2.tar.gz (829 kB)\n",
      "\u001b[2K     \u001b[90m━━━━━━━━━━━━━━━━━━━━━━━━━━━━━━━━━━━━━━\u001b[0m \u001b[32m829.2/829.2 kB\u001b[0m \u001b[31m17.2 MB/s\u001b[0m eta \u001b[36m0:00:00\u001b[0ma \u001b[36m0:00:01\u001b[0m\n",
      "\u001b[?25h  Preparing metadata (setup.py) ... \u001b[?25ldone\n",
      "\u001b[?25hRequirement already satisfied: charset-normalizer<3,>=2 in /opt/conda/lib/python3.10/site-packages (from requests>=2.1.0->tldextract) (2.1.1)\n",
      "Requirement already satisfied: certifi>=2017.4.17 in /opt/conda/lib/python3.10/site-packages (from requests>=2.1.0->tldextract) (2022.9.14)\n",
      "Requirement already satisfied: urllib3<1.27,>=1.21.1 in /opt/conda/lib/python3.10/site-packages (from requests>=2.1.0->tldextract) (1.26.11)\n",
      "Requirement already satisfied: six in /opt/conda/lib/python3.10/site-packages (from requests-file>=1.4->tldextract) (1.16.0)\n",
      "Building wheels for collected packages: python-whois, future\n",
      "  Building wheel for python-whois (setup.py) ... \u001b[?25ldone\n",
      "\u001b[?25h  Created wheel for python-whois: filename=python_whois-0.8.0-py3-none-any.whl size=103247 sha256=1bf2e8273806456ec1be0b6b79f0e2d49c567beac2d1c2a2e0173200ed820f54\n",
      "  Stored in directory: /home/jovyan/.cache/pip/wheels/10/f1/87/145023b9a206e2e948be6480c61ef3fd3dbb81ef11b6977782\n",
      "  Building wheel for future (setup.py) ... \u001b[?25ldone\n",
      "\u001b[?25h  Created wheel for future: filename=future-0.18.2-py3-none-any.whl size=491058 sha256=7afe8163a98d2815426ceb4b42277cb018d99380b08b9908da60f847c175be79\n",
      "  Stored in directory: /home/jovyan/.cache/pip/wheels/22/73/06/557dc4f4ef68179b9d763930d6eec26b88ed7c389b19588a1c\n",
      "Successfully built python-whois future\n",
      "Installing collected packages: cymruwhois, future, filelock, dnspython, requests-file, python-whois, tldextract\n",
      "Successfully installed cymruwhois-1.6 dnspython-2.2.1 filelock-3.8.0 future-0.18.2 python-whois-0.8.0 requests-file-1.5.1 tldextract-3.3.1\n"
     ]
    }
   ],
   "source": [
    "!pip install tldextract dnspython python-whois cymruwhois"
   ]
  },
  {
   "cell_type": "code",
   "execution_count": 2,
   "id": "0a4b2635-6611-4999-810f-bf5e3c0ff1f0",
   "metadata": {},
   "outputs": [],
   "source": [
    "from cymruwhois import Client\n",
    "import dns.resolver\n",
    "import datetime\n",
    "import ipaddress\n",
    "import os\n",
    "import pandas as pd\n",
    "import re\n",
    "import requests\n",
    "import string\n",
    "import tldextract\n",
    "from urllib.parse import urlparse, parse_qs\n",
    "import whois"
   ]
  },
  {
   "cell_type": "code",
   "execution_count": 3,
   "id": "daeb74ab-b141-4bf8-ae20-49994ef6e18a",
   "metadata": {},
   "outputs": [],
   "source": [
    "def count_chars(s):\n",
    "    return {c:s.count(c) for c in list(string.printable)}"
   ]
  },
  {
   "cell_type": "code",
   "execution_count": 4,
   "id": "458c011a-72a7-42cb-91c6-52df0be5364d",
   "metadata": {},
   "outputs": [],
   "source": [
    "def build_counts(char_dict, t):\n",
    "    d = dict()\n",
    "    d['qty_dot_'+t] = char_dict['.']\n",
    "    d['qty_hyphen_'+t] = char_dict['-']\n",
    "    d['qty_underline_'+t] = char_dict['_']\n",
    "    d['qty_slash_'+t] = char_dict['/']\n",
    "    d['qty_questionmark_'+t] = char_dict['?']\n",
    "    d['qty_equal_'+t] = char_dict['=']\n",
    "    d['qty_at_'+t] = char_dict['@']\n",
    "    d['qty_and_'+t] = char_dict['&']\n",
    "    d['qty_exclamation_'+t] = char_dict['!']\n",
    "    d['qty_space_'+t] = char_dict[' ']\n",
    "    d['qty_tilde_'+t] = char_dict['~']\n",
    "    d['qty_comma_'+t] = char_dict[',']\n",
    "    d['qty_plus_'+t] = char_dict['+']\n",
    "    d['qty_asterisk_'+t] = char_dict['*']\n",
    "    d['qty_hashtag_'+t] = char_dict['#']\n",
    "    d['qty_dollar_'+t] = char_dict['$']\n",
    "    d['qty_percent_'+t] = char_dict['%']\n",
    "    return d"
   ]
  },
  {
   "cell_type": "code",
   "execution_count": 5,
   "id": "51fdd49e-6ac9-4bb7-9178-9b8eda8f5694",
   "metadata": {},
   "outputs": [],
   "source": [
    "def table_1_features(full_url, counts):\n",
    "    # https://pypi.org/project/tldextract/\n",
    "    counts['qty_tld_url'] = len(tldextract.extract(full_url).suffix)\n",
    "    counts['length_url'] = len(full_url)\n",
    "    # https://stackoverflow.com/questions/17681670/extract-email-sub-strings-from-large-document\n",
    "    exp = r'(?:\\.?)([\\w\\-_+#~!$&\\'\\.]+(?<!\\.)(@|[ ]?\\(?[ ]?(at|AT)[ ]?\\)?[ ]?)(?<!\\.)[\\w]+[\\w\\-\\.]*\\.[a-zA-Z-]{2,3})(?:[^\\w])'\n",
    "    counts['email_in_url'] = bool(re.search(exp, full_url))\n",
    "    \n",
    "    return counts"
   ]
  },
  {
   "cell_type": "code",
   "execution_count": 6,
   "id": "622554d4-2ad8-424f-85e5-87b5daee4c62",
   "metadata": {},
   "outputs": [],
   "source": [
    "def table_2_features(full_url, counts):\n",
    "    d = tldextract.extract(test_url).domain\n",
    "    counts['qty_vowels_domain'] = len([v for v in d.lower() if v in list('aeiou')])\n",
    "    counts['domain_length'] = len(d)\n",
    "    try:\n",
    "        # https://docs.python.org/3/library/ipaddress.html\n",
    "        ipaddress.ip_address(d)\n",
    "        counts['domain_in_ip'] = True\n",
    "    except ValueError:\n",
    "        counts['domain_in_ip'] = False\n",
    "    counts['server_client_domain'] = ('server' in d) or ('client' in d)\n",
    "    return counts"
   ]
  },
  {
   "cell_type": "code",
   "execution_count": 97,
   "id": "e81cdcb3-57e5-40eb-8484-97986e18c658",
   "metadata": {},
   "outputs": [],
   "source": [
    "def table_3_features(full_url, counts):\n",
    "    # https://docs.python.org/3/library/urllib.parse.html\n",
    "    d = os.path.split(urlparse(full_url).path)[0].lstrip('/')\n",
    "    counts['directory_length'] = len(d)\n",
    "    if len(d)==0:\n",
    "        counts = {a: -1 for a in counts}\n",
    "    return counts"
   ]
  },
  {
   "cell_type": "code",
   "execution_count": 85,
   "id": "4d0ada6c-a422-4f90-bc19-1d898203183a",
   "metadata": {},
   "outputs": [],
   "source": [
    "def table_4_features(full_url, counts):\n",
    "    f = os.path.split(urlparse(full_url).path)[1]\n",
    "    counts['file_length'] = len(f)\n",
    "    if len(f)==0:\n",
    "        counts = {a: -1 for a in counts}\n",
    "    return counts"
   ]
  },
  {
   "cell_type": "code",
   "execution_count": 78,
   "id": "b274e0f2-1f51-4263-b297-8e678f2d8fac",
   "metadata": {},
   "outputs": [],
   "source": [
    "def table_5_features(full_url, counts):\n",
    "    q = urlparse(full_url).query\n",
    "    counts['params_length'] = len(q)\n",
    "    counts['tld_present_params'] = True if tldextract.extract(q).suffix else False\n",
    "    counts['qty_params'] = len(parse_qs(q))\n",
    "    if len(q)==0:\n",
    "        counts = {a: -1 for a in counts}\n",
    "    return counts"
   ]
  },
  {
   "cell_type": "code",
   "execution_count": 79,
   "id": "535e6f1b-0f2d-4fc9-936d-f242270572ec",
   "metadata": {},
   "outputs": [],
   "source": [
    "def table_6_features(full_url):\n",
    "    # https://www.dnspython.org/examples.html\n",
    "    # TODO: -1 if these tests do not resolve\n",
    "    u = tldextract.extract(full_url)\n",
    "    d = u.domain + '.' + u.suffix\n",
    "    who = whois.whois(d)\n",
    "    resp = requests.get('http://google.com')\n",
    "    features = dict()\n",
    "    features['time_response'] = dns.resolver.resolve(d).response.time * 1000\n",
    "    # https://support.mailessentials.gfi.com/hc/en-us/articles/360015116520-How-to-check-and-read-a-Sender-Policy-Framework-record-for-a-domain\n",
    "    features['domain_spf'] = 'spf' in str(dns.resolver.resolve(d, 'TXT').rrset)\n",
    "    # https://github.com/JustinAzoff/python-cymruwhois\n",
    "    cli=Client()\n",
    "    res=cli.lookup(dns.resolver.resolve(d)[0].to_text())\n",
    "    features['asn_ip'] = res.asn\n",
    "    features['time_domain_activation'] = (datetime.datetime.now() - who['creation_date'][0]).days\n",
    "    features['time_domain_expiration'] = (who['expiration_date'][0] - datetime.datetime.now()).days\n",
    "    features['qty_ip_resolved'] = len(dns.resolver.resolve(d, 'A'))\n",
    "    features['qty_nameservers'] = len(dns.resolver.resolve(d, 'NS'))\n",
    "    features['qty_mx_servers'] = len(dns.resolver.resolve(d, 'MX'))\n",
    "    features['ttl_hostname'] = dns.resolver.resolve(d).rrset.ttl\n",
    "    # https://www.geeksforgeeks.org/ssl-certificate-verification-python-requests/\n",
    "    try:\n",
    "        requests.get('https://' + d)\n",
    "        features['tls_ssl_certificate'] = True\n",
    "    except SSLCertVerificationError:\n",
    "        features['tls_ssl_certificate'] = False\n",
    "    features['qty_redirects'] = sum([True if h.status_code in [301, 302] else False for h in resp.history])\n",
    "    features['url_google_index'] = 0 # TODO\n",
    "    features['domain_google_index'] = 0 # TODO\n",
    "    features['url_shortened'] = d.lower() in ['tinyurl.com', 'bit.ly', 't.co'] # TODO: add more URL shortening services\n",
    "    return features"
   ]
  },
  {
   "cell_type": "code",
   "execution_count": 87,
   "id": "0a6ab5ad-47ed-474f-8e5e-00f727d84546",
   "metadata": {},
   "outputs": [],
   "source": [
    "test_url = \"https://www.google.com/search?q=test\""
   ]
  },
  {
   "cell_type": "code",
   "execution_count": 98,
   "id": "792caf84-7a0d-4c5d-a83f-98f27c06b601",
   "metadata": {},
   "outputs": [],
   "source": [
    "t1_counts = build_counts(count_chars(test_url), 'url')"
   ]
  },
  {
   "cell_type": "code",
   "execution_count": 99,
   "id": "b8120458-fa47-4813-99ca-0e597d04d925",
   "metadata": {},
   "outputs": [],
   "source": [
    "table_1 = table_1_features(test_url, t1_counts)"
   ]
  },
  {
   "cell_type": "code",
   "execution_count": 100,
   "id": "33e7161c-a141-45a0-a310-b725afc3b27c",
   "metadata": {},
   "outputs": [
    {
     "data": {
      "text/plain": [
       "{'qty_dot_url': 2,\n",
       " 'qty_hyphen_url': 0,\n",
       " 'qty_underline_url': 0,\n",
       " 'qty_slash_url': 3,\n",
       " 'qty_questionmark_url': 1,\n",
       " 'qty_equal_url': 1,\n",
       " 'qty_at_url': 0,\n",
       " 'qty_and_url': 0,\n",
       " 'qty_exclamation_url': 0,\n",
       " 'qty_space_url': 0,\n",
       " 'qty_tilde_url': 0,\n",
       " 'qty_comma_url': 0,\n",
       " 'qty_plus_url': 0,\n",
       " 'qty_asterisk_url': 0,\n",
       " 'qty_hashtag_url': 0,\n",
       " 'qty_dollar_url': 0,\n",
       " 'qty_percent_url': 0,\n",
       " 'qty_tld_url': 3,\n",
       " 'length_url': 36,\n",
       " 'email_in_url': False}"
      ]
     },
     "execution_count": 100,
     "metadata": {},
     "output_type": "execute_result"
    }
   ],
   "source": [
    "table_1"
   ]
  },
  {
   "cell_type": "code",
   "execution_count": 101,
   "id": "dc599693-b2b9-4582-b4c8-bb3a3c33f512",
   "metadata": {},
   "outputs": [],
   "source": [
    "t2_counts = build_counts(count_chars(tldextract.extract(test_url).domain), 'domain')"
   ]
  },
  {
   "cell_type": "code",
   "execution_count": 102,
   "id": "62e36cf7-976d-4d39-8a05-bf67a417a421",
   "metadata": {},
   "outputs": [],
   "source": [
    "table_2 = table_2_features(test_url, t2_counts)"
   ]
  },
  {
   "cell_type": "code",
   "execution_count": 103,
   "id": "ebad22a5-5a35-4c89-9b49-5e8b3980352b",
   "metadata": {},
   "outputs": [
    {
     "data": {
      "text/plain": [
       "{'qty_dot_domain': 0,\n",
       " 'qty_hyphen_domain': 0,\n",
       " 'qty_underline_domain': 0,\n",
       " 'qty_slash_domain': 0,\n",
       " 'qty_questionmark_domain': 0,\n",
       " 'qty_equal_domain': 0,\n",
       " 'qty_at_domain': 0,\n",
       " 'qty_and_domain': 0,\n",
       " 'qty_exclamation_domain': 0,\n",
       " 'qty_space_domain': 0,\n",
       " 'qty_tilde_domain': 0,\n",
       " 'qty_comma_domain': 0,\n",
       " 'qty_plus_domain': 0,\n",
       " 'qty_asterisk_domain': 0,\n",
       " 'qty_hashtag_domain': 0,\n",
       " 'qty_dollar_domain': 0,\n",
       " 'qty_percent_domain': 0,\n",
       " 'qty_vowels_domain': 3,\n",
       " 'domain_length': 6,\n",
       " 'domain_in_ip': False,\n",
       " 'server_client_domain': False}"
      ]
     },
     "execution_count": 103,
     "metadata": {},
     "output_type": "execute_result"
    }
   ],
   "source": [
    "table_2"
   ]
  },
  {
   "cell_type": "code",
   "execution_count": 104,
   "id": "432f8f8e-9253-4cb8-b479-f132982bd61a",
   "metadata": {},
   "outputs": [],
   "source": [
    "t3_counts = build_counts(count_chars(os.path.split(urlparse(test_url).path)[0].lstrip('/')), 'directory')"
   ]
  },
  {
   "cell_type": "code",
   "execution_count": 105,
   "id": "962aa7bf-9123-4f07-b6d9-630ddbe490f8",
   "metadata": {},
   "outputs": [],
   "source": [
    "table_3 = table_3_features(test_url, t3_counts)"
   ]
  },
  {
   "cell_type": "code",
   "execution_count": 106,
   "id": "3fa8899c-18a0-4ae0-ae3e-7a16c21e45bf",
   "metadata": {},
   "outputs": [
    {
     "data": {
      "text/plain": [
       "{'qty_dot_directory': -1,\n",
       " 'qty_hyphen_directory': -1,\n",
       " 'qty_underline_directory': -1,\n",
       " 'qty_slash_directory': -1,\n",
       " 'qty_questionmark_directory': -1,\n",
       " 'qty_equal_directory': -1,\n",
       " 'qty_at_directory': -1,\n",
       " 'qty_and_directory': -1,\n",
       " 'qty_exclamation_directory': -1,\n",
       " 'qty_space_directory': -1,\n",
       " 'qty_tilde_directory': -1,\n",
       " 'qty_comma_directory': -1,\n",
       " 'qty_plus_directory': -1,\n",
       " 'qty_asterisk_directory': -1,\n",
       " 'qty_hashtag_directory': -1,\n",
       " 'qty_dollar_directory': -1,\n",
       " 'qty_percent_directory': -1,\n",
       " 'directory_length': -1}"
      ]
     },
     "execution_count": 106,
     "metadata": {},
     "output_type": "execute_result"
    }
   ],
   "source": [
    "table_3"
   ]
  },
  {
   "cell_type": "code",
   "execution_count": 107,
   "id": "46cebb89-bb73-408b-b1f7-09f0ab9c2843",
   "metadata": {},
   "outputs": [],
   "source": [
    "t4_counts = build_counts(count_chars(os.path.split(urlparse(test_url).path)[1]), 'file')"
   ]
  },
  {
   "cell_type": "code",
   "execution_count": 108,
   "id": "97588080-a35d-4ba9-9f9a-21c7b9af3e69",
   "metadata": {},
   "outputs": [],
   "source": [
    "table_4 = table_4_features(test_url, t4_counts)"
   ]
  },
  {
   "cell_type": "code",
   "execution_count": 109,
   "id": "961b0675-e4ea-4264-994d-c3d647278780",
   "metadata": {},
   "outputs": [
    {
     "data": {
      "text/plain": [
       "{'qty_dot_file': 0,\n",
       " 'qty_hyphen_file': 0,\n",
       " 'qty_underline_file': 0,\n",
       " 'qty_slash_file': 0,\n",
       " 'qty_questionmark_file': 0,\n",
       " 'qty_equal_file': 0,\n",
       " 'qty_at_file': 0,\n",
       " 'qty_and_file': 0,\n",
       " 'qty_exclamation_file': 0,\n",
       " 'qty_space_file': 0,\n",
       " 'qty_tilde_file': 0,\n",
       " 'qty_comma_file': 0,\n",
       " 'qty_plus_file': 0,\n",
       " 'qty_asterisk_file': 0,\n",
       " 'qty_hashtag_file': 0,\n",
       " 'qty_dollar_file': 0,\n",
       " 'qty_percent_file': 0,\n",
       " 'file_length': 6}"
      ]
     },
     "execution_count": 109,
     "metadata": {},
     "output_type": "execute_result"
    }
   ],
   "source": [
    "table_4"
   ]
  },
  {
   "cell_type": "code",
   "execution_count": 110,
   "id": "132b5613-b5bd-4602-8a03-b82b00418f37",
   "metadata": {},
   "outputs": [],
   "source": [
    "t5_counts = build_counts(count_chars(urlparse(test_url).query), 'params')"
   ]
  },
  {
   "cell_type": "code",
   "execution_count": 111,
   "id": "eebf5f9d-1093-43de-98db-6880ece96f1f",
   "metadata": {},
   "outputs": [],
   "source": [
    "table_5 = table_5_features(test_url, t5_counts)"
   ]
  },
  {
   "cell_type": "code",
   "execution_count": 112,
   "id": "e608b6aa-8376-44d0-9fe2-b0a4cf9579c1",
   "metadata": {},
   "outputs": [
    {
     "data": {
      "text/plain": [
       "{'qty_dot_params': 0,\n",
       " 'qty_hyphen_params': 0,\n",
       " 'qty_underline_params': 0,\n",
       " 'qty_slash_params': 0,\n",
       " 'qty_questionmark_params': 0,\n",
       " 'qty_equal_params': 1,\n",
       " 'qty_at_params': 0,\n",
       " 'qty_and_params': 0,\n",
       " 'qty_exclamation_params': 0,\n",
       " 'qty_space_params': 0,\n",
       " 'qty_tilde_params': 0,\n",
       " 'qty_comma_params': 0,\n",
       " 'qty_plus_params': 0,\n",
       " 'qty_asterisk_params': 0,\n",
       " 'qty_hashtag_params': 0,\n",
       " 'qty_dollar_params': 0,\n",
       " 'qty_percent_params': 0,\n",
       " 'params_length': 6,\n",
       " 'tld_present_params': False,\n",
       " 'qty_params': 1}"
      ]
     },
     "execution_count": 112,
     "metadata": {},
     "output_type": "execute_result"
    }
   ],
   "source": [
    "table_5"
   ]
  },
  {
   "cell_type": "code",
   "execution_count": 27,
   "id": "51f32e71-1ed4-40d4-a1ef-342b21cb6fe6",
   "metadata": {},
   "outputs": [],
   "source": [
    "table_6 = table_6_features(test_url)"
   ]
  },
  {
   "cell_type": "code",
   "execution_count": 28,
   "id": "2b3af16a-a3f1-4a0f-a51a-ad65ba78ec08",
   "metadata": {},
   "outputs": [
    {
     "data": {
      "text/plain": [
       "{'time_response': 3.605365753173828,\n",
       " 'domain_spf': True,\n",
       " 'asn_ip': '15169',\n",
       " 'time_domain_activation': 9121,\n",
       " 'time_domain_expiration': 2200,\n",
       " 'qty_ip_resolved': 1,\n",
       " 'qty_nameservers': 4,\n",
       " 'qty_mx_servers': 1,\n",
       " 'ttl_hostname': 217,\n",
       " 'tls_ssl_certificate': True,\n",
       " 'qty_redirects': 1,\n",
       " 'url_google_index': 0,\n",
       " 'domain_google_index': 0,\n",
       " 'url_shortened': False}"
      ]
     },
     "execution_count": 28,
     "metadata": {},
     "output_type": "execute_result"
    }
   ],
   "source": [
    "table_6"
   ]
  },
  {
   "cell_type": "code",
   "execution_count": 42,
   "id": "6ecd87e4-62c2-4e7b-bf47-b3146c777fe2",
   "metadata": {},
   "outputs": [
    {
     "data": {
      "text/plain": [
       "qty_dot_url                 2\n",
       "qty_hyphen_url              0\n",
       "qty_underline_url           0\n",
       "qty_slash_url               3\n",
       "qty_questionmark_url        1\n",
       "                        ...  \n",
       "tls_ssl_certificate      True\n",
       "qty_redirects               1\n",
       "url_google_index            0\n",
       "domain_google_index         0\n",
       "url_shortened           False\n",
       "Length: 111, dtype: object"
      ]
     },
     "execution_count": 42,
     "metadata": {},
     "output_type": "execute_result"
    }
   ],
   "source": [
    "pd.Series(table_1 | table_2 | table_3 | table_4 | table_5 | table_6)"
   ]
  },
  {
   "cell_type": "code",
   "execution_count": 118,
   "id": "727309f2-5b8f-4970-a4f6-8a924d076c35",
   "metadata": {},
   "outputs": [],
   "source": [
    "def build_inference(url):\n",
    "    t1_counts = build_counts(count_chars(test_url), 'url')\n",
    "    table_1 = table_1_features(test_url, t1_counts)\n",
    "    t2_counts = build_counts(count_chars(tldextract.extract(test_url).domain), 'domain')\n",
    "    table_2 = table_2_features(test_url, t2_counts)\n",
    "    t3_counts = build_counts(count_chars(os.path.split(urlparse(test_url).path)[0].lstrip('/')), 'directory')\n",
    "    table_3 = table_3_features(test_url, t3_counts)\n",
    "    t4_counts = build_counts(count_chars(os.path.split(urlparse(test_url).path)[1]), 'file')\n",
    "    table_4 = table_4_features(test_url, t4_counts)\n",
    "    t5_counts = build_counts(count_chars(urlparse(test_url).query), 'params')\n",
    "    table_5 = table_5_features(test_url, t5_counts)\n",
    "    table_6 = table_6_features(test_url)\n",
    "    return pd.Series(table_1 | table_2 | table_3 | table_4 | table_5 | table_6)"
   ]
  },
  {
   "cell_type": "code",
   "execution_count": 116,
   "id": "5105cc43-23e6-4373-97ef-89c6d5c0a68d",
   "metadata": {},
   "outputs": [],
   "source": [
    "u = build_inference(test_url)"
   ]
  },
  {
   "cell_type": "code",
   "execution_count": 117,
   "id": "3a3e7934-4f04-4cb0-9b1c-21aee03cd3a1",
   "metadata": {},
   "outputs": [
    {
     "data": {
      "text/plain": [
       "qty_dot_url                 2\n",
       "qty_hyphen_url              0\n",
       "qty_underline_url           0\n",
       "qty_slash_url               3\n",
       "qty_questionmark_url        1\n",
       "                        ...  \n",
       "tls_ssl_certificate      True\n",
       "qty_redirects               1\n",
       "url_google_index            0\n",
       "domain_google_index         0\n",
       "url_shortened           False\n",
       "Length: 111, dtype: object"
      ]
     },
     "execution_count": 117,
     "metadata": {},
     "output_type": "execute_result"
    }
   ],
   "source": [
    "u"
   ]
  },
  {
   "cell_type": "code",
   "execution_count": null,
   "id": "d7ca004f-b204-4e13-96fd-d16a005fe2f7",
   "metadata": {},
   "outputs": [],
   "source": []
  }
 ],
 "metadata": {
  "kernelspec": {
   "display_name": "Python 3 (ipykernel)",
   "language": "python",
   "name": "python3"
  },
  "language_info": {
   "codemirror_mode": {
    "name": "ipython",
    "version": 3
   },
   "file_extension": ".py",
   "mimetype": "text/x-python",
   "name": "python",
   "nbconvert_exporter": "python",
   "pygments_lexer": "ipython3",
   "version": "3.10.6"
  }
 },
 "nbformat": 4,
 "nbformat_minor": 5
}
