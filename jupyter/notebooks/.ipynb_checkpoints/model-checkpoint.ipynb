{
 "cells": [
  {
   "cell_type": "code",
   "execution_count": null,
   "id": "4cede228-baad-492b-b6ab-50f8d8ac2e20",
   "metadata": {},
   "outputs": [],
   "source": [
    "# !conda install -y catboost tensorflow"
   ]
  },
  {
   "cell_type": "code",
   "execution_count": 2,
   "id": "e79a3dcd-1dda-4abb-9046-9e9cc9f65c03",
   "metadata": {},
   "outputs": [],
   "source": [
    "import os\n",
    "\n",
    "from catboost import CatBoostClassifier, CatBoostRegressor, Pool\n",
    "from catboost.utils import get_confusion_matrix\n",
    "import datetime\n",
    "import matplotlib.pyplot as plt\n",
    "import numpy as np\n",
    "import pandas as pd\n",
    "import psycopg2\n",
    "import shap\n",
    "from sklearn.compose import ColumnTransformer\n",
    "from sklearn.decomposition import PCA\n",
    "from sklearn.linear_model import LogisticRegression\n",
    "from sklearn.metrics import classification_report\n",
    "from sklearn.model_selection import GridSearchCV, train_test_split\n",
    "from sklearn.pipeline import Pipeline\n",
    "from sklearn.preprocessing import MinMaxScaler, OneHotEncoder, StandardScaler\n",
    "import tensorflow as tf\n",
    "from tensorflow.keras.layers import Dense, Dropout\n",
    "from tensorflow.keras.utils import plot_model\n",
    "from scikeras.wrappers import KerasClassifier\n",
    "import xgboost as xgb"
   ]
  },
  {
   "cell_type": "code",
   "execution_count": 3,
   "id": "6a956210-279b-4575-87a1-152091c64f09",
   "metadata": {},
   "outputs": [],
   "source": [
    "np.set_printoptions(suppress=True)"
   ]
  },
  {
   "cell_type": "code",
   "execution_count": 4,
   "id": "1c16335a-bb6a-4301-98e4-8b17b5fc60c9",
   "metadata": {},
   "outputs": [
    {
     "name": "stderr",
     "output_type": "stream",
     "text": [
      "pandas only support SQLAlchemy connectable(engine/connection) ordatabase string URI or sqlite3 DBAPI2 connectionother DBAPI2 objects are not tested, please consider using SQLAlchemy\n"
     ]
    }
   ],
   "source": [
    "with psycopg2.connect(user='daan', password=os.environ['JUPYTER_TOKEN'], host='pg', port=5432, dbname='phishing_data') as cx:\n",
    "    data = pd.read_sql_query('select * from full_dataset', cx)"
   ]
  },
  {
   "cell_type": "code",
   "execution_count": 5,
   "id": "aa0037c1-7ec8-4711-b5f0-aa7d1c27df8d",
   "metadata": {},
   "outputs": [],
   "source": [
    "constant_features = [data.columns.get_loc(x) for x in data.nunique()[(data.nunique()==1)].index.to_list()]"
   ]
  },
  {
   "cell_type": "code",
   "execution_count": 6,
   "id": "57b2074e-9fa5-4214-9a45-456b013e95ed",
   "metadata": {},
   "outputs": [],
   "source": [
    "constant_feature_names = data.columns[constant_features].to_list()"
   ]
  },
  {
   "cell_type": "code",
   "execution_count": 7,
   "id": "00c922b7-ff7f-462c-8b80-fdbcc01a26a2",
   "metadata": {},
   "outputs": [],
   "source": [
    "# drop features that are constant\n",
    "data.drop(constant_feature_names, axis=1, inplace=True)"
   ]
  },
  {
   "cell_type": "code",
   "execution_count": 8,
   "id": "9bdbde55-65f7-464d-9895-7f3380868729",
   "metadata": {},
   "outputs": [
    {
     "data": {
      "text/html": [
       "<div>\n",
       "<style scoped>\n",
       "    .dataframe tbody tr th:only-of-type {\n",
       "        vertical-align: middle;\n",
       "    }\n",
       "\n",
       "    .dataframe tbody tr th {\n",
       "        vertical-align: top;\n",
       "    }\n",
       "\n",
       "    .dataframe thead th {\n",
       "        text-align: right;\n",
       "    }\n",
       "</style>\n",
       "<table border=\"1\" class=\"dataframe\">\n",
       "  <thead>\n",
       "    <tr style=\"text-align: right;\">\n",
       "      <th></th>\n",
       "      <th>qty_dot_url</th>\n",
       "      <th>qty_hyphen_url</th>\n",
       "      <th>qty_underline_url</th>\n",
       "      <th>qty_slash_url</th>\n",
       "      <th>qty_questionmark_url</th>\n",
       "      <th>qty_equal_url</th>\n",
       "      <th>qty_at_url</th>\n",
       "      <th>qty_and_url</th>\n",
       "      <th>qty_exclamation_url</th>\n",
       "      <th>qty_space_url</th>\n",
       "      <th>...</th>\n",
       "      <th>qty_ip_resolved</th>\n",
       "      <th>qty_nameservers</th>\n",
       "      <th>qty_mx_servers</th>\n",
       "      <th>ttl_hostname</th>\n",
       "      <th>tls_ssl_certificate</th>\n",
       "      <th>qty_redirects</th>\n",
       "      <th>url_google_index</th>\n",
       "      <th>domain_google_index</th>\n",
       "      <th>url_shortened</th>\n",
       "      <th>phishing</th>\n",
       "    </tr>\n",
       "  </thead>\n",
       "  <tbody>\n",
       "    <tr>\n",
       "      <th>0</th>\n",
       "      <td>3</td>\n",
       "      <td>0</td>\n",
       "      <td>0</td>\n",
       "      <td>1</td>\n",
       "      <td>0</td>\n",
       "      <td>0</td>\n",
       "      <td>0</td>\n",
       "      <td>0</td>\n",
       "      <td>0</td>\n",
       "      <td>0</td>\n",
       "      <td>...</td>\n",
       "      <td>1</td>\n",
       "      <td>2</td>\n",
       "      <td>0</td>\n",
       "      <td>892</td>\n",
       "      <td>0</td>\n",
       "      <td>0</td>\n",
       "      <td>0</td>\n",
       "      <td>0</td>\n",
       "      <td>0</td>\n",
       "      <td>1</td>\n",
       "    </tr>\n",
       "    <tr>\n",
       "      <th>1</th>\n",
       "      <td>5</td>\n",
       "      <td>0</td>\n",
       "      <td>1</td>\n",
       "      <td>3</td>\n",
       "      <td>0</td>\n",
       "      <td>3</td>\n",
       "      <td>0</td>\n",
       "      <td>2</td>\n",
       "      <td>0</td>\n",
       "      <td>0</td>\n",
       "      <td>...</td>\n",
       "      <td>1</td>\n",
       "      <td>2</td>\n",
       "      <td>1</td>\n",
       "      <td>9540</td>\n",
       "      <td>1</td>\n",
       "      <td>0</td>\n",
       "      <td>0</td>\n",
       "      <td>0</td>\n",
       "      <td>0</td>\n",
       "      <td>1</td>\n",
       "    </tr>\n",
       "    <tr>\n",
       "      <th>2</th>\n",
       "      <td>2</td>\n",
       "      <td>0</td>\n",
       "      <td>0</td>\n",
       "      <td>1</td>\n",
       "      <td>0</td>\n",
       "      <td>0</td>\n",
       "      <td>0</td>\n",
       "      <td>0</td>\n",
       "      <td>0</td>\n",
       "      <td>0</td>\n",
       "      <td>...</td>\n",
       "      <td>1</td>\n",
       "      <td>2</td>\n",
       "      <td>3</td>\n",
       "      <td>589</td>\n",
       "      <td>1</td>\n",
       "      <td>0</td>\n",
       "      <td>0</td>\n",
       "      <td>0</td>\n",
       "      <td>0</td>\n",
       "      <td>0</td>\n",
       "    </tr>\n",
       "    <tr>\n",
       "      <th>3</th>\n",
       "      <td>4</td>\n",
       "      <td>0</td>\n",
       "      <td>2</td>\n",
       "      <td>5</td>\n",
       "      <td>0</td>\n",
       "      <td>0</td>\n",
       "      <td>0</td>\n",
       "      <td>0</td>\n",
       "      <td>0</td>\n",
       "      <td>0</td>\n",
       "      <td>...</td>\n",
       "      <td>1</td>\n",
       "      <td>2</td>\n",
       "      <td>0</td>\n",
       "      <td>292</td>\n",
       "      <td>1</td>\n",
       "      <td>0</td>\n",
       "      <td>0</td>\n",
       "      <td>0</td>\n",
       "      <td>0</td>\n",
       "      <td>1</td>\n",
       "    </tr>\n",
       "    <tr>\n",
       "      <th>4</th>\n",
       "      <td>2</td>\n",
       "      <td>0</td>\n",
       "      <td>0</td>\n",
       "      <td>0</td>\n",
       "      <td>0</td>\n",
       "      <td>0</td>\n",
       "      <td>0</td>\n",
       "      <td>0</td>\n",
       "      <td>0</td>\n",
       "      <td>0</td>\n",
       "      <td>...</td>\n",
       "      <td>1</td>\n",
       "      <td>2</td>\n",
       "      <td>1</td>\n",
       "      <td>3597</td>\n",
       "      <td>0</td>\n",
       "      <td>1</td>\n",
       "      <td>0</td>\n",
       "      <td>0</td>\n",
       "      <td>0</td>\n",
       "      <td>0</td>\n",
       "    </tr>\n",
       "  </tbody>\n",
       "</table>\n",
       "<p>5 rows × 99 columns</p>\n",
       "</div>"
      ],
      "text/plain": [
       "   qty_dot_url  qty_hyphen_url  qty_underline_url  qty_slash_url  \\\n",
       "0            3               0                  0              1   \n",
       "1            5               0                  1              3   \n",
       "2            2               0                  0              1   \n",
       "3            4               0                  2              5   \n",
       "4            2               0                  0              0   \n",
       "\n",
       "   qty_questionmark_url  qty_equal_url  qty_at_url  qty_and_url  \\\n",
       "0                     0              0           0            0   \n",
       "1                     0              3           0            2   \n",
       "2                     0              0           0            0   \n",
       "3                     0              0           0            0   \n",
       "4                     0              0           0            0   \n",
       "\n",
       "   qty_exclamation_url  qty_space_url  ...  qty_ip_resolved  qty_nameservers  \\\n",
       "0                    0              0  ...                1                2   \n",
       "1                    0              0  ...                1                2   \n",
       "2                    0              0  ...                1                2   \n",
       "3                    0              0  ...                1                2   \n",
       "4                    0              0  ...                1                2   \n",
       "\n",
       "   qty_mx_servers  ttl_hostname  tls_ssl_certificate  qty_redirects  \\\n",
       "0               0           892                    0              0   \n",
       "1               1          9540                    1              0   \n",
       "2               3           589                    1              0   \n",
       "3               0           292                    1              0   \n",
       "4               1          3597                    0              1   \n",
       "\n",
       "   url_google_index  domain_google_index  url_shortened  phishing  \n",
       "0                 0                    0              0         1  \n",
       "1                 0                    0              0         1  \n",
       "2                 0                    0              0         0  \n",
       "3                 0                    0              0         1  \n",
       "4                 0                    0              0         0  \n",
       "\n",
       "[5 rows x 99 columns]"
      ]
     },
     "execution_count": 8,
     "metadata": {},
     "output_type": "execute_result"
    }
   ],
   "source": [
    "data.head()"
   ]
  },
  {
   "cell_type": "code",
   "execution_count": 9,
   "id": "60bda7b4-e064-43d5-9397-9eca7035a40c",
   "metadata": {},
   "outputs": [],
   "source": [
    "X_train, X_test, y_train, y_test = train_test_split(data.iloc[:,:-1], data.phishing, random_state=42)"
   ]
  },
  {
   "cell_type": "code",
   "execution_count": 10,
   "id": "8ad7af1b-529f-4045-a9b8-f9948d3f6b82",
   "metadata": {},
   "outputs": [],
   "source": [
    "cat_features = [X_train.columns.get_loc(x) for x in X_train.nunique()[(X_train.nunique()<3)].index.to_list()]"
   ]
  },
  {
   "cell_type": "markdown",
   "id": "1d4cf64a-6f5c-4e75-ad5d-d86d4e48cbd9",
   "metadata": {
    "tags": []
   },
   "source": [
    "## Logistic Regression"
   ]
  },
  {
   "cell_type": "code",
   "execution_count": 11,
   "id": "766fdb79-3ae1-431e-aa29-8c44e55e9328",
   "metadata": {},
   "outputs": [],
   "source": [
    "cat_feature_names = X_train.columns[cat_features]\n",
    "numeric_feature_names = X_train.columns.difference(cat_feature_names)"
   ]
  },
  {
   "cell_type": "code",
   "execution_count": 12,
   "id": "0dea9c87-d266-491a-8fad-29d7ebbab40a",
   "metadata": {},
   "outputs": [],
   "source": [
    "numeric_transformer = MinMaxScaler()\n",
    "cat_transformer = OneHotEncoder(handle_unknown='infrequent_if_exist')\n",
    "\n",
    "transform = ColumnTransformer(transformers=[\n",
    "    ('numeric', numeric_transformer, [X_train.columns.get_loc(x) for x in numeric_feature_names]),\n",
    "    ('categorical', cat_transformer, [X_train.columns.get_loc(x) for x in cat_feature_names])\n",
    "])"
   ]
  },
  {
   "cell_type": "code",
   "execution_count": 13,
   "id": "d1d9a782-1fe3-40fc-b649-82b2492d53a8",
   "metadata": {},
   "outputs": [],
   "source": [
    "pipe = Pipeline(steps=[\n",
    "    ('transform', transform),\n",
    "    ('predict', LogisticRegression(C=10, max_iter=1000, n_jobs=-1, solver='sag')) \n",
    "])"
   ]
  },
  {
   "cell_type": "code",
   "execution_count": 14,
   "id": "92110c63-f355-4d51-94c9-44a05a31d665",
   "metadata": {},
   "outputs": [
    {
     "data": {
      "text/html": [
       "<style>#sk-container-id-1 {color: black;background-color: white;}#sk-container-id-1 pre{padding: 0;}#sk-container-id-1 div.sk-toggleable {background-color: white;}#sk-container-id-1 label.sk-toggleable__label {cursor: pointer;display: block;width: 100%;margin-bottom: 0;padding: 0.3em;box-sizing: border-box;text-align: center;}#sk-container-id-1 label.sk-toggleable__label-arrow:before {content: \"▸\";float: left;margin-right: 0.25em;color: #696969;}#sk-container-id-1 label.sk-toggleable__label-arrow:hover:before {color: black;}#sk-container-id-1 div.sk-estimator:hover label.sk-toggleable__label-arrow:before {color: black;}#sk-container-id-1 div.sk-toggleable__content {max-height: 0;max-width: 0;overflow: hidden;text-align: left;background-color: #f0f8ff;}#sk-container-id-1 div.sk-toggleable__content pre {margin: 0.2em;color: black;border-radius: 0.25em;background-color: #f0f8ff;}#sk-container-id-1 input.sk-toggleable__control:checked~div.sk-toggleable__content {max-height: 200px;max-width: 100%;overflow: auto;}#sk-container-id-1 input.sk-toggleable__control:checked~label.sk-toggleable__label-arrow:before {content: \"▾\";}#sk-container-id-1 div.sk-estimator input.sk-toggleable__control:checked~label.sk-toggleable__label {background-color: #d4ebff;}#sk-container-id-1 div.sk-label input.sk-toggleable__control:checked~label.sk-toggleable__label {background-color: #d4ebff;}#sk-container-id-1 input.sk-hidden--visually {border: 0;clip: rect(1px 1px 1px 1px);clip: rect(1px, 1px, 1px, 1px);height: 1px;margin: -1px;overflow: hidden;padding: 0;position: absolute;width: 1px;}#sk-container-id-1 div.sk-estimator {font-family: monospace;background-color: #f0f8ff;border: 1px dotted black;border-radius: 0.25em;box-sizing: border-box;margin-bottom: 0.5em;}#sk-container-id-1 div.sk-estimator:hover {background-color: #d4ebff;}#sk-container-id-1 div.sk-parallel-item::after {content: \"\";width: 100%;border-bottom: 1px solid gray;flex-grow: 1;}#sk-container-id-1 div.sk-label:hover label.sk-toggleable__label {background-color: #d4ebff;}#sk-container-id-1 div.sk-serial::before {content: \"\";position: absolute;border-left: 1px solid gray;box-sizing: border-box;top: 0;bottom: 0;left: 50%;z-index: 0;}#sk-container-id-1 div.sk-serial {display: flex;flex-direction: column;align-items: center;background-color: white;padding-right: 0.2em;padding-left: 0.2em;position: relative;}#sk-container-id-1 div.sk-item {position: relative;z-index: 1;}#sk-container-id-1 div.sk-parallel {display: flex;align-items: stretch;justify-content: center;background-color: white;position: relative;}#sk-container-id-1 div.sk-item::before, #sk-container-id-1 div.sk-parallel-item::before {content: \"\";position: absolute;border-left: 1px solid gray;box-sizing: border-box;top: 0;bottom: 0;left: 50%;z-index: -1;}#sk-container-id-1 div.sk-parallel-item {display: flex;flex-direction: column;z-index: 1;position: relative;background-color: white;}#sk-container-id-1 div.sk-parallel-item:first-child::after {align-self: flex-end;width: 50%;}#sk-container-id-1 div.sk-parallel-item:last-child::after {align-self: flex-start;width: 50%;}#sk-container-id-1 div.sk-parallel-item:only-child::after {width: 0;}#sk-container-id-1 div.sk-dashed-wrapped {border: 1px dashed gray;margin: 0 0.4em 0.5em 0.4em;box-sizing: border-box;padding-bottom: 0.4em;background-color: white;}#sk-container-id-1 div.sk-label label {font-family: monospace;font-weight: bold;display: inline-block;line-height: 1.2em;}#sk-container-id-1 div.sk-label-container {text-align: center;}#sk-container-id-1 div.sk-container {/* jupyter's `normalize.less` sets `[hidden] { display: none; }` but bootstrap.min.css set `[hidden] { display: none !important; }` so we also need the `!important` here to be able to override the default hidden behavior on the sphinx rendered scikit-learn.org. See: https://github.com/scikit-learn/scikit-learn/issues/21755 */display: inline-block !important;position: relative;}#sk-container-id-1 div.sk-text-repr-fallback {display: none;}</style><div id=\"sk-container-id-1\" class=\"sk-top-container\"><div class=\"sk-text-repr-fallback\"><pre>Pipeline(steps=[(&#x27;transform&#x27;,\n",
       "                 ColumnTransformer(transformers=[(&#x27;numeric&#x27;, MinMaxScaler(),\n",
       "                                                  [86, 44, 96, 24, 85, 62, 18,\n",
       "                                                   80, 34, 52, 70, 7, 40, 58,\n",
       "                                                   76, 13, 33, 51, 69, 6, 38,\n",
       "                                                   56, 74, 11, 42, 78, 15, 27,\n",
       "                                                   19, 45, ...]),\n",
       "                                                 (&#x27;categorical&#x27;,\n",
       "                                                  OneHotEncoder(handle_unknown=&#x27;infrequent_if_exist&#x27;),\n",
       "                                                  [22, 25, 26, 31, 41, 48, 49,\n",
       "                                                   59, 60, 77, 83, 93, 97])])),\n",
       "                (&#x27;predict&#x27;,\n",
       "                 LogisticRegression(C=10, max_iter=1000, n_jobs=-1,\n",
       "                                    solver=&#x27;sag&#x27;))])</pre><b>In a Jupyter environment, please rerun this cell to show the HTML representation or trust the notebook. <br />On GitHub, the HTML representation is unable to render, please try loading this page with nbviewer.org.</b></div><div class=\"sk-container\" hidden><div class=\"sk-item sk-dashed-wrapped\"><div class=\"sk-label-container\"><div class=\"sk-label sk-toggleable\"><input class=\"sk-toggleable__control sk-hidden--visually\" id=\"sk-estimator-id-1\" type=\"checkbox\" ><label for=\"sk-estimator-id-1\" class=\"sk-toggleable__label sk-toggleable__label-arrow\">Pipeline</label><div class=\"sk-toggleable__content\"><pre>Pipeline(steps=[(&#x27;transform&#x27;,\n",
       "                 ColumnTransformer(transformers=[(&#x27;numeric&#x27;, MinMaxScaler(),\n",
       "                                                  [86, 44, 96, 24, 85, 62, 18,\n",
       "                                                   80, 34, 52, 70, 7, 40, 58,\n",
       "                                                   76, 13, 33, 51, 69, 6, 38,\n",
       "                                                   56, 74, 11, 42, 78, 15, 27,\n",
       "                                                   19, 45, ...]),\n",
       "                                                 (&#x27;categorical&#x27;,\n",
       "                                                  OneHotEncoder(handle_unknown=&#x27;infrequent_if_exist&#x27;),\n",
       "                                                  [22, 25, 26, 31, 41, 48, 49,\n",
       "                                                   59, 60, 77, 83, 93, 97])])),\n",
       "                (&#x27;predict&#x27;,\n",
       "                 LogisticRegression(C=10, max_iter=1000, n_jobs=-1,\n",
       "                                    solver=&#x27;sag&#x27;))])</pre></div></div></div><div class=\"sk-serial\"><div class=\"sk-item sk-dashed-wrapped\"><div class=\"sk-label-container\"><div class=\"sk-label sk-toggleable\"><input class=\"sk-toggleable__control sk-hidden--visually\" id=\"sk-estimator-id-2\" type=\"checkbox\" ><label for=\"sk-estimator-id-2\" class=\"sk-toggleable__label sk-toggleable__label-arrow\">transform: ColumnTransformer</label><div class=\"sk-toggleable__content\"><pre>ColumnTransformer(transformers=[(&#x27;numeric&#x27;, MinMaxScaler(),\n",
       "                                 [86, 44, 96, 24, 85, 62, 18, 80, 34, 52, 70, 7,\n",
       "                                  40, 58, 76, 13, 33, 51, 69, 6, 38, 56, 74, 11,\n",
       "                                  42, 78, 15, 27, 19, 45, ...]),\n",
       "                                (&#x27;categorical&#x27;,\n",
       "                                 OneHotEncoder(handle_unknown=&#x27;infrequent_if_exist&#x27;),\n",
       "                                 [22, 25, 26, 31, 41, 48, 49, 59, 60, 77, 83,\n",
       "                                  93, 97])])</pre></div></div></div><div class=\"sk-parallel\"><div class=\"sk-parallel-item\"><div class=\"sk-item\"><div class=\"sk-label-container\"><div class=\"sk-label sk-toggleable\"><input class=\"sk-toggleable__control sk-hidden--visually\" id=\"sk-estimator-id-3\" type=\"checkbox\" ><label for=\"sk-estimator-id-3\" class=\"sk-toggleable__label sk-toggleable__label-arrow\">numeric</label><div class=\"sk-toggleable__content\"><pre>[86, 44, 96, 24, 85, 62, 18, 80, 34, 52, 70, 7, 40, 58, 76, 13, 33, 51, 69, 6, 38, 56, 74, 11, 42, 78, 15, 27, 19, 45, 63, 0, 32, 50, 68, 5, 35, 53, 71, 8, 14, 28, 20, 46, 64, 1, 89, 91, 90, 82, 43, 61, 79, 16, 39, 57, 75, 12, 67, 4, 94, 30, 66, 3, 36, 54, 72, 9, 37, 55, 73, 10, 17, 29, 21, 47, 65, 2, 23, 87, 88, 84, 81, 92, 95]</pre></div></div></div><div class=\"sk-serial\"><div class=\"sk-item\"><div class=\"sk-estimator sk-toggleable\"><input class=\"sk-toggleable__control sk-hidden--visually\" id=\"sk-estimator-id-4\" type=\"checkbox\" ><label for=\"sk-estimator-id-4\" class=\"sk-toggleable__label sk-toggleable__label-arrow\">MinMaxScaler</label><div class=\"sk-toggleable__content\"><pre>MinMaxScaler()</pre></div></div></div></div></div></div><div class=\"sk-parallel-item\"><div class=\"sk-item\"><div class=\"sk-label-container\"><div class=\"sk-label sk-toggleable\"><input class=\"sk-toggleable__control sk-hidden--visually\" id=\"sk-estimator-id-5\" type=\"checkbox\" ><label for=\"sk-estimator-id-5\" class=\"sk-toggleable__label sk-toggleable__label-arrow\">categorical</label><div class=\"sk-toggleable__content\"><pre>[22, 25, 26, 31, 41, 48, 49, 59, 60, 77, 83, 93, 97]</pre></div></div></div><div class=\"sk-serial\"><div class=\"sk-item\"><div class=\"sk-estimator sk-toggleable\"><input class=\"sk-toggleable__control sk-hidden--visually\" id=\"sk-estimator-id-6\" type=\"checkbox\" ><label for=\"sk-estimator-id-6\" class=\"sk-toggleable__label sk-toggleable__label-arrow\">OneHotEncoder</label><div class=\"sk-toggleable__content\"><pre>OneHotEncoder(handle_unknown=&#x27;infrequent_if_exist&#x27;)</pre></div></div></div></div></div></div></div></div><div class=\"sk-item\"><div class=\"sk-estimator sk-toggleable\"><input class=\"sk-toggleable__control sk-hidden--visually\" id=\"sk-estimator-id-7\" type=\"checkbox\" ><label for=\"sk-estimator-id-7\" class=\"sk-toggleable__label sk-toggleable__label-arrow\">LogisticRegression</label><div class=\"sk-toggleable__content\"><pre>LogisticRegression(C=10, max_iter=1000, n_jobs=-1, solver=&#x27;sag&#x27;)</pre></div></div></div></div></div></div></div>"
      ],
      "text/plain": [
       "Pipeline(steps=[('transform',\n",
       "                 ColumnTransformer(transformers=[('numeric', MinMaxScaler(),\n",
       "                                                  [86, 44, 96, 24, 85, 62, 18,\n",
       "                                                   80, 34, 52, 70, 7, 40, 58,\n",
       "                                                   76, 13, 33, 51, 69, 6, 38,\n",
       "                                                   56, 74, 11, 42, 78, 15, 27,\n",
       "                                                   19, 45, ...]),\n",
       "                                                 ('categorical',\n",
       "                                                  OneHotEncoder(handle_unknown='infrequent_if_exist'),\n",
       "                                                  [22, 25, 26, 31, 41, 48, 49,\n",
       "                                                   59, 60, 77, 83, 93, 97])])),\n",
       "                ('predict',\n",
       "                 LogisticRegression(C=10, max_iter=1000, n_jobs=-1,\n",
       "                                    solver='sag'))])"
      ]
     },
     "execution_count": 14,
     "metadata": {},
     "output_type": "execute_result"
    }
   ],
   "source": [
    "pipe.fit(X_train, y_train)"
   ]
  },
  {
   "cell_type": "code",
   "execution_count": 15,
   "id": "e067d02b-d967-41ef-adbb-0c77ab745868",
   "metadata": {},
   "outputs": [
    {
     "name": "stdout",
     "output_type": "stream",
     "text": [
      "              precision    recall  f1-score   support\n",
      "\n",
      "           0       0.94      0.96      0.95     42842\n",
      "           1       0.92      0.89      0.90     23643\n",
      "\n",
      "    accuracy                           0.93     66485\n",
      "   macro avg       0.93      0.92      0.93     66485\n",
      "weighted avg       0.93      0.93      0.93     66485\n",
      "\n"
     ]
    }
   ],
   "source": [
    "print(classification_report(pipe.predict(X_train), y_train))"
   ]
  },
  {
   "cell_type": "code",
   "execution_count": 16,
   "id": "40aac410-a088-474d-b8db-978e3c768c0f",
   "metadata": {},
   "outputs": [
    {
     "name": "stdout",
     "output_type": "stream",
     "text": [
      "              precision    recall  f1-score   support\n",
      "\n",
      "           0       0.94      0.95      0.95     14270\n",
      "           1       0.91      0.89      0.90      7892\n",
      "\n",
      "    accuracy                           0.93     22162\n",
      "   macro avg       0.93      0.92      0.92     22162\n",
      "weighted avg       0.93      0.93      0.93     22162\n",
      "\n"
     ]
    }
   ],
   "source": [
    "print(classification_report(pipe.predict(X_test), y_test))"
   ]
  },
  {
   "cell_type": "markdown",
   "id": "7a82ffd2-0f3f-46e9-ae4e-72457675a90e",
   "metadata": {},
   "source": [
    "### Grid Search"
   ]
  },
  {
   "cell_type": "code",
   "execution_count": 18,
   "id": "3e59d5d9-44fd-433e-ae1b-1927f0d67df7",
   "metadata": {},
   "outputs": [],
   "source": [
    "# https://scikit-learn.org/stable/tutorial/statistical_inference/putting_together.html\n",
    "# https://scikit-learn.org/stable/auto_examples/model_selection/plot_multi_metric_evaluation.html#sphx-glr-auto-examples-model-selection-plot-multi-metric-evaluation-py\n",
    "scoring = ['accuracy', 'f1', 'roc_auc']\n",
    "\n",
    "param_grid = {'C': np.logspace(-3, 2, 6)}\n",
    "\n",
    "pipe = Pipeline(steps=[\n",
    "    ('transform', transform),\n",
    "    ('predict', GridSearchCV(LogisticRegression(max_iter=1000, n_jobs=-1, solver='sag'), param_grid, return_train_score=True, refit='f1', scoring=scoring, n_jobs=-1))\n",
    "])"
   ]
  },
  {
   "cell_type": "code",
   "execution_count": 19,
   "id": "c0727d5b-e7e6-44bf-8d59-411f2764e83f",
   "metadata": {},
   "outputs": [
    {
     "name": "stderr",
     "output_type": "stream",
     "text": [
      "/opt/conda/lib/python3.10/site-packages/sklearn/linear_model/_sag.py:350: ConvergenceWarning: The max_iter was reached which means the coef_ did not converge\n",
      "  warnings.warn(\n",
      "/opt/conda/lib/python3.10/site-packages/sklearn/linear_model/_sag.py:350: ConvergenceWarning: The max_iter was reached which means the coef_ did not converge\n",
      "  warnings.warn(\n",
      "/opt/conda/lib/python3.10/site-packages/sklearn/linear_model/_sag.py:350: ConvergenceWarning: The max_iter was reached which means the coef_ did not converge\n",
      "  warnings.warn(\n",
      "The max_iter was reached which means the coef_ did not converge\n"
     ]
    },
    {
     "data": {
      "text/html": [
       "<style>#sk-container-id-2 {color: black;background-color: white;}#sk-container-id-2 pre{padding: 0;}#sk-container-id-2 div.sk-toggleable {background-color: white;}#sk-container-id-2 label.sk-toggleable__label {cursor: pointer;display: block;width: 100%;margin-bottom: 0;padding: 0.3em;box-sizing: border-box;text-align: center;}#sk-container-id-2 label.sk-toggleable__label-arrow:before {content: \"▸\";float: left;margin-right: 0.25em;color: #696969;}#sk-container-id-2 label.sk-toggleable__label-arrow:hover:before {color: black;}#sk-container-id-2 div.sk-estimator:hover label.sk-toggleable__label-arrow:before {color: black;}#sk-container-id-2 div.sk-toggleable__content {max-height: 0;max-width: 0;overflow: hidden;text-align: left;background-color: #f0f8ff;}#sk-container-id-2 div.sk-toggleable__content pre {margin: 0.2em;color: black;border-radius: 0.25em;background-color: #f0f8ff;}#sk-container-id-2 input.sk-toggleable__control:checked~div.sk-toggleable__content {max-height: 200px;max-width: 100%;overflow: auto;}#sk-container-id-2 input.sk-toggleable__control:checked~label.sk-toggleable__label-arrow:before {content: \"▾\";}#sk-container-id-2 div.sk-estimator input.sk-toggleable__control:checked~label.sk-toggleable__label {background-color: #d4ebff;}#sk-container-id-2 div.sk-label input.sk-toggleable__control:checked~label.sk-toggleable__label {background-color: #d4ebff;}#sk-container-id-2 input.sk-hidden--visually {border: 0;clip: rect(1px 1px 1px 1px);clip: rect(1px, 1px, 1px, 1px);height: 1px;margin: -1px;overflow: hidden;padding: 0;position: absolute;width: 1px;}#sk-container-id-2 div.sk-estimator {font-family: monospace;background-color: #f0f8ff;border: 1px dotted black;border-radius: 0.25em;box-sizing: border-box;margin-bottom: 0.5em;}#sk-container-id-2 div.sk-estimator:hover {background-color: #d4ebff;}#sk-container-id-2 div.sk-parallel-item::after {content: \"\";width: 100%;border-bottom: 1px solid gray;flex-grow: 1;}#sk-container-id-2 div.sk-label:hover label.sk-toggleable__label {background-color: #d4ebff;}#sk-container-id-2 div.sk-serial::before {content: \"\";position: absolute;border-left: 1px solid gray;box-sizing: border-box;top: 0;bottom: 0;left: 50%;z-index: 0;}#sk-container-id-2 div.sk-serial {display: flex;flex-direction: column;align-items: center;background-color: white;padding-right: 0.2em;padding-left: 0.2em;position: relative;}#sk-container-id-2 div.sk-item {position: relative;z-index: 1;}#sk-container-id-2 div.sk-parallel {display: flex;align-items: stretch;justify-content: center;background-color: white;position: relative;}#sk-container-id-2 div.sk-item::before, #sk-container-id-2 div.sk-parallel-item::before {content: \"\";position: absolute;border-left: 1px solid gray;box-sizing: border-box;top: 0;bottom: 0;left: 50%;z-index: -1;}#sk-container-id-2 div.sk-parallel-item {display: flex;flex-direction: column;z-index: 1;position: relative;background-color: white;}#sk-container-id-2 div.sk-parallel-item:first-child::after {align-self: flex-end;width: 50%;}#sk-container-id-2 div.sk-parallel-item:last-child::after {align-self: flex-start;width: 50%;}#sk-container-id-2 div.sk-parallel-item:only-child::after {width: 0;}#sk-container-id-2 div.sk-dashed-wrapped {border: 1px dashed gray;margin: 0 0.4em 0.5em 0.4em;box-sizing: border-box;padding-bottom: 0.4em;background-color: white;}#sk-container-id-2 div.sk-label label {font-family: monospace;font-weight: bold;display: inline-block;line-height: 1.2em;}#sk-container-id-2 div.sk-label-container {text-align: center;}#sk-container-id-2 div.sk-container {/* jupyter's `normalize.less` sets `[hidden] { display: none; }` but bootstrap.min.css set `[hidden] { display: none !important; }` so we also need the `!important` here to be able to override the default hidden behavior on the sphinx rendered scikit-learn.org. See: https://github.com/scikit-learn/scikit-learn/issues/21755 */display: inline-block !important;position: relative;}#sk-container-id-2 div.sk-text-repr-fallback {display: none;}</style><div id=\"sk-container-id-2\" class=\"sk-top-container\"><div class=\"sk-text-repr-fallback\"><pre>Pipeline(steps=[(&#x27;transform&#x27;,\n",
       "                 ColumnTransformer(transformers=[(&#x27;numeric&#x27;, MinMaxScaler(),\n",
       "                                                  [86, 44, 96, 24, 85, 62, 18,\n",
       "                                                   80, 34, 52, 70, 7, 40, 58,\n",
       "                                                   76, 13, 33, 51, 69, 6, 38,\n",
       "                                                   56, 74, 11, 42, 78, 15, 27,\n",
       "                                                   19, 45, ...]),\n",
       "                                                 (&#x27;categorical&#x27;,\n",
       "                                                  OneHotEncoder(handle_unknown=&#x27;infrequent_if_exist&#x27;),\n",
       "                                                  [22, 25, 26, 31, 41, 48, 49,\n",
       "                                                   59, 60, 77, 83, 93, 97])])),\n",
       "                (&#x27;predict&#x27;,\n",
       "                 GridSearchCV(estimator=LogisticRegression(max_iter=1000,\n",
       "                                                           n_jobs=-1,\n",
       "                                                           solver=&#x27;sag&#x27;),\n",
       "                              n_jobs=-1,\n",
       "                              param_grid={&#x27;C&#x27;: array([  0.001,   0.01 ,   0.1  ,   1.   ,  10.   , 100.   ])},\n",
       "                              refit=&#x27;f1&#x27;, return_train_score=True,\n",
       "                              scoring=[&#x27;accuracy&#x27;, &#x27;f1&#x27;, &#x27;roc_auc&#x27;]))])</pre><b>In a Jupyter environment, please rerun this cell to show the HTML representation or trust the notebook. <br />On GitHub, the HTML representation is unable to render, please try loading this page with nbviewer.org.</b></div><div class=\"sk-container\" hidden><div class=\"sk-item sk-dashed-wrapped\"><div class=\"sk-label-container\"><div class=\"sk-label sk-toggleable\"><input class=\"sk-toggleable__control sk-hidden--visually\" id=\"sk-estimator-id-8\" type=\"checkbox\" ><label for=\"sk-estimator-id-8\" class=\"sk-toggleable__label sk-toggleable__label-arrow\">Pipeline</label><div class=\"sk-toggleable__content\"><pre>Pipeline(steps=[(&#x27;transform&#x27;,\n",
       "                 ColumnTransformer(transformers=[(&#x27;numeric&#x27;, MinMaxScaler(),\n",
       "                                                  [86, 44, 96, 24, 85, 62, 18,\n",
       "                                                   80, 34, 52, 70, 7, 40, 58,\n",
       "                                                   76, 13, 33, 51, 69, 6, 38,\n",
       "                                                   56, 74, 11, 42, 78, 15, 27,\n",
       "                                                   19, 45, ...]),\n",
       "                                                 (&#x27;categorical&#x27;,\n",
       "                                                  OneHotEncoder(handle_unknown=&#x27;infrequent_if_exist&#x27;),\n",
       "                                                  [22, 25, 26, 31, 41, 48, 49,\n",
       "                                                   59, 60, 77, 83, 93, 97])])),\n",
       "                (&#x27;predict&#x27;,\n",
       "                 GridSearchCV(estimator=LogisticRegression(max_iter=1000,\n",
       "                                                           n_jobs=-1,\n",
       "                                                           solver=&#x27;sag&#x27;),\n",
       "                              n_jobs=-1,\n",
       "                              param_grid={&#x27;C&#x27;: array([  0.001,   0.01 ,   0.1  ,   1.   ,  10.   , 100.   ])},\n",
       "                              refit=&#x27;f1&#x27;, return_train_score=True,\n",
       "                              scoring=[&#x27;accuracy&#x27;, &#x27;f1&#x27;, &#x27;roc_auc&#x27;]))])</pre></div></div></div><div class=\"sk-serial\"><div class=\"sk-item sk-dashed-wrapped\"><div class=\"sk-label-container\"><div class=\"sk-label sk-toggleable\"><input class=\"sk-toggleable__control sk-hidden--visually\" id=\"sk-estimator-id-9\" type=\"checkbox\" ><label for=\"sk-estimator-id-9\" class=\"sk-toggleable__label sk-toggleable__label-arrow\">transform: ColumnTransformer</label><div class=\"sk-toggleable__content\"><pre>ColumnTransformer(transformers=[(&#x27;numeric&#x27;, MinMaxScaler(),\n",
       "                                 [86, 44, 96, 24, 85, 62, 18, 80, 34, 52, 70, 7,\n",
       "                                  40, 58, 76, 13, 33, 51, 69, 6, 38, 56, 74, 11,\n",
       "                                  42, 78, 15, 27, 19, 45, ...]),\n",
       "                                (&#x27;categorical&#x27;,\n",
       "                                 OneHotEncoder(handle_unknown=&#x27;infrequent_if_exist&#x27;),\n",
       "                                 [22, 25, 26, 31, 41, 48, 49, 59, 60, 77, 83,\n",
       "                                  93, 97])])</pre></div></div></div><div class=\"sk-parallel\"><div class=\"sk-parallel-item\"><div class=\"sk-item\"><div class=\"sk-label-container\"><div class=\"sk-label sk-toggleable\"><input class=\"sk-toggleable__control sk-hidden--visually\" id=\"sk-estimator-id-10\" type=\"checkbox\" ><label for=\"sk-estimator-id-10\" class=\"sk-toggleable__label sk-toggleable__label-arrow\">numeric</label><div class=\"sk-toggleable__content\"><pre>[86, 44, 96, 24, 85, 62, 18, 80, 34, 52, 70, 7, 40, 58, 76, 13, 33, 51, 69, 6, 38, 56, 74, 11, 42, 78, 15, 27, 19, 45, 63, 0, 32, 50, 68, 5, 35, 53, 71, 8, 14, 28, 20, 46, 64, 1, 89, 91, 90, 82, 43, 61, 79, 16, 39, 57, 75, 12, 67, 4, 94, 30, 66, 3, 36, 54, 72, 9, 37, 55, 73, 10, 17, 29, 21, 47, 65, 2, 23, 87, 88, 84, 81, 92, 95]</pre></div></div></div><div class=\"sk-serial\"><div class=\"sk-item\"><div class=\"sk-estimator sk-toggleable\"><input class=\"sk-toggleable__control sk-hidden--visually\" id=\"sk-estimator-id-11\" type=\"checkbox\" ><label for=\"sk-estimator-id-11\" class=\"sk-toggleable__label sk-toggleable__label-arrow\">MinMaxScaler</label><div class=\"sk-toggleable__content\"><pre>MinMaxScaler()</pre></div></div></div></div></div></div><div class=\"sk-parallel-item\"><div class=\"sk-item\"><div class=\"sk-label-container\"><div class=\"sk-label sk-toggleable\"><input class=\"sk-toggleable__control sk-hidden--visually\" id=\"sk-estimator-id-12\" type=\"checkbox\" ><label for=\"sk-estimator-id-12\" class=\"sk-toggleable__label sk-toggleable__label-arrow\">categorical</label><div class=\"sk-toggleable__content\"><pre>[22, 25, 26, 31, 41, 48, 49, 59, 60, 77, 83, 93, 97]</pre></div></div></div><div class=\"sk-serial\"><div class=\"sk-item\"><div class=\"sk-estimator sk-toggleable\"><input class=\"sk-toggleable__control sk-hidden--visually\" id=\"sk-estimator-id-13\" type=\"checkbox\" ><label for=\"sk-estimator-id-13\" class=\"sk-toggleable__label sk-toggleable__label-arrow\">OneHotEncoder</label><div class=\"sk-toggleable__content\"><pre>OneHotEncoder(handle_unknown=&#x27;infrequent_if_exist&#x27;)</pre></div></div></div></div></div></div></div></div><div class=\"sk-item sk-dashed-wrapped\"><div class=\"sk-label-container\"><div class=\"sk-label sk-toggleable\"><input class=\"sk-toggleable__control sk-hidden--visually\" id=\"sk-estimator-id-14\" type=\"checkbox\" ><label for=\"sk-estimator-id-14\" class=\"sk-toggleable__label sk-toggleable__label-arrow\">predict: GridSearchCV</label><div class=\"sk-toggleable__content\"><pre>GridSearchCV(estimator=LogisticRegression(max_iter=1000, n_jobs=-1,\n",
       "                                          solver=&#x27;sag&#x27;),\n",
       "             n_jobs=-1,\n",
       "             param_grid={&#x27;C&#x27;: array([  0.001,   0.01 ,   0.1  ,   1.   ,  10.   , 100.   ])},\n",
       "             refit=&#x27;f1&#x27;, return_train_score=True,\n",
       "             scoring=[&#x27;accuracy&#x27;, &#x27;f1&#x27;, &#x27;roc_auc&#x27;])</pre></div></div></div><div class=\"sk-parallel\"><div class=\"sk-parallel-item\"><div class=\"sk-item\"><div class=\"sk-label-container\"><div class=\"sk-label sk-toggleable\"><input class=\"sk-toggleable__control sk-hidden--visually\" id=\"sk-estimator-id-15\" type=\"checkbox\" ><label for=\"sk-estimator-id-15\" class=\"sk-toggleable__label sk-toggleable__label-arrow\">estimator: LogisticRegression</label><div class=\"sk-toggleable__content\"><pre>LogisticRegression(max_iter=1000, n_jobs=-1, solver=&#x27;sag&#x27;)</pre></div></div></div><div class=\"sk-serial\"><div class=\"sk-item\"><div class=\"sk-estimator sk-toggleable\"><input class=\"sk-toggleable__control sk-hidden--visually\" id=\"sk-estimator-id-16\" type=\"checkbox\" ><label for=\"sk-estimator-id-16\" class=\"sk-toggleable__label sk-toggleable__label-arrow\">LogisticRegression</label><div class=\"sk-toggleable__content\"><pre>LogisticRegression(max_iter=1000, n_jobs=-1, solver=&#x27;sag&#x27;)</pre></div></div></div></div></div></div></div></div></div></div></div></div>"
      ],
      "text/plain": [
       "Pipeline(steps=[('transform',\n",
       "                 ColumnTransformer(transformers=[('numeric', MinMaxScaler(),\n",
       "                                                  [86, 44, 96, 24, 85, 62, 18,\n",
       "                                                   80, 34, 52, 70, 7, 40, 58,\n",
       "                                                   76, 13, 33, 51, 69, 6, 38,\n",
       "                                                   56, 74, 11, 42, 78, 15, 27,\n",
       "                                                   19, 45, ...]),\n",
       "                                                 ('categorical',\n",
       "                                                  OneHotEncoder(handle_unknown='infrequent_if_exist'),\n",
       "                                                  [22, 25, 26, 31, 41, 48, 49,\n",
       "                                                   59, 60, 77, 83, 93, 97])])),\n",
       "                ('predict',\n",
       "                 GridSearchCV(estimator=LogisticRegression(max_iter=1000,\n",
       "                                                           n_jobs=-1,\n",
       "                                                           solver='sag'),\n",
       "                              n_jobs=-1,\n",
       "                              param_grid={'C': array([  0.001,   0.01 ,   0.1  ,   1.   ,  10.   , 100.   ])},\n",
       "                              refit='f1', return_train_score=True,\n",
       "                              scoring=['accuracy', 'f1', 'roc_auc']))])"
      ]
     },
     "execution_count": 19,
     "metadata": {},
     "output_type": "execute_result"
    }
   ],
   "source": [
    "pipe.fit(X_train, y_train)"
   ]
  },
  {
   "cell_type": "code",
   "execution_count": 24,
   "id": "3764e652-e086-4b94-9686-73965535cd43",
   "metadata": {},
   "outputs": [
    {
     "data": {
      "text/plain": [
       "{'C': 100.0}"
      ]
     },
     "execution_count": 24,
     "metadata": {},
     "output_type": "execute_result"
    }
   ],
   "source": [
    "pipe.named_steps['predict'].best_params_"
   ]
  },
  {
   "cell_type": "code",
   "execution_count": 25,
   "id": "a576640e-2816-42f5-8fd0-3e865eb990bb",
   "metadata": {},
   "outputs": [
    {
     "data": {
      "text/plain": [
       "{'mean_fit_time': array([ 1.31735606,  1.36336074,  2.46105027,  8.14203043, 21.19899731,\n",
       "        95.09694552]),\n",
       " 'std_fit_time': array([0.16878593, 0.10803012, 0.07371854, 0.30830971, 0.79599715,\n",
       "        1.77184125]),\n",
       " 'mean_score_time': array([0.01714144, 0.01288581, 0.01458287, 0.01545415, 0.01498518,\n",
       "        0.01229787]),\n",
       " 'std_score_time': array([0.00472041, 0.0013968 , 0.00148264, 0.0032782 , 0.00628346,\n",
       "        0.00119629]),\n",
       " 'param_C': masked_array(data=[0.001, 0.01, 0.1, 1.0, 10.0, 100.0],\n",
       "              mask=[False, False, False, False, False, False],\n",
       "        fill_value='?',\n",
       "             dtype=object),\n",
       " 'params': [{'C': 0.001},\n",
       "  {'C': 0.01},\n",
       "  {'C': 0.1},\n",
       "  {'C': 1.0},\n",
       "  {'C': 10.0},\n",
       "  {'C': 100.0}],\n",
       " 'split0_test_accuracy': array([0.86026923, 0.89065203, 0.91110777, 0.92276453, 0.9269008 ,\n",
       "        0.92893134]),\n",
       " 'split1_test_accuracy': array([0.86184854, 0.89373543, 0.91546965, 0.92675039, 0.93058585,\n",
       "        0.93111228]),\n",
       " 'split2_test_accuracy': array([0.86034444, 0.89253215, 0.9145672 , 0.92494548, 0.92938257,\n",
       "        0.93081146]),\n",
       " 'split3_test_accuracy': array([0.87154997, 0.90328646, 0.92314056, 0.93381966, 0.93788072,\n",
       "        0.94013687]),\n",
       " 'split4_test_accuracy': array([0.86342784, 0.8947883 , 0.91659773, 0.93096187, 0.93547417,\n",
       "        0.93697827]),\n",
       " 'mean_test_accuracy': array([0.863488  , 0.89499887, 0.91617658, 0.92784839, 0.93204482,\n",
       "        0.93359404]),\n",
       " 'std_test_accuracy': array([0.00419355, 0.00436588, 0.00393591, 0.00402064, 0.00403721,\n",
       "        0.00424038]),\n",
       " 'rank_test_accuracy': array([6, 5, 4, 3, 2, 1], dtype=int32),\n",
       " 'split0_train_accuracy': array([0.8642927 , 0.89589757, 0.91744378, 0.92925096, 0.93344363,\n",
       "        0.93545537]),\n",
       " 'split1_train_accuracy': array([0.86389787, 0.89529593, 0.91661653, 0.92879973, 0.93272919,\n",
       "        0.93425209]),\n",
       " 'split2_train_accuracy': array([0.8642739 , 0.89523953, 0.91684214, 0.92932616, 0.93327442,\n",
       "        0.93475972]),\n",
       " 'split3_train_accuracy': array([0.86147251, 0.8932842 , 0.91494322, 0.9268256 , 0.93088667,\n",
       "        0.93259758]),\n",
       " 'split4_train_accuracy': array([0.86350305, 0.89503271, 0.91577047, 0.92733323, 0.93148831,\n",
       "        0.93301121]),\n",
       " 'mean_train_accuracy': array([0.863488  , 0.89494999, 0.91632323, 0.92830714, 0.93236444,\n",
       "        0.93401519]),\n",
       " 'std_train_accuracy': array([0.00104839, 0.00088126, 0.00087417, 0.00103105, 0.00100769,\n",
       "        0.00106791]),\n",
       " 'split0_test_f1': array([0.8283127 , 0.85847771, 0.87906691, 0.89114997, 0.89622037,\n",
       "        0.89870297]),\n",
       " 'split1_test_f1': array([0.82973399, 0.86178226, 0.88417148, 0.89594017, 0.90039927,\n",
       "        0.90065076]),\n",
       " 'split2_test_f1': array([0.82788025, 0.86068051, 0.88310352, 0.89423485, 0.89964732,\n",
       "        0.90124517]),\n",
       " 'split3_test_f1': array([0.84010485, 0.87312549, 0.89426857, 0.9059226 , 0.91112546,\n",
       "        0.91398314]),\n",
       " 'split4_test_f1': array([0.8323486 , 0.86397667, 0.8862914 , 0.90310323, 0.90837249,\n",
       "        0.91010513]),\n",
       " 'mean_test_f1': array([0.83167608, 0.86360853, 0.88538037, 0.89807016, 0.90315298,\n",
       "        0.90493743]),\n",
       " 'std_test_f1': array([0.00449419, 0.00507823, 0.00502664, 0.00555208, 0.00563449,\n",
       "        0.00599011]),\n",
       " 'rank_test_f1': array([6, 5, 4, 3, 2, 1], dtype=int32),\n",
       " 'split0_train_f1': array([0.83249791, 0.86467066, 0.88698427, 0.90009292, 0.90518534,\n",
       "        0.90761323]),\n",
       " 'split1_train_f1': array([0.83213913, 0.86398828, 0.88594574, 0.89934349, 0.90410078,\n",
       "        0.90583515]),\n",
       " 'split2_train_f1': array([0.8326029 , 0.86399141, 0.88638874, 0.90015671, 0.90485   ,\n",
       "        0.9065647 ]),\n",
       " 'split3_train_f1': array([0.82957069, 0.86148665, 0.88374364, 0.89667622, 0.90154802,\n",
       "        0.90353828]),\n",
       " 'split4_train_f1': array([0.83148415, 0.86345293, 0.88476773, 0.89724297, 0.90237891,\n",
       "        0.90410443]),\n",
       " 'mean_train_f1': array([0.83165896, 0.86351799, 0.88556603, 0.89870246, 0.90361261,\n",
       "        0.90553116]),\n",
       " 'std_train_f1': array([0.00111507, 0.00108669, 0.0011654 , 0.00146252, 0.00141615,\n",
       "        0.00151676]),\n",
       " 'split0_test_roc_auc': array([0.93858198, 0.95865314, 0.97145937, 0.97542553, 0.97680899,\n",
       "        0.97745391]),\n",
       " 'split1_test_roc_auc': array([0.93936343, 0.95974483, 0.97168008, 0.97555361, 0.97679941,\n",
       "        0.97724652]),\n",
       " 'split2_test_roc_auc': array([0.93988699, 0.95983888, 0.97224509, 0.97626585, 0.97746868,\n",
       "        0.97792164]),\n",
       " 'split3_test_roc_auc': array([0.94460912, 0.96348711, 0.97641671, 0.98045606, 0.98182584,\n",
       "        0.98236578]),\n",
       " 'split4_test_roc_auc': array([0.94135389, 0.96203597, 0.97473393, 0.97869446, 0.98002463,\n",
       "        0.98055194]),\n",
       " 'mean_test_roc_auc': array([0.94075908, 0.96075199, 0.97330704, 0.9772791 , 0.97858551,\n",
       "        0.97910796]),\n",
       " 'std_test_roc_auc': array([0.00212719, 0.00175401, 0.00194395, 0.00197667, 0.0020082 ,\n",
       "        0.00201527]),\n",
       " 'rank_test_roc_auc': array([6, 5, 4, 3, 2, 1], dtype=int32),\n",
       " 'split0_train_roc_auc': array([0.94128357, 0.96116885, 0.97381432, 0.97786448, 0.97925   ,\n",
       "        0.97985311]),\n",
       " 'split1_train_roc_auc': array([0.94121751, 0.96118311, 0.97379801, 0.97782958, 0.97928839,\n",
       "        0.97992759]),\n",
       " 'split2_train_roc_auc': array([0.94109775, 0.96118159, 0.97365284, 0.97767144, 0.97908218,\n",
       "        0.97970588]),\n",
       " 'split3_train_roc_auc': array([0.93979441, 0.9600343 , 0.97258439, 0.97662681, 0.97803059,\n",
       "        0.97864519]),\n",
       " 'split4_train_roc_auc': array([0.94061129, 0.96039224, 0.97302552, 0.97707739, 0.9784467 ,\n",
       "        0.97904127]),\n",
       " 'mean_train_roc_auc': array([0.9408009 , 0.96079202, 0.97337502, 0.97741394, 0.97881957,\n",
       "        0.97943461]),\n",
       " 'std_train_roc_auc': array([0.00055563, 0.00048594, 0.00048915, 0.00048475, 0.0004971 ,\n",
       "        0.00050392])}"
      ]
     },
     "execution_count": 25,
     "metadata": {},
     "output_type": "execute_result"
    }
   ],
   "source": [
    "pipe.named_steps['predict'].cv_results_"
   ]
  },
  {
   "cell_type": "code",
   "execution_count": 26,
   "id": "4fd69d1d-e0bd-495e-8b21-482870823795",
   "metadata": {},
   "outputs": [
    {
     "name": "stdout",
     "output_type": "stream",
     "text": [
      "              precision    recall  f1-score   support\n",
      "\n",
      "           0       0.94      0.95      0.95     43041\n",
      "           1       0.91      0.90      0.91     23444\n",
      "\n",
      "    accuracy                           0.93     66485\n",
      "   macro avg       0.93      0.93      0.93     66485\n",
      "weighted avg       0.93      0.93      0.93     66485\n",
      "\n"
     ]
    }
   ],
   "source": [
    "print(classification_report(pipe.predict(X_train), y_train))"
   ]
  },
  {
   "cell_type": "code",
   "execution_count": 27,
   "id": "d0af2939-2fa0-4cf8-afc8-e587a77390f7",
   "metadata": {},
   "outputs": [
    {
     "name": "stdout",
     "output_type": "stream",
     "text": [
      "              precision    recall  f1-score   support\n",
      "\n",
      "           0       0.94      0.95      0.95     14337\n",
      "           1       0.91      0.89      0.90      7825\n",
      "\n",
      "    accuracy                           0.93     22162\n",
      "   macro avg       0.93      0.92      0.92     22162\n",
      "weighted avg       0.93      0.93      0.93     22162\n",
      "\n"
     ]
    }
   ],
   "source": [
    "print(classification_report(pipe.predict(X_test), y_test))"
   ]
  },
  {
   "cell_type": "markdown",
   "id": "8b9e0b38-818d-471f-ac47-1ca27220a60b",
   "metadata": {
    "tags": []
   },
   "source": [
    "### LR with PCA"
   ]
  },
  {
   "cell_type": "code",
   "execution_count": 28,
   "id": "b5c39877-0e53-4826-bda0-0644d2a161c1",
   "metadata": {},
   "outputs": [],
   "source": [
    "pca_pipe = Pipeline(steps=[\n",
    "    ('transform', transform),\n",
    "    ('pca', PCA()),\n",
    "    ('predict', LogisticRegression(C=10, max_iter=1000, n_jobs=-1, solver='sag')) \n",
    "])"
   ]
  },
  {
   "cell_type": "code",
   "execution_count": 29,
   "id": "b6ee3b79-556f-4c69-9cd3-d2af8d6ed8bd",
   "metadata": {},
   "outputs": [
    {
     "data": {
      "text/html": [
       "<style>#sk-container-id-3 {color: black;background-color: white;}#sk-container-id-3 pre{padding: 0;}#sk-container-id-3 div.sk-toggleable {background-color: white;}#sk-container-id-3 label.sk-toggleable__label {cursor: pointer;display: block;width: 100%;margin-bottom: 0;padding: 0.3em;box-sizing: border-box;text-align: center;}#sk-container-id-3 label.sk-toggleable__label-arrow:before {content: \"▸\";float: left;margin-right: 0.25em;color: #696969;}#sk-container-id-3 label.sk-toggleable__label-arrow:hover:before {color: black;}#sk-container-id-3 div.sk-estimator:hover label.sk-toggleable__label-arrow:before {color: black;}#sk-container-id-3 div.sk-toggleable__content {max-height: 0;max-width: 0;overflow: hidden;text-align: left;background-color: #f0f8ff;}#sk-container-id-3 div.sk-toggleable__content pre {margin: 0.2em;color: black;border-radius: 0.25em;background-color: #f0f8ff;}#sk-container-id-3 input.sk-toggleable__control:checked~div.sk-toggleable__content {max-height: 200px;max-width: 100%;overflow: auto;}#sk-container-id-3 input.sk-toggleable__control:checked~label.sk-toggleable__label-arrow:before {content: \"▾\";}#sk-container-id-3 div.sk-estimator input.sk-toggleable__control:checked~label.sk-toggleable__label {background-color: #d4ebff;}#sk-container-id-3 div.sk-label input.sk-toggleable__control:checked~label.sk-toggleable__label {background-color: #d4ebff;}#sk-container-id-3 input.sk-hidden--visually {border: 0;clip: rect(1px 1px 1px 1px);clip: rect(1px, 1px, 1px, 1px);height: 1px;margin: -1px;overflow: hidden;padding: 0;position: absolute;width: 1px;}#sk-container-id-3 div.sk-estimator {font-family: monospace;background-color: #f0f8ff;border: 1px dotted black;border-radius: 0.25em;box-sizing: border-box;margin-bottom: 0.5em;}#sk-container-id-3 div.sk-estimator:hover {background-color: #d4ebff;}#sk-container-id-3 div.sk-parallel-item::after {content: \"\";width: 100%;border-bottom: 1px solid gray;flex-grow: 1;}#sk-container-id-3 div.sk-label:hover label.sk-toggleable__label {background-color: #d4ebff;}#sk-container-id-3 div.sk-serial::before {content: \"\";position: absolute;border-left: 1px solid gray;box-sizing: border-box;top: 0;bottom: 0;left: 50%;z-index: 0;}#sk-container-id-3 div.sk-serial {display: flex;flex-direction: column;align-items: center;background-color: white;padding-right: 0.2em;padding-left: 0.2em;position: relative;}#sk-container-id-3 div.sk-item {position: relative;z-index: 1;}#sk-container-id-3 div.sk-parallel {display: flex;align-items: stretch;justify-content: center;background-color: white;position: relative;}#sk-container-id-3 div.sk-item::before, #sk-container-id-3 div.sk-parallel-item::before {content: \"\";position: absolute;border-left: 1px solid gray;box-sizing: border-box;top: 0;bottom: 0;left: 50%;z-index: -1;}#sk-container-id-3 div.sk-parallel-item {display: flex;flex-direction: column;z-index: 1;position: relative;background-color: white;}#sk-container-id-3 div.sk-parallel-item:first-child::after {align-self: flex-end;width: 50%;}#sk-container-id-3 div.sk-parallel-item:last-child::after {align-self: flex-start;width: 50%;}#sk-container-id-3 div.sk-parallel-item:only-child::after {width: 0;}#sk-container-id-3 div.sk-dashed-wrapped {border: 1px dashed gray;margin: 0 0.4em 0.5em 0.4em;box-sizing: border-box;padding-bottom: 0.4em;background-color: white;}#sk-container-id-3 div.sk-label label {font-family: monospace;font-weight: bold;display: inline-block;line-height: 1.2em;}#sk-container-id-3 div.sk-label-container {text-align: center;}#sk-container-id-3 div.sk-container {/* jupyter's `normalize.less` sets `[hidden] { display: none; }` but bootstrap.min.css set `[hidden] { display: none !important; }` so we also need the `!important` here to be able to override the default hidden behavior on the sphinx rendered scikit-learn.org. See: https://github.com/scikit-learn/scikit-learn/issues/21755 */display: inline-block !important;position: relative;}#sk-container-id-3 div.sk-text-repr-fallback {display: none;}</style><div id=\"sk-container-id-3\" class=\"sk-top-container\"><div class=\"sk-text-repr-fallback\"><pre>Pipeline(steps=[(&#x27;transform&#x27;,\n",
       "                 ColumnTransformer(transformers=[(&#x27;numeric&#x27;, MinMaxScaler(),\n",
       "                                                  [86, 44, 96, 24, 85, 62, 18,\n",
       "                                                   80, 34, 52, 70, 7, 40, 58,\n",
       "                                                   76, 13, 33, 51, 69, 6, 38,\n",
       "                                                   56, 74, 11, 42, 78, 15, 27,\n",
       "                                                   19, 45, ...]),\n",
       "                                                 (&#x27;categorical&#x27;,\n",
       "                                                  OneHotEncoder(handle_unknown=&#x27;infrequent_if_exist&#x27;),\n",
       "                                                  [22, 25, 26, 31, 41, 48, 49,\n",
       "                                                   59, 60, 77, 83, 93, 97])])),\n",
       "                (&#x27;pca&#x27;, PCA()),\n",
       "                (&#x27;predict&#x27;,\n",
       "                 LogisticRegression(C=10, max_iter=1000, n_jobs=-1,\n",
       "                                    solver=&#x27;sag&#x27;))])</pre><b>In a Jupyter environment, please rerun this cell to show the HTML representation or trust the notebook. <br />On GitHub, the HTML representation is unable to render, please try loading this page with nbviewer.org.</b></div><div class=\"sk-container\" hidden><div class=\"sk-item sk-dashed-wrapped\"><div class=\"sk-label-container\"><div class=\"sk-label sk-toggleable\"><input class=\"sk-toggleable__control sk-hidden--visually\" id=\"sk-estimator-id-17\" type=\"checkbox\" ><label for=\"sk-estimator-id-17\" class=\"sk-toggleable__label sk-toggleable__label-arrow\">Pipeline</label><div class=\"sk-toggleable__content\"><pre>Pipeline(steps=[(&#x27;transform&#x27;,\n",
       "                 ColumnTransformer(transformers=[(&#x27;numeric&#x27;, MinMaxScaler(),\n",
       "                                                  [86, 44, 96, 24, 85, 62, 18,\n",
       "                                                   80, 34, 52, 70, 7, 40, 58,\n",
       "                                                   76, 13, 33, 51, 69, 6, 38,\n",
       "                                                   56, 74, 11, 42, 78, 15, 27,\n",
       "                                                   19, 45, ...]),\n",
       "                                                 (&#x27;categorical&#x27;,\n",
       "                                                  OneHotEncoder(handle_unknown=&#x27;infrequent_if_exist&#x27;),\n",
       "                                                  [22, 25, 26, 31, 41, 48, 49,\n",
       "                                                   59, 60, 77, 83, 93, 97])])),\n",
       "                (&#x27;pca&#x27;, PCA()),\n",
       "                (&#x27;predict&#x27;,\n",
       "                 LogisticRegression(C=10, max_iter=1000, n_jobs=-1,\n",
       "                                    solver=&#x27;sag&#x27;))])</pre></div></div></div><div class=\"sk-serial\"><div class=\"sk-item sk-dashed-wrapped\"><div class=\"sk-label-container\"><div class=\"sk-label sk-toggleable\"><input class=\"sk-toggleable__control sk-hidden--visually\" id=\"sk-estimator-id-18\" type=\"checkbox\" ><label for=\"sk-estimator-id-18\" class=\"sk-toggleable__label sk-toggleable__label-arrow\">transform: ColumnTransformer</label><div class=\"sk-toggleable__content\"><pre>ColumnTransformer(transformers=[(&#x27;numeric&#x27;, MinMaxScaler(),\n",
       "                                 [86, 44, 96, 24, 85, 62, 18, 80, 34, 52, 70, 7,\n",
       "                                  40, 58, 76, 13, 33, 51, 69, 6, 38, 56, 74, 11,\n",
       "                                  42, 78, 15, 27, 19, 45, ...]),\n",
       "                                (&#x27;categorical&#x27;,\n",
       "                                 OneHotEncoder(handle_unknown=&#x27;infrequent_if_exist&#x27;),\n",
       "                                 [22, 25, 26, 31, 41, 48, 49, 59, 60, 77, 83,\n",
       "                                  93, 97])])</pre></div></div></div><div class=\"sk-parallel\"><div class=\"sk-parallel-item\"><div class=\"sk-item\"><div class=\"sk-label-container\"><div class=\"sk-label sk-toggleable\"><input class=\"sk-toggleable__control sk-hidden--visually\" id=\"sk-estimator-id-19\" type=\"checkbox\" ><label for=\"sk-estimator-id-19\" class=\"sk-toggleable__label sk-toggleable__label-arrow\">numeric</label><div class=\"sk-toggleable__content\"><pre>[86, 44, 96, 24, 85, 62, 18, 80, 34, 52, 70, 7, 40, 58, 76, 13, 33, 51, 69, 6, 38, 56, 74, 11, 42, 78, 15, 27, 19, 45, 63, 0, 32, 50, 68, 5, 35, 53, 71, 8, 14, 28, 20, 46, 64, 1, 89, 91, 90, 82, 43, 61, 79, 16, 39, 57, 75, 12, 67, 4, 94, 30, 66, 3, 36, 54, 72, 9, 37, 55, 73, 10, 17, 29, 21, 47, 65, 2, 23, 87, 88, 84, 81, 92, 95]</pre></div></div></div><div class=\"sk-serial\"><div class=\"sk-item\"><div class=\"sk-estimator sk-toggleable\"><input class=\"sk-toggleable__control sk-hidden--visually\" id=\"sk-estimator-id-20\" type=\"checkbox\" ><label for=\"sk-estimator-id-20\" class=\"sk-toggleable__label sk-toggleable__label-arrow\">MinMaxScaler</label><div class=\"sk-toggleable__content\"><pre>MinMaxScaler()</pre></div></div></div></div></div></div><div class=\"sk-parallel-item\"><div class=\"sk-item\"><div class=\"sk-label-container\"><div class=\"sk-label sk-toggleable\"><input class=\"sk-toggleable__control sk-hidden--visually\" id=\"sk-estimator-id-21\" type=\"checkbox\" ><label for=\"sk-estimator-id-21\" class=\"sk-toggleable__label sk-toggleable__label-arrow\">categorical</label><div class=\"sk-toggleable__content\"><pre>[22, 25, 26, 31, 41, 48, 49, 59, 60, 77, 83, 93, 97]</pre></div></div></div><div class=\"sk-serial\"><div class=\"sk-item\"><div class=\"sk-estimator sk-toggleable\"><input class=\"sk-toggleable__control sk-hidden--visually\" id=\"sk-estimator-id-22\" type=\"checkbox\" ><label for=\"sk-estimator-id-22\" class=\"sk-toggleable__label sk-toggleable__label-arrow\">OneHotEncoder</label><div class=\"sk-toggleable__content\"><pre>OneHotEncoder(handle_unknown=&#x27;infrequent_if_exist&#x27;)</pre></div></div></div></div></div></div></div></div><div class=\"sk-item\"><div class=\"sk-estimator sk-toggleable\"><input class=\"sk-toggleable__control sk-hidden--visually\" id=\"sk-estimator-id-23\" type=\"checkbox\" ><label for=\"sk-estimator-id-23\" class=\"sk-toggleable__label sk-toggleable__label-arrow\">PCA</label><div class=\"sk-toggleable__content\"><pre>PCA()</pre></div></div></div><div class=\"sk-item\"><div class=\"sk-estimator sk-toggleable\"><input class=\"sk-toggleable__control sk-hidden--visually\" id=\"sk-estimator-id-24\" type=\"checkbox\" ><label for=\"sk-estimator-id-24\" class=\"sk-toggleable__label sk-toggleable__label-arrow\">LogisticRegression</label><div class=\"sk-toggleable__content\"><pre>LogisticRegression(C=10, max_iter=1000, n_jobs=-1, solver=&#x27;sag&#x27;)</pre></div></div></div></div></div></div></div>"
      ],
      "text/plain": [
       "Pipeline(steps=[('transform',\n",
       "                 ColumnTransformer(transformers=[('numeric', MinMaxScaler(),\n",
       "                                                  [86, 44, 96, 24, 85, 62, 18,\n",
       "                                                   80, 34, 52, 70, 7, 40, 58,\n",
       "                                                   76, 13, 33, 51, 69, 6, 38,\n",
       "                                                   56, 74, 11, 42, 78, 15, 27,\n",
       "                                                   19, 45, ...]),\n",
       "                                                 ('categorical',\n",
       "                                                  OneHotEncoder(handle_unknown='infrequent_if_exist'),\n",
       "                                                  [22, 25, 26, 31, 41, 48, 49,\n",
       "                                                   59, 60, 77, 83, 93, 97])])),\n",
       "                ('pca', PCA()),\n",
       "                ('predict',\n",
       "                 LogisticRegression(C=10, max_iter=1000, n_jobs=-1,\n",
       "                                    solver='sag'))])"
      ]
     },
     "execution_count": 29,
     "metadata": {},
     "output_type": "execute_result"
    }
   ],
   "source": [
    "pca_pipe.fit(X_train, y_train)"
   ]
  },
  {
   "cell_type": "code",
   "execution_count": 30,
   "id": "79982a34-23b8-4aa1-9603-a68a5cfce87e",
   "metadata": {},
   "outputs": [
    {
     "data": {
      "text/plain": [
       "[<matplotlib.lines.Line2D at 0x7efc84bcb5b0>]"
      ]
     },
     "execution_count": 30,
     "metadata": {},
     "output_type": "execute_result"
    },
    {
     "data": {
      "image/png": "[encoded data removed]",
      "text/plain": [
       "<Figure size 640x480 with 1 Axes>"
      ]
     },
     "metadata": {},
     "output_type": "display_data"
    }
   ],
   "source": [
    "plt.plot((np.arange(pca_pipe.named_steps['pca'].n_components_) + 1), pca_pipe.named_steps['pca'].explained_variance_ratio_)"
   ]
  },
  {
   "cell_type": "code",
   "execution_count": 31,
   "id": "e67a316b-8fa6-4e84-8338-853e7eed0f1d",
   "metadata": {},
   "outputs": [
    {
     "data": {
      "text/plain": [
       "array([0.76843227, 0.11987717, 0.05316217, 0.01878635, 0.00832194,\n",
       "       0.00692803, 0.00365641, 0.00309916, 0.00268204, 0.00213609,\n",
       "       0.00181465, 0.00144764, 0.00121476, 0.00105146, 0.00097274,\n",
       "       0.00077251, 0.00060153, 0.00049256, 0.00046566, 0.00043191,\n",
       "       0.00038564, 0.0003632 , 0.00034675, 0.00032576, 0.00030166,\n",
       "       0.0002401 , 0.00017585, 0.00013337, 0.00011455, 0.00009964,\n",
       "       0.00009714, 0.00008212, 0.00008143, 0.00007949, 0.0000763 ,\n",
       "       0.00006357, 0.0000584 , 0.00004952, 0.00004568, 0.00003814,\n",
       "       0.00003687, 0.00003517, 0.00003214, 0.00003162, 0.00002948,\n",
       "       0.00002745, 0.00002658, 0.00002566, 0.00002356, 0.00002129,\n",
       "       0.00001959, 0.00001788, 0.00001747, 0.00001423, 0.00001372,\n",
       "       0.00001319, 0.00001252, 0.00001163, 0.00000982, 0.00000946,\n",
       "       0.00000911, 0.00000723, 0.00000701, 0.00000525, 0.00000481,\n",
       "       0.00000443, 0.00000407, 0.00000363, 0.00000349, 0.00000325,\n",
       "       0.00000253, 0.00000229, 0.00000194, 0.00000119, 0.00000087,\n",
       "       0.00000082, 0.00000058, 0.00000046, 0.0000004 , 0.00000037,\n",
       "       0.0000003 , 0.00000027, 0.00000026, 0.00000024, 0.00000017,\n",
       "       0.00000014, 0.00000008, 0.00000008, 0.00000003, 0.00000001,\n",
       "       0.00000001, 0.        , 0.        , 0.        , 0.        ,\n",
       "       0.        , 0.        , 0.        , 0.        , 0.        ,\n",
       "       0.        , 0.        , 0.        , 0.        , 0.        ,\n",
       "       0.        , 0.        , 0.        , 0.        , 0.        ,\n",
       "       0.        ])"
      ]
     },
     "execution_count": 31,
     "metadata": {},
     "output_type": "execute_result"
    }
   ],
   "source": [
    "pca_pipe.named_steps['pca'].explained_variance_ratio_"
   ]
  },
  {
   "cell_type": "code",
   "execution_count": 32,
   "id": "2cb4a273-875c-4be2-80f8-e6f575d339d2",
   "metadata": {},
   "outputs": [],
   "source": [
    "pca_pipe = Pipeline(steps=[\n",
    "    ('transform', transform),\n",
    "    ('pca', PCA(n_components=3)),\n",
    "    ('predict', LogisticRegression(C=10, max_iter=1000, n_jobs=-1, solver='sag')) \n",
    "])"
   ]
  },
  {
   "cell_type": "code",
   "execution_count": 33,
   "id": "7c100f4d-309d-48b5-aab7-a66dad6cdeee",
   "metadata": {},
   "outputs": [
    {
     "data": {
      "text/html": [
       "<style>#sk-container-id-4 {color: black;background-color: white;}#sk-container-id-4 pre{padding: 0;}#sk-container-id-4 div.sk-toggleable {background-color: white;}#sk-container-id-4 label.sk-toggleable__label {cursor: pointer;display: block;width: 100%;margin-bottom: 0;padding: 0.3em;box-sizing: border-box;text-align: center;}#sk-container-id-4 label.sk-toggleable__label-arrow:before {content: \"▸\";float: left;margin-right: 0.25em;color: #696969;}#sk-container-id-4 label.sk-toggleable__label-arrow:hover:before {color: black;}#sk-container-id-4 div.sk-estimator:hover label.sk-toggleable__label-arrow:before {color: black;}#sk-container-id-4 div.sk-toggleable__content {max-height: 0;max-width: 0;overflow: hidden;text-align: left;background-color: #f0f8ff;}#sk-container-id-4 div.sk-toggleable__content pre {margin: 0.2em;color: black;border-radius: 0.25em;background-color: #f0f8ff;}#sk-container-id-4 input.sk-toggleable__control:checked~div.sk-toggleable__content {max-height: 200px;max-width: 100%;overflow: auto;}#sk-container-id-4 input.sk-toggleable__control:checked~label.sk-toggleable__label-arrow:before {content: \"▾\";}#sk-container-id-4 div.sk-estimator input.sk-toggleable__control:checked~label.sk-toggleable__label {background-color: #d4ebff;}#sk-container-id-4 div.sk-label input.sk-toggleable__control:checked~label.sk-toggleable__label {background-color: #d4ebff;}#sk-container-id-4 input.sk-hidden--visually {border: 0;clip: rect(1px 1px 1px 1px);clip: rect(1px, 1px, 1px, 1px);height: 1px;margin: -1px;overflow: hidden;padding: 0;position: absolute;width: 1px;}#sk-container-id-4 div.sk-estimator {font-family: monospace;background-color: #f0f8ff;border: 1px dotted black;border-radius: 0.25em;box-sizing: border-box;margin-bottom: 0.5em;}#sk-container-id-4 div.sk-estimator:hover {background-color: #d4ebff;}#sk-container-id-4 div.sk-parallel-item::after {content: \"\";width: 100%;border-bottom: 1px solid gray;flex-grow: 1;}#sk-container-id-4 div.sk-label:hover label.sk-toggleable__label {background-color: #d4ebff;}#sk-container-id-4 div.sk-serial::before {content: \"\";position: absolute;border-left: 1px solid gray;box-sizing: border-box;top: 0;bottom: 0;left: 50%;z-index: 0;}#sk-container-id-4 div.sk-serial {display: flex;flex-direction: column;align-items: center;background-color: white;padding-right: 0.2em;padding-left: 0.2em;position: relative;}#sk-container-id-4 div.sk-item {position: relative;z-index: 1;}#sk-container-id-4 div.sk-parallel {display: flex;align-items: stretch;justify-content: center;background-color: white;position: relative;}#sk-container-id-4 div.sk-item::before, #sk-container-id-4 div.sk-parallel-item::before {content: \"\";position: absolute;border-left: 1px solid gray;box-sizing: border-box;top: 0;bottom: 0;left: 50%;z-index: -1;}#sk-container-id-4 div.sk-parallel-item {display: flex;flex-direction: column;z-index: 1;position: relative;background-color: white;}#sk-container-id-4 div.sk-parallel-item:first-child::after {align-self: flex-end;width: 50%;}#sk-container-id-4 div.sk-parallel-item:last-child::after {align-self: flex-start;width: 50%;}#sk-container-id-4 div.sk-parallel-item:only-child::after {width: 0;}#sk-container-id-4 div.sk-dashed-wrapped {border: 1px dashed gray;margin: 0 0.4em 0.5em 0.4em;box-sizing: border-box;padding-bottom: 0.4em;background-color: white;}#sk-container-id-4 div.sk-label label {font-family: monospace;font-weight: bold;display: inline-block;line-height: 1.2em;}#sk-container-id-4 div.sk-label-container {text-align: center;}#sk-container-id-4 div.sk-container {/* jupyter's `normalize.less` sets `[hidden] { display: none; }` but bootstrap.min.css set `[hidden] { display: none !important; }` so we also need the `!important` here to be able to override the default hidden behavior on the sphinx rendered scikit-learn.org. See: https://github.com/scikit-learn/scikit-learn/issues/21755 */display: inline-block !important;position: relative;}#sk-container-id-4 div.sk-text-repr-fallback {display: none;}</style><div id=\"sk-container-id-4\" class=\"sk-top-container\"><div class=\"sk-text-repr-fallback\"><pre>Pipeline(steps=[(&#x27;transform&#x27;,\n",
       "                 ColumnTransformer(transformers=[(&#x27;numeric&#x27;, MinMaxScaler(),\n",
       "                                                  [86, 44, 96, 24, 85, 62, 18,\n",
       "                                                   80, 34, 52, 70, 7, 40, 58,\n",
       "                                                   76, 13, 33, 51, 69, 6, 38,\n",
       "                                                   56, 74, 11, 42, 78, 15, 27,\n",
       "                                                   19, 45, ...]),\n",
       "                                                 (&#x27;categorical&#x27;,\n",
       "                                                  OneHotEncoder(handle_unknown=&#x27;infrequent_if_exist&#x27;),\n",
       "                                                  [22, 25, 26, 31, 41, 48, 49,\n",
       "                                                   59, 60, 77, 83, 93, 97])])),\n",
       "                (&#x27;pca&#x27;, PCA(n_components=3)),\n",
       "                (&#x27;predict&#x27;,\n",
       "                 LogisticRegression(C=10, max_iter=1000, n_jobs=-1,\n",
       "                                    solver=&#x27;sag&#x27;))])</pre><b>In a Jupyter environment, please rerun this cell to show the HTML representation or trust the notebook. <br />On GitHub, the HTML representation is unable to render, please try loading this page with nbviewer.org.</b></div><div class=\"sk-container\" hidden><div class=\"sk-item sk-dashed-wrapped\"><div class=\"sk-label-container\"><div class=\"sk-label sk-toggleable\"><input class=\"sk-toggleable__control sk-hidden--visually\" id=\"sk-estimator-id-25\" type=\"checkbox\" ><label for=\"sk-estimator-id-25\" class=\"sk-toggleable__label sk-toggleable__label-arrow\">Pipeline</label><div class=\"sk-toggleable__content\"><pre>Pipeline(steps=[(&#x27;transform&#x27;,\n",
       "                 ColumnTransformer(transformers=[(&#x27;numeric&#x27;, MinMaxScaler(),\n",
       "                                                  [86, 44, 96, 24, 85, 62, 18,\n",
       "                                                   80, 34, 52, 70, 7, 40, 58,\n",
       "                                                   76, 13, 33, 51, 69, 6, 38,\n",
       "                                                   56, 74, 11, 42, 78, 15, 27,\n",
       "                                                   19, 45, ...]),\n",
       "                                                 (&#x27;categorical&#x27;,\n",
       "                                                  OneHotEncoder(handle_unknown=&#x27;infrequent_if_exist&#x27;),\n",
       "                                                  [22, 25, 26, 31, 41, 48, 49,\n",
       "                                                   59, 60, 77, 83, 93, 97])])),\n",
       "                (&#x27;pca&#x27;, PCA(n_components=3)),\n",
       "                (&#x27;predict&#x27;,\n",
       "                 LogisticRegression(C=10, max_iter=1000, n_jobs=-1,\n",
       "                                    solver=&#x27;sag&#x27;))])</pre></div></div></div><div class=\"sk-serial\"><div class=\"sk-item sk-dashed-wrapped\"><div class=\"sk-label-container\"><div class=\"sk-label sk-toggleable\"><input class=\"sk-toggleable__control sk-hidden--visually\" id=\"sk-estimator-id-26\" type=\"checkbox\" ><label for=\"sk-estimator-id-26\" class=\"sk-toggleable__label sk-toggleable__label-arrow\">transform: ColumnTransformer</label><div class=\"sk-toggleable__content\"><pre>ColumnTransformer(transformers=[(&#x27;numeric&#x27;, MinMaxScaler(),\n",
       "                                 [86, 44, 96, 24, 85, 62, 18, 80, 34, 52, 70, 7,\n",
       "                                  40, 58, 76, 13, 33, 51, 69, 6, 38, 56, 74, 11,\n",
       "                                  42, 78, 15, 27, 19, 45, ...]),\n",
       "                                (&#x27;categorical&#x27;,\n",
       "                                 OneHotEncoder(handle_unknown=&#x27;infrequent_if_exist&#x27;),\n",
       "                                 [22, 25, 26, 31, 41, 48, 49, 59, 60, 77, 83,\n",
       "                                  93, 97])])</pre></div></div></div><div class=\"sk-parallel\"><div class=\"sk-parallel-item\"><div class=\"sk-item\"><div class=\"sk-label-container\"><div class=\"sk-label sk-toggleable\"><input class=\"sk-toggleable__control sk-hidden--visually\" id=\"sk-estimator-id-27\" type=\"checkbox\" ><label for=\"sk-estimator-id-27\" class=\"sk-toggleable__label sk-toggleable__label-arrow\">numeric</label><div class=\"sk-toggleable__content\"><pre>[86, 44, 96, 24, 85, 62, 18, 80, 34, 52, 70, 7, 40, 58, 76, 13, 33, 51, 69, 6, 38, 56, 74, 11, 42, 78, 15, 27, 19, 45, 63, 0, 32, 50, 68, 5, 35, 53, 71, 8, 14, 28, 20, 46, 64, 1, 89, 91, 90, 82, 43, 61, 79, 16, 39, 57, 75, 12, 67, 4, 94, 30, 66, 3, 36, 54, 72, 9, 37, 55, 73, 10, 17, 29, 21, 47, 65, 2, 23, 87, 88, 84, 81, 92, 95]</pre></div></div></div><div class=\"sk-serial\"><div class=\"sk-item\"><div class=\"sk-estimator sk-toggleable\"><input class=\"sk-toggleable__control sk-hidden--visually\" id=\"sk-estimator-id-28\" type=\"checkbox\" ><label for=\"sk-estimator-id-28\" class=\"sk-toggleable__label sk-toggleable__label-arrow\">MinMaxScaler</label><div class=\"sk-toggleable__content\"><pre>MinMaxScaler()</pre></div></div></div></div></div></div><div class=\"sk-parallel-item\"><div class=\"sk-item\"><div class=\"sk-label-container\"><div class=\"sk-label sk-toggleable\"><input class=\"sk-toggleable__control sk-hidden--visually\" id=\"sk-estimator-id-29\" type=\"checkbox\" ><label for=\"sk-estimator-id-29\" class=\"sk-toggleable__label sk-toggleable__label-arrow\">categorical</label><div class=\"sk-toggleable__content\"><pre>[22, 25, 26, 31, 41, 48, 49, 59, 60, 77, 83, 93, 97]</pre></div></div></div><div class=\"sk-serial\"><div class=\"sk-item\"><div class=\"sk-estimator sk-toggleable\"><input class=\"sk-toggleable__control sk-hidden--visually\" id=\"sk-estimator-id-30\" type=\"checkbox\" ><label for=\"sk-estimator-id-30\" class=\"sk-toggleable__label sk-toggleable__label-arrow\">OneHotEncoder</label><div class=\"sk-toggleable__content\"><pre>OneHotEncoder(handle_unknown=&#x27;infrequent_if_exist&#x27;)</pre></div></div></div></div></div></div></div></div><div class=\"sk-item\"><div class=\"sk-estimator sk-toggleable\"><input class=\"sk-toggleable__control sk-hidden--visually\" id=\"sk-estimator-id-31\" type=\"checkbox\" ><label for=\"sk-estimator-id-31\" class=\"sk-toggleable__label sk-toggleable__label-arrow\">PCA</label><div class=\"sk-toggleable__content\"><pre>PCA(n_components=3)</pre></div></div></div><div class=\"sk-item\"><div class=\"sk-estimator sk-toggleable\"><input class=\"sk-toggleable__control sk-hidden--visually\" id=\"sk-estimator-id-32\" type=\"checkbox\" ><label for=\"sk-estimator-id-32\" class=\"sk-toggleable__label sk-toggleable__label-arrow\">LogisticRegression</label><div class=\"sk-toggleable__content\"><pre>LogisticRegression(C=10, max_iter=1000, n_jobs=-1, solver=&#x27;sag&#x27;)</pre></div></div></div></div></div></div></div>"
      ],
      "text/plain": [
       "Pipeline(steps=[('transform',\n",
       "                 ColumnTransformer(transformers=[('numeric', MinMaxScaler(),\n",
       "                                                  [86, 44, 96, 24, 85, 62, 18,\n",
       "                                                   80, 34, 52, 70, 7, 40, 58,\n",
       "                                                   76, 13, 33, 51, 69, 6, 38,\n",
       "                                                   56, 74, 11, 42, 78, 15, 27,\n",
       "                                                   19, 45, ...]),\n",
       "                                                 ('categorical',\n",
       "                                                  OneHotEncoder(handle_unknown='infrequent_if_exist'),\n",
       "                                                  [22, 25, 26, 31, 41, 48, 49,\n",
       "                                                   59, 60, 77, 83, 93, 97])])),\n",
       "                ('pca', PCA(n_components=3)),\n",
       "                ('predict',\n",
       "                 LogisticRegression(C=10, max_iter=1000, n_jobs=-1,\n",
       "                                    solver='sag'))])"
      ]
     },
     "execution_count": 33,
     "metadata": {},
     "output_type": "execute_result"
    }
   ],
   "source": [
    "pca_pipe.fit(X_train, y_train)"
   ]
  },
  {
   "cell_type": "code",
   "execution_count": 34,
   "id": "15b48c0e-7c97-45f8-ba93-6c8e38dc4496",
   "metadata": {},
   "outputs": [
    {
     "name": "stdout",
     "output_type": "stream",
     "text": [
      "              precision    recall  f1-score   support\n",
      "\n",
      "           0       0.80      0.98      0.89     35552\n",
      "           1       0.98      0.72      0.83     30933\n",
      "\n",
      "    accuracy                           0.86     66485\n",
      "   macro avg       0.89      0.85      0.86     66485\n",
      "weighted avg       0.88      0.86      0.86     66485\n",
      "\n"
     ]
    }
   ],
   "source": [
    "print(classification_report(pca_pipe.predict(X_train), y_train))"
   ]
  },
  {
   "cell_type": "code",
   "execution_count": 35,
   "id": "1f191ec3-60f2-4462-953c-e5314adda8d2",
   "metadata": {},
   "outputs": [
    {
     "name": "stdout",
     "output_type": "stream",
     "text": [
      "              precision    recall  f1-score   support\n",
      "\n",
      "           0       0.81      0.98      0.89     11957\n",
      "           1       0.98      0.73      0.84     10205\n",
      "\n",
      "    accuracy                           0.87     22162\n",
      "   macro avg       0.89      0.86      0.86     22162\n",
      "weighted avg       0.89      0.87      0.87     22162\n",
      "\n"
     ]
    }
   ],
   "source": [
    "print(classification_report(pca_pipe.predict(X_test), y_test))"
   ]
  },
  {
   "cell_type": "markdown",
   "id": "e292a18e-853c-4135-ac1d-7892e371c695",
   "metadata": {},
   "source": [
    "### Grid Search"
   ]
  },
  {
   "cell_type": "code",
   "execution_count": 36,
   "id": "28fd44e9-9061-4ef4-993d-3d63cf6bc26f",
   "metadata": {},
   "outputs": [],
   "source": [
    "pca_pipe = Pipeline(steps=[\n",
    "    ('transform', transform),\n",
    "    ('pca', PCA(n_components=3)),\n",
    "    ('predict', GridSearchCV(LogisticRegression(max_iter=1000, n_jobs=-1, solver='sag'), param_grid, return_train_score=True, refit='f1', scoring=scoring, n_jobs=-1)) \n",
    "])"
   ]
  },
  {
   "cell_type": "code",
   "execution_count": 37,
   "id": "b9c3fe89-1919-486e-8c0c-62bc6fda8df5",
   "metadata": {},
   "outputs": [
    {
     "data": {
      "text/html": [
       "<style>#sk-container-id-5 {color: black;background-color: white;}#sk-container-id-5 pre{padding: 0;}#sk-container-id-5 div.sk-toggleable {background-color: white;}#sk-container-id-5 label.sk-toggleable__label {cursor: pointer;display: block;width: 100%;margin-bottom: 0;padding: 0.3em;box-sizing: border-box;text-align: center;}#sk-container-id-5 label.sk-toggleable__label-arrow:before {content: \"▸\";float: left;margin-right: 0.25em;color: #696969;}#sk-container-id-5 label.sk-toggleable__label-arrow:hover:before {color: black;}#sk-container-id-5 div.sk-estimator:hover label.sk-toggleable__label-arrow:before {color: black;}#sk-container-id-5 div.sk-toggleable__content {max-height: 0;max-width: 0;overflow: hidden;text-align: left;background-color: #f0f8ff;}#sk-container-id-5 div.sk-toggleable__content pre {margin: 0.2em;color: black;border-radius: 0.25em;background-color: #f0f8ff;}#sk-container-id-5 input.sk-toggleable__control:checked~div.sk-toggleable__content {max-height: 200px;max-width: 100%;overflow: auto;}#sk-container-id-5 input.sk-toggleable__control:checked~label.sk-toggleable__label-arrow:before {content: \"▾\";}#sk-container-id-5 div.sk-estimator input.sk-toggleable__control:checked~label.sk-toggleable__label {background-color: #d4ebff;}#sk-container-id-5 div.sk-label input.sk-toggleable__control:checked~label.sk-toggleable__label {background-color: #d4ebff;}#sk-container-id-5 input.sk-hidden--visually {border: 0;clip: rect(1px 1px 1px 1px);clip: rect(1px, 1px, 1px, 1px);height: 1px;margin: -1px;overflow: hidden;padding: 0;position: absolute;width: 1px;}#sk-container-id-5 div.sk-estimator {font-family: monospace;background-color: #f0f8ff;border: 1px dotted black;border-radius: 0.25em;box-sizing: border-box;margin-bottom: 0.5em;}#sk-container-id-5 div.sk-estimator:hover {background-color: #d4ebff;}#sk-container-id-5 div.sk-parallel-item::after {content: \"\";width: 100%;border-bottom: 1px solid gray;flex-grow: 1;}#sk-container-id-5 div.sk-label:hover label.sk-toggleable__label {background-color: #d4ebff;}#sk-container-id-5 div.sk-serial::before {content: \"\";position: absolute;border-left: 1px solid gray;box-sizing: border-box;top: 0;bottom: 0;left: 50%;z-index: 0;}#sk-container-id-5 div.sk-serial {display: flex;flex-direction: column;align-items: center;background-color: white;padding-right: 0.2em;padding-left: 0.2em;position: relative;}#sk-container-id-5 div.sk-item {position: relative;z-index: 1;}#sk-container-id-5 div.sk-parallel {display: flex;align-items: stretch;justify-content: center;background-color: white;position: relative;}#sk-container-id-5 div.sk-item::before, #sk-container-id-5 div.sk-parallel-item::before {content: \"\";position: absolute;border-left: 1px solid gray;box-sizing: border-box;top: 0;bottom: 0;left: 50%;z-index: -1;}#sk-container-id-5 div.sk-parallel-item {display: flex;flex-direction: column;z-index: 1;position: relative;background-color: white;}#sk-container-id-5 div.sk-parallel-item:first-child::after {align-self: flex-end;width: 50%;}#sk-container-id-5 div.sk-parallel-item:last-child::after {align-self: flex-start;width: 50%;}#sk-container-id-5 div.sk-parallel-item:only-child::after {width: 0;}#sk-container-id-5 div.sk-dashed-wrapped {border: 1px dashed gray;margin: 0 0.4em 0.5em 0.4em;box-sizing: border-box;padding-bottom: 0.4em;background-color: white;}#sk-container-id-5 div.sk-label label {font-family: monospace;font-weight: bold;display: inline-block;line-height: 1.2em;}#sk-container-id-5 div.sk-label-container {text-align: center;}#sk-container-id-5 div.sk-container {/* jupyter's `normalize.less` sets `[hidden] { display: none; }` but bootstrap.min.css set `[hidden] { display: none !important; }` so we also need the `!important` here to be able to override the default hidden behavior on the sphinx rendered scikit-learn.org. See: https://github.com/scikit-learn/scikit-learn/issues/21755 */display: inline-block !important;position: relative;}#sk-container-id-5 div.sk-text-repr-fallback {display: none;}</style><div id=\"sk-container-id-5\" class=\"sk-top-container\"><div class=\"sk-text-repr-fallback\"><pre>Pipeline(steps=[(&#x27;transform&#x27;,\n",
       "                 ColumnTransformer(transformers=[(&#x27;numeric&#x27;, MinMaxScaler(),\n",
       "                                                  [86, 44, 96, 24, 85, 62, 18,\n",
       "                                                   80, 34, 52, 70, 7, 40, 58,\n",
       "                                                   76, 13, 33, 51, 69, 6, 38,\n",
       "                                                   56, 74, 11, 42, 78, 15, 27,\n",
       "                                                   19, 45, ...]),\n",
       "                                                 (&#x27;categorical&#x27;,\n",
       "                                                  OneHotEncoder(handle_unknown=&#x27;infrequent_if_exist&#x27;),\n",
       "                                                  [22, 25, 26, 31, 41, 48, 49,\n",
       "                                                   59, 60, 77, 83, 93, 97])])),\n",
       "                (&#x27;pca&#x27;, PCA(n_components=3)),\n",
       "                (&#x27;predict&#x27;,\n",
       "                 GridSearchCV(estimator=LogisticRegression(max_iter=1000,\n",
       "                                                           n_jobs=-1,\n",
       "                                                           solver=&#x27;sag&#x27;),\n",
       "                              n_jobs=-1,\n",
       "                              param_grid={&#x27;C&#x27;: array([  0.001,   0.01 ,   0.1  ,   1.   ,  10.   , 100.   ])},\n",
       "                              refit=&#x27;f1&#x27;, return_train_score=True,\n",
       "                              scoring=[&#x27;accuracy&#x27;, &#x27;f1&#x27;, &#x27;roc_auc&#x27;]))])</pre><b>In a Jupyter environment, please rerun this cell to show the HTML representation or trust the notebook. <br />On GitHub, the HTML representation is unable to render, please try loading this page with nbviewer.org.</b></div><div class=\"sk-container\" hidden><div class=\"sk-item sk-dashed-wrapped\"><div class=\"sk-label-container\"><div class=\"sk-label sk-toggleable\"><input class=\"sk-toggleable__control sk-hidden--visually\" id=\"sk-estimator-id-33\" type=\"checkbox\" ><label for=\"sk-estimator-id-33\" class=\"sk-toggleable__label sk-toggleable__label-arrow\">Pipeline</label><div class=\"sk-toggleable__content\"><pre>Pipeline(steps=[(&#x27;transform&#x27;,\n",
       "                 ColumnTransformer(transformers=[(&#x27;numeric&#x27;, MinMaxScaler(),\n",
       "                                                  [86, 44, 96, 24, 85, 62, 18,\n",
       "                                                   80, 34, 52, 70, 7, 40, 58,\n",
       "                                                   76, 13, 33, 51, 69, 6, 38,\n",
       "                                                   56, 74, 11, 42, 78, 15, 27,\n",
       "                                                   19, 45, ...]),\n",
       "                                                 (&#x27;categorical&#x27;,\n",
       "                                                  OneHotEncoder(handle_unknown=&#x27;infrequent_if_exist&#x27;),\n",
       "                                                  [22, 25, 26, 31, 41, 48, 49,\n",
       "                                                   59, 60, 77, 83, 93, 97])])),\n",
       "                (&#x27;pca&#x27;, PCA(n_components=3)),\n",
       "                (&#x27;predict&#x27;,\n",
       "                 GridSearchCV(estimator=LogisticRegression(max_iter=1000,\n",
       "                                                           n_jobs=-1,\n",
       "                                                           solver=&#x27;sag&#x27;),\n",
       "                              n_jobs=-1,\n",
       "                              param_grid={&#x27;C&#x27;: array([  0.001,   0.01 ,   0.1  ,   1.   ,  10.   , 100.   ])},\n",
       "                              refit=&#x27;f1&#x27;, return_train_score=True,\n",
       "                              scoring=[&#x27;accuracy&#x27;, &#x27;f1&#x27;, &#x27;roc_auc&#x27;]))])</pre></div></div></div><div class=\"sk-serial\"><div class=\"sk-item sk-dashed-wrapped\"><div class=\"sk-label-container\"><div class=\"sk-label sk-toggleable\"><input class=\"sk-toggleable__control sk-hidden--visually\" id=\"sk-estimator-id-34\" type=\"checkbox\" ><label for=\"sk-estimator-id-34\" class=\"sk-toggleable__label sk-toggleable__label-arrow\">transform: ColumnTransformer</label><div class=\"sk-toggleable__content\"><pre>ColumnTransformer(transformers=[(&#x27;numeric&#x27;, MinMaxScaler(),\n",
       "                                 [86, 44, 96, 24, 85, 62, 18, 80, 34, 52, 70, 7,\n",
       "                                  40, 58, 76, 13, 33, 51, 69, 6, 38, 56, 74, 11,\n",
       "                                  42, 78, 15, 27, 19, 45, ...]),\n",
       "                                (&#x27;categorical&#x27;,\n",
       "                                 OneHotEncoder(handle_unknown=&#x27;infrequent_if_exist&#x27;),\n",
       "                                 [22, 25, 26, 31, 41, 48, 49, 59, 60, 77, 83,\n",
       "                                  93, 97])])</pre></div></div></div><div class=\"sk-parallel\"><div class=\"sk-parallel-item\"><div class=\"sk-item\"><div class=\"sk-label-container\"><div class=\"sk-label sk-toggleable\"><input class=\"sk-toggleable__control sk-hidden--visually\" id=\"sk-estimator-id-35\" type=\"checkbox\" ><label for=\"sk-estimator-id-35\" class=\"sk-toggleable__label sk-toggleable__label-arrow\">numeric</label><div class=\"sk-toggleable__content\"><pre>[86, 44, 96, 24, 85, 62, 18, 80, 34, 52, 70, 7, 40, 58, 76, 13, 33, 51, 69, 6, 38, 56, 74, 11, 42, 78, 15, 27, 19, 45, 63, 0, 32, 50, 68, 5, 35, 53, 71, 8, 14, 28, 20, 46, 64, 1, 89, 91, 90, 82, 43, 61, 79, 16, 39, 57, 75, 12, 67, 4, 94, 30, 66, 3, 36, 54, 72, 9, 37, 55, 73, 10, 17, 29, 21, 47, 65, 2, 23, 87, 88, 84, 81, 92, 95]</pre></div></div></div><div class=\"sk-serial\"><div class=\"sk-item\"><div class=\"sk-estimator sk-toggleable\"><input class=\"sk-toggleable__control sk-hidden--visually\" id=\"sk-estimator-id-36\" type=\"checkbox\" ><label for=\"sk-estimator-id-36\" class=\"sk-toggleable__label sk-toggleable__label-arrow\">MinMaxScaler</label><div class=\"sk-toggleable__content\"><pre>MinMaxScaler()</pre></div></div></div></div></div></div><div class=\"sk-parallel-item\"><div class=\"sk-item\"><div class=\"sk-label-container\"><div class=\"sk-label sk-toggleable\"><input class=\"sk-toggleable__control sk-hidden--visually\" id=\"sk-estimator-id-37\" type=\"checkbox\" ><label for=\"sk-estimator-id-37\" class=\"sk-toggleable__label sk-toggleable__label-arrow\">categorical</label><div class=\"sk-toggleable__content\"><pre>[22, 25, 26, 31, 41, 48, 49, 59, 60, 77, 83, 93, 97]</pre></div></div></div><div class=\"sk-serial\"><div class=\"sk-item\"><div class=\"sk-estimator sk-toggleable\"><input class=\"sk-toggleable__control sk-hidden--visually\" id=\"sk-estimator-id-38\" type=\"checkbox\" ><label for=\"sk-estimator-id-38\" class=\"sk-toggleable__label sk-toggleable__label-arrow\">OneHotEncoder</label><div class=\"sk-toggleable__content\"><pre>OneHotEncoder(handle_unknown=&#x27;infrequent_if_exist&#x27;)</pre></div></div></div></div></div></div></div></div><div class=\"sk-item\"><div class=\"sk-estimator sk-toggleable\"><input class=\"sk-toggleable__control sk-hidden--visually\" id=\"sk-estimator-id-39\" type=\"checkbox\" ><label for=\"sk-estimator-id-39\" class=\"sk-toggleable__label sk-toggleable__label-arrow\">PCA</label><div class=\"sk-toggleable__content\"><pre>PCA(n_components=3)</pre></div></div></div><div class=\"sk-item sk-dashed-wrapped\"><div class=\"sk-label-container\"><div class=\"sk-label sk-toggleable\"><input class=\"sk-toggleable__control sk-hidden--visually\" id=\"sk-estimator-id-40\" type=\"checkbox\" ><label for=\"sk-estimator-id-40\" class=\"sk-toggleable__label sk-toggleable__label-arrow\">predict: GridSearchCV</label><div class=\"sk-toggleable__content\"><pre>GridSearchCV(estimator=LogisticRegression(max_iter=1000, n_jobs=-1,\n",
       "                                          solver=&#x27;sag&#x27;),\n",
       "             n_jobs=-1,\n",
       "             param_grid={&#x27;C&#x27;: array([  0.001,   0.01 ,   0.1  ,   1.   ,  10.   , 100.   ])},\n",
       "             refit=&#x27;f1&#x27;, return_train_score=True,\n",
       "             scoring=[&#x27;accuracy&#x27;, &#x27;f1&#x27;, &#x27;roc_auc&#x27;])</pre></div></div></div><div class=\"sk-parallel\"><div class=\"sk-parallel-item\"><div class=\"sk-item\"><div class=\"sk-label-container\"><div class=\"sk-label sk-toggleable\"><input class=\"sk-toggleable__control sk-hidden--visually\" id=\"sk-estimator-id-41\" type=\"checkbox\" ><label for=\"sk-estimator-id-41\" class=\"sk-toggleable__label sk-toggleable__label-arrow\">estimator: LogisticRegression</label><div class=\"sk-toggleable__content\"><pre>LogisticRegression(max_iter=1000, n_jobs=-1, solver=&#x27;sag&#x27;)</pre></div></div></div><div class=\"sk-serial\"><div class=\"sk-item\"><div class=\"sk-estimator sk-toggleable\"><input class=\"sk-toggleable__control sk-hidden--visually\" id=\"sk-estimator-id-42\" type=\"checkbox\" ><label for=\"sk-estimator-id-42\" class=\"sk-toggleable__label sk-toggleable__label-arrow\">LogisticRegression</label><div class=\"sk-toggleable__content\"><pre>LogisticRegression(max_iter=1000, n_jobs=-1, solver=&#x27;sag&#x27;)</pre></div></div></div></div></div></div></div></div></div></div></div></div>"
      ],
      "text/plain": [
       "Pipeline(steps=[('transform',\n",
       "                 ColumnTransformer(transformers=[('numeric', MinMaxScaler(),\n",
       "                                                  [86, 44, 96, 24, 85, 62, 18,\n",
       "                                                   80, 34, 52, 70, 7, 40, 58,\n",
       "                                                   76, 13, 33, 51, 69, 6, 38,\n",
       "                                                   56, 74, 11, 42, 78, 15, 27,\n",
       "                                                   19, 45, ...]),\n",
       "                                                 ('categorical',\n",
       "                                                  OneHotEncoder(handle_unknown='infrequent_if_exist'),\n",
       "                                                  [22, 25, 26, 31, 41, 48, 49,\n",
       "                                                   59, 60, 77, 83, 93, 97])])),\n",
       "                ('pca', PCA(n_components=3)),\n",
       "                ('predict',\n",
       "                 GridSearchCV(estimator=LogisticRegression(max_iter=1000,\n",
       "                                                           n_jobs=-1,\n",
       "                                                           solver='sag'),\n",
       "                              n_jobs=-1,\n",
       "                              param_grid={'C': array([  0.001,   0.01 ,   0.1  ,   1.   ,  10.   , 100.   ])},\n",
       "                              refit='f1', return_train_score=True,\n",
       "                              scoring=['accuracy', 'f1', 'roc_auc']))])"
      ]
     },
     "execution_count": 37,
     "metadata": {},
     "output_type": "execute_result"
    }
   ],
   "source": [
    "pca_pipe.fit(X_train, y_train)"
   ]
  },
  {
   "cell_type": "code",
   "execution_count": 38,
   "id": "b095d277-b6e9-4e78-9627-1f75fa41ab00",
   "metadata": {},
   "outputs": [
    {
     "data": {
      "text/plain": [
       "{'C': 0.001}"
      ]
     },
     "execution_count": 38,
     "metadata": {},
     "output_type": "execute_result"
    }
   ],
   "source": [
    "pca_pipe.named_steps['predict'].best_params_"
   ]
  },
  {
   "cell_type": "code",
   "execution_count": 39,
   "id": "8e10a776-b79e-4148-9b80-0e926fc6dd55",
   "metadata": {},
   "outputs": [
    {
     "data": {
      "text/plain": [
       "{'mean_fit_time': array([0.21138439, 0.22733674, 0.26956639, 0.4099308 , 0.52197866,\n",
       "        0.39502687]),\n",
       " 'std_fit_time': array([0.01085174, 0.04430285, 0.01476925, 0.02257141, 0.0486101 ,\n",
       "        0.05949853]),\n",
       " 'mean_score_time': array([0.01137071, 0.00951824, 0.00908108, 0.00963655, 0.01048675,\n",
       "        0.00864301]),\n",
       " 'std_score_time': array([0.00148157, 0.00127099, 0.00083978, 0.00061482, 0.00175082,\n",
       "        0.00091107]),\n",
       " 'param_C': masked_array(data=[0.001, 0.01, 0.1, 1.0, 10.0, 100.0],\n",
       "              mask=[False, False, False, False, False, False],\n",
       "        fill_value='?',\n",
       "             dtype=object),\n",
       " 'params': [{'C': 0.001},\n",
       "  {'C': 0.01},\n",
       "  {'C': 0.1},\n",
       "  {'C': 1.0},\n",
       "  {'C': 10.0},\n",
       "  {'C': 100.0}],\n",
       " 'split0_test_accuracy': array([0.86026923, 0.86026923, 0.86026923, 0.86026923, 0.86026923,\n",
       "        0.86026923]),\n",
       " 'split1_test_accuracy': array([0.86184854, 0.86184854, 0.86184854, 0.86184854, 0.86184854,\n",
       "        0.86184854]),\n",
       " 'split2_test_accuracy': array([0.86034444, 0.86034444, 0.86034444, 0.86034444, 0.86034444,\n",
       "        0.86034444]),\n",
       " 'split3_test_accuracy': array([0.87154997, 0.87154997, 0.87154997, 0.87154997, 0.87154997,\n",
       "        0.87154997]),\n",
       " 'split4_test_accuracy': array([0.86342784, 0.86342784, 0.86342784, 0.86342784, 0.86342784,\n",
       "        0.86342784]),\n",
       " 'mean_test_accuracy': array([0.863488, 0.863488, 0.863488, 0.863488, 0.863488, 0.863488]),\n",
       " 'std_test_accuracy': array([0.00419355, 0.00419355, 0.00419355, 0.00419355, 0.00419355,\n",
       "        0.00419355]),\n",
       " 'rank_test_accuracy': array([1, 1, 1, 1, 1, 1], dtype=int32),\n",
       " 'split0_train_accuracy': array([0.8642927, 0.8642927, 0.8642927, 0.8642927, 0.8642927, 0.8642927]),\n",
       " 'split1_train_accuracy': array([0.86389787, 0.86389787, 0.86389787, 0.86389787, 0.86389787,\n",
       "        0.86389787]),\n",
       " 'split2_train_accuracy': array([0.8642739, 0.8642739, 0.8642739, 0.8642739, 0.8642739, 0.8642739]),\n",
       " 'split3_train_accuracy': array([0.86147251, 0.86147251, 0.86147251, 0.86147251, 0.86147251,\n",
       "        0.86147251]),\n",
       " 'split4_train_accuracy': array([0.86350305, 0.86350305, 0.86350305, 0.86350305, 0.86350305,\n",
       "        0.86350305]),\n",
       " 'mean_train_accuracy': array([0.863488, 0.863488, 0.863488, 0.863488, 0.863488, 0.863488]),\n",
       " 'std_train_accuracy': array([0.00104839, 0.00104839, 0.00104839, 0.00104839, 0.00104839,\n",
       "        0.00104839]),\n",
       " 'split0_test_f1': array([0.8283127, 0.8283127, 0.8283127, 0.8283127, 0.8283127, 0.8283127]),\n",
       " 'split1_test_f1': array([0.82973399, 0.82973399, 0.82973399, 0.82973399, 0.82973399,\n",
       "        0.82973399]),\n",
       " 'split2_test_f1': array([0.82788025, 0.82788025, 0.82788025, 0.82788025, 0.82788025,\n",
       "        0.82788025]),\n",
       " 'split3_test_f1': array([0.84010485, 0.84010485, 0.84010485, 0.84010485, 0.84010485,\n",
       "        0.84010485]),\n",
       " 'split4_test_f1': array([0.8323486, 0.8323486, 0.8323486, 0.8323486, 0.8323486, 0.8323486]),\n",
       " 'mean_test_f1': array([0.83167608, 0.83167608, 0.83167608, 0.83167608, 0.83167608,\n",
       "        0.83167608]),\n",
       " 'std_test_f1': array([0.00449419, 0.00449419, 0.00449419, 0.00449419, 0.00449419,\n",
       "        0.00449419]),\n",
       " 'rank_test_f1': array([1, 1, 1, 1, 1, 1], dtype=int32),\n",
       " 'split0_train_f1': array([0.83249791, 0.83249791, 0.83249791, 0.83249791, 0.83249791,\n",
       "        0.83249791]),\n",
       " 'split1_train_f1': array([0.83213913, 0.83213913, 0.83213913, 0.83213913, 0.83213913,\n",
       "        0.83213913]),\n",
       " 'split2_train_f1': array([0.8326029, 0.8326029, 0.8326029, 0.8326029, 0.8326029, 0.8326029]),\n",
       " 'split3_train_f1': array([0.82957069, 0.82957069, 0.82957069, 0.82957069, 0.82957069,\n",
       "        0.82957069]),\n",
       " 'split4_train_f1': array([0.83148415, 0.83148415, 0.83148415, 0.83148415, 0.83148415,\n",
       "        0.83148415]),\n",
       " 'mean_train_f1': array([0.83165896, 0.83165896, 0.83165896, 0.83165896, 0.83165896,\n",
       "        0.83165896]),\n",
       " 'std_train_f1': array([0.00111507, 0.00111507, 0.00111507, 0.00111507, 0.00111507,\n",
       "        0.00111507]),\n",
       " 'split0_test_roc_auc': array([0.93914692, 0.93892149, 0.93888908, 0.93888586, 0.93888503,\n",
       "        0.93888508]),\n",
       " 'split1_test_roc_auc': array([0.93937759, 0.93914893, 0.93910892, 0.93910229, 0.93910149,\n",
       "        0.93910134]),\n",
       " 'split2_test_roc_auc': array([0.93993933, 0.93968479, 0.9396375 , 0.93963373, 0.93963288,\n",
       "        0.93963298]),\n",
       " 'split3_test_roc_auc': array([0.94507114, 0.9448309 , 0.94479494, 0.94479004, 0.94478957,\n",
       "        0.94478989]),\n",
       " 'split4_test_roc_auc': array([0.94195024, 0.94173511, 0.94168963, 0.94168595, 0.94168562,\n",
       "        0.9416863 ]),\n",
       " 'mean_test_roc_auc': array([0.94109704, 0.94086424, 0.94082401, 0.94081957, 0.94081892,\n",
       "        0.94081912]),\n",
       " 'std_test_roc_auc': array([0.00221906, 0.00221813, 0.0022186 , 0.00221855, 0.00221871,\n",
       "        0.00221888]),\n",
       " 'rank_test_roc_auc': array([1, 2, 3, 4, 6, 5], dtype=int32),\n",
       " 'split0_train_roc_auc': array([0.94158511, 0.94135367, 0.9413106 , 0.94130595, 0.94130534,\n",
       "        0.94130534]),\n",
       " 'split1_train_roc_auc': array([0.94153756, 0.94129308, 0.94124807, 0.94124191, 0.94124068,\n",
       "        0.94124061]),\n",
       " 'split2_train_roc_auc': array([0.94140924, 0.94119462, 0.94115355, 0.94114849, 0.94114786,\n",
       "        0.94114802]),\n",
       " 'split3_train_roc_auc': array([0.94008014, 0.93985578, 0.93981618, 0.93981157, 0.93981153,\n",
       "        0.9398114 ]),\n",
       " 'split4_train_roc_auc': array([0.94088805, 0.94064208, 0.94059715, 0.94059062, 0.94058947,\n",
       "        0.94059031]),\n",
       " 'mean_train_roc_auc': array([0.94110002, 0.94086785, 0.94082511, 0.94081971, 0.94081898,\n",
       "        0.94081914]),\n",
       " 'std_train_roc_auc': array([0.000567  , 0.00056549, 0.00056434, 0.0005642 , 0.00056395,\n",
       "        0.00056393])}"
      ]
     },
     "execution_count": 39,
     "metadata": {},
     "output_type": "execute_result"
    }
   ],
   "source": [
    "pca_pipe.named_steps['predict'].cv_results_"
   ]
  },
  {
   "cell_type": "code",
   "execution_count": 40,
   "id": "41c4b211-2404-4ac5-a151-d20fa2bf2991",
   "metadata": {},
   "outputs": [
    {
     "name": "stdout",
     "output_type": "stream",
     "text": [
      "              precision    recall  f1-score   support\n",
      "\n",
      "           0       0.80      0.98      0.89     35552\n",
      "           1       0.98      0.72      0.83     30933\n",
      "\n",
      "    accuracy                           0.86     66485\n",
      "   macro avg       0.89      0.85      0.86     66485\n",
      "weighted avg       0.88      0.86      0.86     66485\n",
      "\n"
     ]
    }
   ],
   "source": [
    "print(classification_report(pca_pipe.predict(X_train), y_train))"
   ]
  },
  {
   "cell_type": "code",
   "execution_count": 41,
   "id": "c32c11bf-bec8-4cec-aee7-39100f6cd271",
   "metadata": {},
   "outputs": [
    {
     "name": "stdout",
     "output_type": "stream",
     "text": [
      "              precision    recall  f1-score   support\n",
      "\n",
      "           0       0.81      0.98      0.89     11957\n",
      "           1       0.98      0.73      0.84     10205\n",
      "\n",
      "    accuracy                           0.87     22162\n",
      "   macro avg       0.89      0.86      0.86     22162\n",
      "weighted avg       0.89      0.87      0.87     22162\n",
      "\n"
     ]
    }
   ],
   "source": [
    "print(classification_report(pca_pipe.predict(X_test), y_test))"
   ]
  },
  {
   "cell_type": "code",
   "execution_count": null,
   "id": "f13486b4-5cba-4921-9f2c-aeeaafa2e1af",
   "metadata": {},
   "outputs": [],
   "source": []
  },
  {
   "cell_type": "markdown",
   "id": "9753fae3-78e8-4f68-8f91-f23e1d0a3d77",
   "metadata": {
    "tags": []
   },
   "source": [
    "## XGBoost"
   ]
  },
  {
   "cell_type": "code",
   "execution_count": 43,
   "id": "c0c4a8b6-05fc-4d2e-8b26-4cbed186c13e",
   "metadata": {},
   "outputs": [],
   "source": [
    "# https://xgboost.readthedocs.io/en/stable/python/python_intro.html\n",
    "clf = xgb.XGBClassifier(tree_method='hist', enable_categorical=True, max_cat_to_onehot=3)"
   ]
  },
  {
   "cell_type": "code",
   "execution_count": 44,
   "id": "d0d86758-4f7b-436c-9286-367630dae22a",
   "metadata": {},
   "outputs": [
    {
     "data": {
      "text/html": [
       "<style>#sk-container-id-6 {color: black;background-color: white;}#sk-container-id-6 pre{padding: 0;}#sk-container-id-6 div.sk-toggleable {background-color: white;}#sk-container-id-6 label.sk-toggleable__label {cursor: pointer;display: block;width: 100%;margin-bottom: 0;padding: 0.3em;box-sizing: border-box;text-align: center;}#sk-container-id-6 label.sk-toggleable__label-arrow:before {content: \"▸\";float: left;margin-right: 0.25em;color: #696969;}#sk-container-id-6 label.sk-toggleable__label-arrow:hover:before {color: black;}#sk-container-id-6 div.sk-estimator:hover label.sk-toggleable__label-arrow:before {color: black;}#sk-container-id-6 div.sk-toggleable__content {max-height: 0;max-width: 0;overflow: hidden;text-align: left;background-color: #f0f8ff;}#sk-container-id-6 div.sk-toggleable__content pre {margin: 0.2em;color: black;border-radius: 0.25em;background-color: #f0f8ff;}#sk-container-id-6 input.sk-toggleable__control:checked~div.sk-toggleable__content {max-height: 200px;max-width: 100%;overflow: auto;}#sk-container-id-6 input.sk-toggleable__control:checked~label.sk-toggleable__label-arrow:before {content: \"▾\";}#sk-container-id-6 div.sk-estimator input.sk-toggleable__control:checked~label.sk-toggleable__label {background-color: #d4ebff;}#sk-container-id-6 div.sk-label input.sk-toggleable__control:checked~label.sk-toggleable__label {background-color: #d4ebff;}#sk-container-id-6 input.sk-hidden--visually {border: 0;clip: rect(1px 1px 1px 1px);clip: rect(1px, 1px, 1px, 1px);height: 1px;margin: -1px;overflow: hidden;padding: 0;position: absolute;width: 1px;}#sk-container-id-6 div.sk-estimator {font-family: monospace;background-color: #f0f8ff;border: 1px dotted black;border-radius: 0.25em;box-sizing: border-box;margin-bottom: 0.5em;}#sk-container-id-6 div.sk-estimator:hover {background-color: #d4ebff;}#sk-container-id-6 div.sk-parallel-item::after {content: \"\";width: 100%;border-bottom: 1px solid gray;flex-grow: 1;}#sk-container-id-6 div.sk-label:hover label.sk-toggleable__label {background-color: #d4ebff;}#sk-container-id-6 div.sk-serial::before {content: \"\";position: absolute;border-left: 1px solid gray;box-sizing: border-box;top: 0;bottom: 0;left: 50%;z-index: 0;}#sk-container-id-6 div.sk-serial {display: flex;flex-direction: column;align-items: center;background-color: white;padding-right: 0.2em;padding-left: 0.2em;position: relative;}#sk-container-id-6 div.sk-item {position: relative;z-index: 1;}#sk-container-id-6 div.sk-parallel {display: flex;align-items: stretch;justify-content: center;background-color: white;position: relative;}#sk-container-id-6 div.sk-item::before, #sk-container-id-6 div.sk-parallel-item::before {content: \"\";position: absolute;border-left: 1px solid gray;box-sizing: border-box;top: 0;bottom: 0;left: 50%;z-index: -1;}#sk-container-id-6 div.sk-parallel-item {display: flex;flex-direction: column;z-index: 1;position: relative;background-color: white;}#sk-container-id-6 div.sk-parallel-item:first-child::after {align-self: flex-end;width: 50%;}#sk-container-id-6 div.sk-parallel-item:last-child::after {align-self: flex-start;width: 50%;}#sk-container-id-6 div.sk-parallel-item:only-child::after {width: 0;}#sk-container-id-6 div.sk-dashed-wrapped {border: 1px dashed gray;margin: 0 0.4em 0.5em 0.4em;box-sizing: border-box;padding-bottom: 0.4em;background-color: white;}#sk-container-id-6 div.sk-label label {font-family: monospace;font-weight: bold;display: inline-block;line-height: 1.2em;}#sk-container-id-6 div.sk-label-container {text-align: center;}#sk-container-id-6 div.sk-container {/* jupyter's `normalize.less` sets `[hidden] { display: none; }` but bootstrap.min.css set `[hidden] { display: none !important; }` so we also need the `!important` here to be able to override the default hidden behavior on the sphinx rendered scikit-learn.org. See: https://github.com/scikit-learn/scikit-learn/issues/21755 */display: inline-block !important;position: relative;}#sk-container-id-6 div.sk-text-repr-fallback {display: none;}</style><div id=\"sk-container-id-6\" class=\"sk-top-container\"><div class=\"sk-text-repr-fallback\"><pre>XGBClassifier(base_score=0.5, booster=&#x27;gbtree&#x27;, callbacks=None,\n",
       "              colsample_bylevel=1, colsample_bynode=1, colsample_bytree=1,\n",
       "              early_stopping_rounds=None, enable_categorical=True,\n",
       "              eval_metric=None, gamma=0, gpu_id=-1, grow_policy=&#x27;depthwise&#x27;,\n",
       "              importance_type=None, interaction_constraints=&#x27;&#x27;,\n",
       "              learning_rate=0.300000012, max_bin=256, max_cat_to_onehot=3,\n",
       "              max_delta_step=0, max_depth=6, max_leaves=0, min_child_weight=1,\n",
       "              missing=nan, monotone_constraints=&#x27;()&#x27;, n_estimators=100,\n",
       "              n_jobs=0, num_parallel_tree=1, predictor=&#x27;auto&#x27;, random_state=0,\n",
       "              reg_alpha=0, reg_lambda=1, ...)</pre><b>In a Jupyter environment, please rerun this cell to show the HTML representation or trust the notebook. <br />On GitHub, the HTML representation is unable to render, please try loading this page with nbviewer.org.</b></div><div class=\"sk-container\" hidden><div class=\"sk-item\"><div class=\"sk-estimator sk-toggleable\"><input class=\"sk-toggleable__control sk-hidden--visually\" id=\"sk-estimator-id-43\" type=\"checkbox\" checked><label for=\"sk-estimator-id-43\" class=\"sk-toggleable__label sk-toggleable__label-arrow\">XGBClassifier</label><div class=\"sk-toggleable__content\"><pre>XGBClassifier(base_score=0.5, booster=&#x27;gbtree&#x27;, callbacks=None,\n",
       "              colsample_bylevel=1, colsample_bynode=1, colsample_bytree=1,\n",
       "              early_stopping_rounds=None, enable_categorical=True,\n",
       "              eval_metric=None, gamma=0, gpu_id=-1, grow_policy=&#x27;depthwise&#x27;,\n",
       "              importance_type=None, interaction_constraints=&#x27;&#x27;,\n",
       "              learning_rate=0.300000012, max_bin=256, max_cat_to_onehot=3,\n",
       "              max_delta_step=0, max_depth=6, max_leaves=0, min_child_weight=1,\n",
       "              missing=nan, monotone_constraints=&#x27;()&#x27;, n_estimators=100,\n",
       "              n_jobs=0, num_parallel_tree=1, predictor=&#x27;auto&#x27;, random_state=0,\n",
       "              reg_alpha=0, reg_lambda=1, ...)</pre></div></div></div></div></div>"
      ],
      "text/plain": [
       "XGBClassifier(base_score=0.5, booster='gbtree', callbacks=None,\n",
       "              colsample_bylevel=1, colsample_bynode=1, colsample_bytree=1,\n",
       "              early_stopping_rounds=None, enable_categorical=True,\n",
       "              eval_metric=None, gamma=0, gpu_id=-1, grow_policy='depthwise',\n",
       "              importance_type=None, interaction_constraints='',\n",
       "              learning_rate=0.300000012, max_bin=256, max_cat_to_onehot=3,\n",
       "              max_delta_step=0, max_depth=6, max_leaves=0, min_child_weight=1,\n",
       "              missing=nan, monotone_constraints='()', n_estimators=100,\n",
       "              n_jobs=0, num_parallel_tree=1, predictor='auto', random_state=0,\n",
       "              reg_alpha=0, reg_lambda=1, ...)"
      ]
     },
     "execution_count": 44,
     "metadata": {},
     "output_type": "execute_result"
    }
   ],
   "source": [
    "clf.fit(X_train, y_train)"
   ]
  },
  {
   "cell_type": "code",
   "execution_count": 45,
   "id": "6727997d-9cea-4df8-a29d-e30d688cf1f9",
   "metadata": {},
   "outputs": [
    {
     "name": "stdout",
     "output_type": "stream",
     "text": [
      "              precision    recall  f1-score   support\n",
      "\n",
      "           0       0.99      0.99      0.99     43597\n",
      "           1       0.97      0.98      0.97     22888\n",
      "\n",
      "    accuracy                           0.98     66485\n",
      "   macro avg       0.98      0.98      0.98     66485\n",
      "weighted avg       0.98      0.98      0.98     66485\n",
      "\n"
     ]
    }
   ],
   "source": [
    "print(classification_report(clf.predict(X_train), y_train))"
   ]
  },
  {
   "cell_type": "code",
   "execution_count": 46,
   "id": "85e91002-7338-4e90-990f-f4364d929d67",
   "metadata": {},
   "outputs": [
    {
     "name": "stdout",
     "output_type": "stream",
     "text": [
      "              precision    recall  f1-score   support\n",
      "\n",
      "           0       0.97      0.98      0.98     14467\n",
      "           1       0.96      0.95      0.95      7695\n",
      "\n",
      "    accuracy                           0.97     22162\n",
      "   macro avg       0.97      0.96      0.96     22162\n",
      "weighted avg       0.97      0.97      0.97     22162\n",
      "\n"
     ]
    }
   ],
   "source": [
    "print(classification_report(clf.predict(X_test), y_test))"
   ]
  },
  {
   "cell_type": "code",
   "execution_count": 47,
   "id": "9f5c3f46-63c5-4ea1-9ba7-99092407f82a",
   "metadata": {},
   "outputs": [
    {
     "data": {
      "text/plain": [
       "array([[0.9996247 , 0.00037525]], dtype=float32)"
      ]
     },
     "execution_count": 47,
     "metadata": {},
     "output_type": "execute_result"
    }
   ],
   "source": [
    "clf.predict_proba(X_test.sample(1))"
   ]
  },
  {
   "cell_type": "code",
   "execution_count": 48,
   "id": "899edc71-7880-4043-ae67-709c67b4ad56",
   "metadata": {},
   "outputs": [
    {
     "data": {
      "text/plain": [
       "array([[0.00009716, 0.99990284],\n",
       "       [0.005885  , 0.994115  ],\n",
       "       [0.9998573 , 0.00014267],\n",
       "       [0.0265249 , 0.9734751 ],\n",
       "       [0.01703298, 0.982967  ],\n",
       "       [0.00559306, 0.99440694],\n",
       "       [0.99702203, 0.00297799],\n",
       "       [0.00167471, 0.9983253 ],\n",
       "       [0.00007117, 0.99992883],\n",
       "       [0.01861799, 0.981382  ]], dtype=float32)"
      ]
     },
     "execution_count": 48,
     "metadata": {},
     "output_type": "execute_result"
    }
   ],
   "source": [
    "clf.predict_proba(X_test.sample(10))"
   ]
  },
  {
   "cell_type": "code",
   "execution_count": 49,
   "id": "3cbcb825-afda-4307-9cd4-8c05082cc5cf",
   "metadata": {},
   "outputs": [],
   "source": [
    "clf.save_model('../models/xgb.json')"
   ]
  },
  {
   "cell_type": "markdown",
   "id": "b70b3d98-b1d0-43ea-ba86-8f308a11c5f3",
   "metadata": {},
   "source": [
    "### Grid Search"
   ]
  },
  {
   "cell_type": "code",
   "execution_count": 50,
   "id": "ffd5e6a2-a4fe-4a7d-ac5c-9e187db7bbd3",
   "metadata": {},
   "outputs": [],
   "source": [
    "param_grid = {'learning_rate': [1e-2, 5e-2, 1e-1], 'max_depth': [4, 6, 8], 'n_estimators': [100, 500, 1000]}"
   ]
  },
  {
   "cell_type": "code",
   "execution_count": 51,
   "id": "8ea65e98-fef1-43bf-bd5a-0b405bea54e3",
   "metadata": {},
   "outputs": [],
   "source": [
    "xgb_grid = GridSearchCV(xgb.XGBClassifier(tree_method='hist', enable_categorical=True, max_cat_to_onehot=3), param_grid, return_train_score=True, refit='f1', scoring=scoring, n_jobs=-1)"
   ]
  },
  {
   "cell_type": "code",
   "execution_count": 52,
   "id": "7cbb1411-7a1d-4008-94c3-7368527226fd",
   "metadata": {},
   "outputs": [
    {
     "data": {
      "text/html": [
       "<style>#sk-container-id-7 {color: black;background-color: white;}#sk-container-id-7 pre{padding: 0;}#sk-container-id-7 div.sk-toggleable {background-color: white;}#sk-container-id-7 label.sk-toggleable__label {cursor: pointer;display: block;width: 100%;margin-bottom: 0;padding: 0.3em;box-sizing: border-box;text-align: center;}#sk-container-id-7 label.sk-toggleable__label-arrow:before {content: \"▸\";float: left;margin-right: 0.25em;color: #696969;}#sk-container-id-7 label.sk-toggleable__label-arrow:hover:before {color: black;}#sk-container-id-7 div.sk-estimator:hover label.sk-toggleable__label-arrow:before {color: black;}#sk-container-id-7 div.sk-toggleable__content {max-height: 0;max-width: 0;overflow: hidden;text-align: left;background-color: #f0f8ff;}#sk-container-id-7 div.sk-toggleable__content pre {margin: 0.2em;color: black;border-radius: 0.25em;background-color: #f0f8ff;}#sk-container-id-7 input.sk-toggleable__control:checked~div.sk-toggleable__content {max-height: 200px;max-width: 100%;overflow: auto;}#sk-container-id-7 input.sk-toggleable__control:checked~label.sk-toggleable__label-arrow:before {content: \"▾\";}#sk-container-id-7 div.sk-estimator input.sk-toggleable__control:checked~label.sk-toggleable__label {background-color: #d4ebff;}#sk-container-id-7 div.sk-label input.sk-toggleable__control:checked~label.sk-toggleable__label {background-color: #d4ebff;}#sk-container-id-7 input.sk-hidden--visually {border: 0;clip: rect(1px 1px 1px 1px);clip: rect(1px, 1px, 1px, 1px);height: 1px;margin: -1px;overflow: hidden;padding: 0;position: absolute;width: 1px;}#sk-container-id-7 div.sk-estimator {font-family: monospace;background-color: #f0f8ff;border: 1px dotted black;border-radius: 0.25em;box-sizing: border-box;margin-bottom: 0.5em;}#sk-container-id-7 div.sk-estimator:hover {background-color: #d4ebff;}#sk-container-id-7 div.sk-parallel-item::after {content: \"\";width: 100%;border-bottom: 1px solid gray;flex-grow: 1;}#sk-container-id-7 div.sk-label:hover label.sk-toggleable__label {background-color: #d4ebff;}#sk-container-id-7 div.sk-serial::before {content: \"\";position: absolute;border-left: 1px solid gray;box-sizing: border-box;top: 0;bottom: 0;left: 50%;z-index: 0;}#sk-container-id-7 div.sk-serial {display: flex;flex-direction: column;align-items: center;background-color: white;padding-right: 0.2em;padding-left: 0.2em;position: relative;}#sk-container-id-7 div.sk-item {position: relative;z-index: 1;}#sk-container-id-7 div.sk-parallel {display: flex;align-items: stretch;justify-content: center;background-color: white;position: relative;}#sk-container-id-7 div.sk-item::before, #sk-container-id-7 div.sk-parallel-item::before {content: \"\";position: absolute;border-left: 1px solid gray;box-sizing: border-box;top: 0;bottom: 0;left: 50%;z-index: -1;}#sk-container-id-7 div.sk-parallel-item {display: flex;flex-direction: column;z-index: 1;position: relative;background-color: white;}#sk-container-id-7 div.sk-parallel-item:first-child::after {align-self: flex-end;width: 50%;}#sk-container-id-7 div.sk-parallel-item:last-child::after {align-self: flex-start;width: 50%;}#sk-container-id-7 div.sk-parallel-item:only-child::after {width: 0;}#sk-container-id-7 div.sk-dashed-wrapped {border: 1px dashed gray;margin: 0 0.4em 0.5em 0.4em;box-sizing: border-box;padding-bottom: 0.4em;background-color: white;}#sk-container-id-7 div.sk-label label {font-family: monospace;font-weight: bold;display: inline-block;line-height: 1.2em;}#sk-container-id-7 div.sk-label-container {text-align: center;}#sk-container-id-7 div.sk-container {/* jupyter's `normalize.less` sets `[hidden] { display: none; }` but bootstrap.min.css set `[hidden] { display: none !important; }` so we also need the `!important` here to be able to override the default hidden behavior on the sphinx rendered scikit-learn.org. See: https://github.com/scikit-learn/scikit-learn/issues/21755 */display: inline-block !important;position: relative;}#sk-container-id-7 div.sk-text-repr-fallback {display: none;}</style><div id=\"sk-container-id-7\" class=\"sk-top-container\"><div class=\"sk-text-repr-fallback\"><pre>GridSearchCV(estimator=XGBClassifier(base_score=None, booster=None,\n",
       "                                     callbacks=None, colsample_bylevel=None,\n",
       "                                     colsample_bynode=None,\n",
       "                                     colsample_bytree=None,\n",
       "                                     early_stopping_rounds=None,\n",
       "                                     enable_categorical=True, eval_metric=None,\n",
       "                                     gamma=None, gpu_id=None, grow_policy=None,\n",
       "                                     importance_type=None,\n",
       "                                     interaction_constraints=None,\n",
       "                                     learning_rate=None, max_bin=None,\n",
       "                                     max_cat_to_o...\n",
       "                                     min_child_weight=None, missing=nan,\n",
       "                                     monotone_constraints=None,\n",
       "                                     n_estimators=100, n_jobs=None,\n",
       "                                     num_parallel_tree=None, predictor=None,\n",
       "                                     random_state=None, reg_alpha=None,\n",
       "                                     reg_lambda=None, ...),\n",
       "             n_jobs=-1,\n",
       "             param_grid={&#x27;learning_rate&#x27;: [0.01, 0.05, 0.1],\n",
       "                         &#x27;max_depth&#x27;: [4, 6, 8],\n",
       "                         &#x27;n_estimators&#x27;: [100, 500, 1000]},\n",
       "             refit=&#x27;f1&#x27;, return_train_score=True,\n",
       "             scoring=[&#x27;accuracy&#x27;, &#x27;f1&#x27;, &#x27;roc_auc&#x27;])</pre><b>In a Jupyter environment, please rerun this cell to show the HTML representation or trust the notebook. <br />On GitHub, the HTML representation is unable to render, please try loading this page with nbviewer.org.</b></div><div class=\"sk-container\" hidden><div class=\"sk-item sk-dashed-wrapped\"><div class=\"sk-label-container\"><div class=\"sk-label sk-toggleable\"><input class=\"sk-toggleable__control sk-hidden--visually\" id=\"sk-estimator-id-44\" type=\"checkbox\" ><label for=\"sk-estimator-id-44\" class=\"sk-toggleable__label sk-toggleable__label-arrow\">GridSearchCV</label><div class=\"sk-toggleable__content\"><pre>GridSearchCV(estimator=XGBClassifier(base_score=None, booster=None,\n",
       "                                     callbacks=None, colsample_bylevel=None,\n",
       "                                     colsample_bynode=None,\n",
       "                                     colsample_bytree=None,\n",
       "                                     early_stopping_rounds=None,\n",
       "                                     enable_categorical=True, eval_metric=None,\n",
       "                                     gamma=None, gpu_id=None, grow_policy=None,\n",
       "                                     importance_type=None,\n",
       "                                     interaction_constraints=None,\n",
       "                                     learning_rate=None, max_bin=None,\n",
       "                                     max_cat_to_o...\n",
       "                                     min_child_weight=None, missing=nan,\n",
       "                                     monotone_constraints=None,\n",
       "                                     n_estimators=100, n_jobs=None,\n",
       "                                     num_parallel_tree=None, predictor=None,\n",
       "                                     random_state=None, reg_alpha=None,\n",
       "                                     reg_lambda=None, ...),\n",
       "             n_jobs=-1,\n",
       "             param_grid={&#x27;learning_rate&#x27;: [0.01, 0.05, 0.1],\n",
       "                         &#x27;max_depth&#x27;: [4, 6, 8],\n",
       "                         &#x27;n_estimators&#x27;: [100, 500, 1000]},\n",
       "             refit=&#x27;f1&#x27;, return_train_score=True,\n",
       "             scoring=[&#x27;accuracy&#x27;, &#x27;f1&#x27;, &#x27;roc_auc&#x27;])</pre></div></div></div><div class=\"sk-parallel\"><div class=\"sk-parallel-item\"><div class=\"sk-item\"><div class=\"sk-label-container\"><div class=\"sk-label sk-toggleable\"><input class=\"sk-toggleable__control sk-hidden--visually\" id=\"sk-estimator-id-45\" type=\"checkbox\" ><label for=\"sk-estimator-id-45\" class=\"sk-toggleable__label sk-toggleable__label-arrow\">estimator: XGBClassifier</label><div class=\"sk-toggleable__content\"><pre>XGBClassifier(base_score=None, booster=None, callbacks=None,\n",
       "              colsample_bylevel=None, colsample_bynode=None,\n",
       "              colsample_bytree=None, early_stopping_rounds=None,\n",
       "              enable_categorical=True, eval_metric=None, gamma=None,\n",
       "              gpu_id=None, grow_policy=None, importance_type=None,\n",
       "              interaction_constraints=None, learning_rate=None, max_bin=None,\n",
       "              max_cat_to_onehot=3, max_delta_step=None, max_depth=None,\n",
       "              max_leaves=None, min_child_weight=None, missing=nan,\n",
       "              monotone_constraints=None, n_estimators=100, n_jobs=None,\n",
       "              num_parallel_tree=None, predictor=None, random_state=None,\n",
       "              reg_alpha=None, reg_lambda=None, ...)</pre></div></div></div><div class=\"sk-serial\"><div class=\"sk-item\"><div class=\"sk-estimator sk-toggleable\"><input class=\"sk-toggleable__control sk-hidden--visually\" id=\"sk-estimator-id-46\" type=\"checkbox\" ><label for=\"sk-estimator-id-46\" class=\"sk-toggleable__label sk-toggleable__label-arrow\">XGBClassifier</label><div class=\"sk-toggleable__content\"><pre>XGBClassifier(base_score=None, booster=None, callbacks=None,\n",
       "              colsample_bylevel=None, colsample_bynode=None,\n",
       "              colsample_bytree=None, early_stopping_rounds=None,\n",
       "              enable_categorical=True, eval_metric=None, gamma=None,\n",
       "              gpu_id=None, grow_policy=None, importance_type=None,\n",
       "              interaction_constraints=None, learning_rate=None, max_bin=None,\n",
       "              max_cat_to_onehot=3, max_delta_step=None, max_depth=None,\n",
       "              max_leaves=None, min_child_weight=None, missing=nan,\n",
       "              monotone_constraints=None, n_estimators=100, n_jobs=None,\n",
       "              num_parallel_tree=None, predictor=None, random_state=None,\n",
       "              reg_alpha=None, reg_lambda=None, ...)</pre></div></div></div></div></div></div></div></div></div></div>"
      ],
      "text/plain": [
       "GridSearchCV(estimator=XGBClassifier(base_score=None, booster=None,\n",
       "                                     callbacks=None, colsample_bylevel=None,\n",
       "                                     colsample_bynode=None,\n",
       "                                     colsample_bytree=None,\n",
       "                                     early_stopping_rounds=None,\n",
       "                                     enable_categorical=True, eval_metric=None,\n",
       "                                     gamma=None, gpu_id=None, grow_policy=None,\n",
       "                                     importance_type=None,\n",
       "                                     interaction_constraints=None,\n",
       "                                     learning_rate=None, max_bin=None,\n",
       "                                     max_cat_to_o...\n",
       "                                     min_child_weight=None, missing=nan,\n",
       "                                     monotone_constraints=None,\n",
       "                                     n_estimators=100, n_jobs=None,\n",
       "                                     num_parallel_tree=None, predictor=None,\n",
       "                                     random_state=None, reg_alpha=None,\n",
       "                                     reg_lambda=None, ...),\n",
       "             n_jobs=-1,\n",
       "             param_grid={'learning_rate': [0.01, 0.05, 0.1],\n",
       "                         'max_depth': [4, 6, 8],\n",
       "                         'n_estimators': [100, 500, 1000]},\n",
       "             refit='f1', return_train_score=True,\n",
       "             scoring=['accuracy', 'f1', 'roc_auc'])"
      ]
     },
     "execution_count": 52,
     "metadata": {},
     "output_type": "execute_result"
    }
   ],
   "source": [
    "xgb_grid.fit(X_train, y_train)"
   ]
  },
  {
   "cell_type": "code",
   "execution_count": 53,
   "id": "4c57fc09-3510-495d-92b2-2e7b537cce8a",
   "metadata": {
    "tags": []
   },
   "outputs": [
    {
     "data": {
      "text/plain": [
       "{'learning_rate': 0.1, 'max_depth': 8, 'n_estimators': 1000}"
      ]
     },
     "execution_count": 53,
     "metadata": {},
     "output_type": "execute_result"
    }
   ],
   "source": [
    "xgb_grid.best_params_"
   ]
  },
  {
   "cell_type": "code",
   "execution_count": 54,
   "id": "08d0ee6c-e6ae-4aee-a3db-554ab0c37ac0",
   "metadata": {},
   "outputs": [
    {
     "data": {
      "text/plain": [
       "{'mean_fit_time': array([ 3.92275043, 19.05516238, 32.27479506,  4.47770729, 23.39189692,\n",
       "        41.0781867 ,  5.8411612 , 26.56187806, 46.28443408,  4.1842927 ,\n",
       "        14.38824677, 26.98968968,  4.70398526, 17.30030751, 31.6471787 ,\n",
       "         6.13143225, 20.81975417, 39.51329255,  3.70128417, 13.66222301,\n",
       "        26.6621016 ,  4.47872996, 16.55103965, 35.69290833,  4.79269094,\n",
       "        21.88574653, 40.85840497]),\n",
       " 'std_fit_time': array([0.21322575, 1.28723206, 1.8801422 , 0.26583066, 1.01757929,\n",
       "        2.44989124, 0.41345019, 0.90961811, 1.87245373, 0.2598955 ,\n",
       "        0.56511409, 1.22994387, 0.2976351 , 0.71945501, 1.01650284,\n",
       "        0.31724612, 1.15873515, 1.9511238 , 0.05078817, 0.60732198,\n",
       "        1.12699161, 0.34532446, 0.84543808, 2.33751572, 0.12951151,\n",
       "        1.07215427, 0.87539814]),\n",
       " 'mean_score_time': array([0.09520688, 0.20627451, 0.37235055, 0.10496798, 0.47355795,\n",
       "        0.71249018, 0.14464269, 0.66041546, 1.06606169, 0.09410477,\n",
       "        0.20840764, 0.40654392, 0.11574907, 0.33027182, 0.67842321,\n",
       "        0.14061265, 0.54942136, 1.10553875, 0.08902845, 0.20030389,\n",
       "        0.3741024 , 0.11648021, 0.34123812, 0.75473309, 0.13532839,\n",
       "        0.63250775, 0.94302235]),\n",
       " 'std_score_time': array([0.0103677 , 0.02784094, 0.02921718, 0.00703141, 0.08552113,\n",
       "        0.05579774, 0.01726499, 0.09284662, 0.06883762, 0.00957496,\n",
       "        0.02380145, 0.05486911, 0.00881533, 0.01663648, 0.04366459,\n",
       "        0.00985443, 0.02182817, 0.08570636, 0.00962221, 0.01340918,\n",
       "        0.02095395, 0.01028559, 0.02868738, 0.12015332, 0.01160937,\n",
       "        0.10888603, 0.05724718]),\n",
       " 'param_learning_rate': masked_array(data=[0.01, 0.01, 0.01, 0.01, 0.01, 0.01, 0.01, 0.01, 0.01,\n",
       "                    0.05, 0.05, 0.05, 0.05, 0.05, 0.05, 0.05, 0.05, 0.05,\n",
       "                    0.1, 0.1, 0.1, 0.1, 0.1, 0.1, 0.1, 0.1, 0.1],\n",
       "              mask=[False, False, False, False, False, False, False, False,\n",
       "                    False, False, False, False, False, False, False, False,\n",
       "                    False, False, False, False, False, False, False, False,\n",
       "                    False, False, False],\n",
       "        fill_value='?',\n",
       "             dtype=object),\n",
       " 'param_max_depth': masked_array(data=[4, 4, 4, 6, 6, 6, 8, 8, 8, 4, 4, 4, 6, 6, 6, 8, 8, 8,\n",
       "                    4, 4, 4, 6, 6, 6, 8, 8, 8],\n",
       "              mask=[False, False, False, False, False, False, False, False,\n",
       "                    False, False, False, False, False, False, False, False,\n",
       "                    False, False, False, False, False, False, False, False,\n",
       "                    False, False, False],\n",
       "        fill_value='?',\n",
       "             dtype=object),\n",
       " 'param_n_estimators': masked_array(data=[100, 500, 1000, 100, 500, 1000, 100, 500, 1000, 100,\n",
       "                    500, 1000, 100, 500, 1000, 100, 500, 1000, 100, 500,\n",
       "                    1000, 100, 500, 1000, 100, 500, 1000],\n",
       "              mask=[False, False, False, False, False, False, False, False,\n",
       "                    False, False, False, False, False, False, False, False,\n",
       "                    False, False, False, False, False, False, False, False,\n",
       "                    False, False, False],\n",
       "        fill_value='?',\n",
       "             dtype=object),\n",
       " 'params': [{'learning_rate': 0.01, 'max_depth': 4, 'n_estimators': 100},\n",
       "  {'learning_rate': 0.01, 'max_depth': 4, 'n_estimators': 500},\n",
       "  {'learning_rate': 0.01, 'max_depth': 4, 'n_estimators': 1000},\n",
       "  {'learning_rate': 0.01, 'max_depth': 6, 'n_estimators': 100},\n",
       "  {'learning_rate': 0.01, 'max_depth': 6, 'n_estimators': 500},\n",
       "  {'learning_rate': 0.01, 'max_depth': 6, 'n_estimators': 1000},\n",
       "  {'learning_rate': 0.01, 'max_depth': 8, 'n_estimators': 100},\n",
       "  {'learning_rate': 0.01, 'max_depth': 8, 'n_estimators': 500},\n",
       "  {'learning_rate': 0.01, 'max_depth': 8, 'n_estimators': 1000},\n",
       "  {'learning_rate': 0.05, 'max_depth': 4, 'n_estimators': 100},\n",
       "  {'learning_rate': 0.05, 'max_depth': 4, 'n_estimators': 500},\n",
       "  {'learning_rate': 0.05, 'max_depth': 4, 'n_estimators': 1000},\n",
       "  {'learning_rate': 0.05, 'max_depth': 6, 'n_estimators': 100},\n",
       "  {'learning_rate': 0.05, 'max_depth': 6, 'n_estimators': 500},\n",
       "  {'learning_rate': 0.05, 'max_depth': 6, 'n_estimators': 1000},\n",
       "  {'learning_rate': 0.05, 'max_depth': 8, 'n_estimators': 100},\n",
       "  {'learning_rate': 0.05, 'max_depth': 8, 'n_estimators': 500},\n",
       "  {'learning_rate': 0.05, 'max_depth': 8, 'n_estimators': 1000},\n",
       "  {'learning_rate': 0.1, 'max_depth': 4, 'n_estimators': 100},\n",
       "  {'learning_rate': 0.1, 'max_depth': 4, 'n_estimators': 500},\n",
       "  {'learning_rate': 0.1, 'max_depth': 4, 'n_estimators': 1000},\n",
       "  {'learning_rate': 0.1, 'max_depth': 6, 'n_estimators': 100},\n",
       "  {'learning_rate': 0.1, 'max_depth': 6, 'n_estimators': 500},\n",
       "  {'learning_rate': 0.1, 'max_depth': 6, 'n_estimators': 1000},\n",
       "  {'learning_rate': 0.1, 'max_depth': 8, 'n_estimators': 100},\n",
       "  {'learning_rate': 0.1, 'max_depth': 8, 'n_estimators': 500},\n",
       "  {'learning_rate': 0.1, 'max_depth': 8, 'n_estimators': 1000}],\n",
       " 'split0_test_accuracy': array([0.9313379 , 0.94803339, 0.95472663, 0.94773257, 0.95570429,\n",
       "        0.9602918 , 0.95359856, 0.96157028, 0.96540573, 0.94788298,\n",
       "        0.96006618, 0.96375122, 0.95600511, 0.96578176, 0.96924118,\n",
       "        0.9618711 , 0.9694668 , 0.97067008, 0.95412499, 0.96420245,\n",
       "        0.96886516, 0.95969016, 0.96916598, 0.97157254, 0.96518012,\n",
       "        0.97067008, 0.9710461 ]),\n",
       " 'split1_test_accuracy': array([0.93036023, 0.95013913, 0.95570429, 0.94698052, 0.95803565,\n",
       "        0.96134466, 0.95765962, 0.96269835, 0.9648793 , 0.95028954,\n",
       "        0.96051741, 0.96465368, 0.95796044, 0.96615778, 0.96931639,\n",
       "        0.96239753, 0.96833872, 0.9694668 , 0.95525306, 0.96382643,\n",
       "        0.9679627 , 0.96119425, 0.96863954, 0.96969241, 0.96555614,\n",
       "        0.96939159, 0.96984282]),\n",
       " 'split2_test_accuracy': array([0.93284199, 0.94728134, 0.95555388, 0.94916146, 0.95796044,\n",
       "        0.96254794, 0.95743401, 0.96360081, 0.96713544, 0.94833421,\n",
       "        0.96081823, 0.96525532, 0.95848688, 0.96736106, 0.9710461 ,\n",
       "        0.96314958, 0.97172295, 0.97322704, 0.95510265, 0.96563135,\n",
       "        0.96916598, 0.9618711 , 0.97119651, 0.9726254 , 0.96736106,\n",
       "        0.97239979, 0.97330225]),\n",
       " 'split3_test_accuracy': array([0.94006167, 0.95337294, 0.96014139, 0.95352335, 0.96141987,\n",
       "        0.96502971, 0.95991577, 0.9664586 , 0.97059487, 0.9542754 ,\n",
       "        0.96465368, 0.96833872, 0.96111905, 0.969542  , 0.9726254 ,\n",
       "        0.96690983, 0.97390389, 0.97503196, 0.96149507, 0.9680379 ,\n",
       "        0.97149733, 0.96510491, 0.9725502 , 0.97390389, 0.97051967,\n",
       "        0.97443032, 0.97570881]),\n",
       " 'split4_test_accuracy': array([0.93585019, 0.95517786, 0.96164548, 0.95352335, 0.96202151,\n",
       "        0.9664586 , 0.96006618, 0.96766188, 0.96931639, 0.95540347,\n",
       "        0.96660901, 0.96961721, 0.9619463 , 0.9709709 , 0.97465594,\n",
       "        0.96773708, 0.97367827, 0.97548319, 0.96111905, 0.9710461 ,\n",
       "        0.97307663, 0.96615778, 0.97443032, 0.97525758, 0.97044446,\n",
       "        0.9756336 , 0.97533278]),\n",
       " 'mean_test_accuracy': array([0.9340904 , 0.95080093, 0.95755434, 0.95018425, 0.95902835,\n",
       "        0.96313454, 0.95773483, 0.96439798, 0.96746635, 0.95123712,\n",
       "        0.9625329 , 0.96632323, 0.95910356, 0.9679627 , 0.971377  ,\n",
       "        0.96441303, 0.97142213, 0.97277581, 0.95741897, 0.96654885,\n",
       "        0.97011356, 0.96280364, 0.97119651, 0.97261036, 0.96781229,\n",
       "        0.97250508, 0.97304655]),\n",
       " 'std_test_accuracy': array([0.00351573, 0.00304163, 0.0027875 , 0.00281496, 0.00236024,\n",
       "        0.00229216, 0.0023408 , 0.00229866, 0.00220267, 0.00307131,\n",
       "        0.00261532, 0.00225635, 0.00216475, 0.00199598, 0.00206045,\n",
       "        0.00242501, 0.00222128, 0.00236675, 0.00320037, 0.00269078,\n",
       "        0.00188559, 0.0024372 , 0.00214248, 0.00191169, 0.00230132,\n",
       "        0.00230505, 0.00230849]),\n",
       " 'rank_test_accuracy': array([27, 25, 22, 26, 20, 16, 21, 15, 11, 24, 18, 13, 19,  9,  6, 14,  5,\n",
       "         2, 23, 12,  8, 17,  7,  3, 10,  4,  1], dtype=int32),\n",
       " 'split0_train_accuracy': array([0.93558697, 0.954219  , 0.96096864, 0.95376777, 0.96431526,\n",
       "        0.97053847, 0.96418365, 0.97456193, 0.98003309, 0.95373016,\n",
       "        0.96828232, 0.97584042, 0.96457848, 0.97941265, 0.9892645 ,\n",
       "        0.97474994, 0.99014815, 0.99828909, 0.96078063, 0.97636685,\n",
       "        0.98544785, 0.97050086, 0.98986614, 0.99815748, 0.98052192,\n",
       "        0.99830789, 0.99990599]),\n",
       " 'split1_train_accuracy': array([0.93453411, 0.95292171, 0.96019779, 0.95290291, 0.96422125,\n",
       "        0.96999323, 0.9650109 , 0.97491915, 0.98125517, 0.95294051,\n",
       "        0.96756787, 0.97570881, 0.96431526, 0.9802399 , 0.98945251,\n",
       "        0.97518237, 0.99112582, 0.99823268, 0.9603482 , 0.97636685,\n",
       "        0.98554185, 0.97006844, 0.99063699, 0.99793186, 0.98148079,\n",
       "        0.99866511, 0.99981199]),\n",
       " 'split2_train_accuracy': array([0.93487253, 0.95342934, 0.9604234 , 0.95363616, 0.96431526,\n",
       "        0.97004964, 0.96459728, 0.97518237, 0.98029631, 0.95342934,\n",
       "        0.96764308, 0.975596  , 0.96478529, 0.97992028, 0.98971573,\n",
       "        0.97516357, 0.99189667, 0.99855231, 0.960367  , 0.97591562,\n",
       "        0.98522223, 0.97031285, 0.98979093, 0.99793186, 0.98213883,\n",
       "        0.99890953, 0.99986839]),\n",
       " 'split3_train_accuracy': array([0.93487253, 0.95183124, 0.9587689 , 0.95247048, 0.96307438,\n",
       "        0.96850793, 0.96316838, 0.97356547, 0.97950666, 0.95226367,\n",
       "        0.9664962 , 0.97382868, 0.96299917, 0.97943145, 0.98838084,\n",
       "        0.97362187, 0.98971573, 0.99776265, 0.95967135, 0.97495676,\n",
       "        0.98448898, 0.96895916, 0.99024216, 0.99806347, 0.98042792,\n",
       "        0.99828909, 0.99988719]),\n",
       " 'split4_train_accuracy': array([0.93376325, 0.95192525, 0.95901331, 0.95286531, 0.96305558,\n",
       "        0.96856434, 0.96309318, 0.97369707, 0.97892382, 0.95220726,\n",
       "        0.96627059, 0.97367827, 0.9633564 , 0.97843499, 0.98847484,\n",
       "        0.97362187, 0.99031736, 0.99810108, 0.95929533, 0.97456193,\n",
       "        0.98435737, 0.96862074, 0.98956532, 0.99763104, 0.9802211 ,\n",
       "        0.99830789, 0.99975558]),\n",
       " 'mean_train_accuracy': array([0.93472588, 0.95286531, 0.95987441, 0.95312853, 0.96379635,\n",
       "        0.96953072, 0.96401068, 0.9743852 , 0.98000301, 0.95291419,\n",
       "        0.96725201, 0.97493044, 0.96400692, 0.97948785, 0.98905768,\n",
       "        0.97446793, 0.99064075, 0.99818756, 0.9600925 , 0.9756336 ,\n",
       "        0.98501166, 0.96969241, 0.99002031, 0.99794315, 0.98095811,\n",
       "        0.9984959 , 0.99984583]),\n",
       " 'std_train_accuracy': array([0.00059126, 0.00090629, 0.00084463, 0.00049387, 0.00059817,\n",
       "        0.00083411, 0.00076495, 0.00064766, 0.00078305, 0.00060907,\n",
       "        0.00075481, 0.00096526, 0.00070233, 0.00061155, 0.0005347 ,\n",
       "        0.00070789, 0.0007766 , 0.00025823, 0.00053425, 0.00074316,\n",
       "        0.00049335, 0.00075711, 0.0003776 , 0.00017781, 0.00073237,\n",
       "        0.00025028, 0.00005501]),\n",
       " 'split0_test_f1': array([0.90524131, 0.92599336, 0.93494705, 0.92613455, 0.93652333,\n",
       "        0.94283239, 0.93390466, 0.94475078, 0.95009764, 0.92576326,\n",
       "        0.94240156, 0.94762008, 0.93699515, 0.9505596 , 0.95554831,\n",
       "        0.94517141, 0.95580231, 0.95758103, 0.93411104, 0.9481933 ,\n",
       "        0.95495103, 0.94192849, 0.955396  , 0.95885938, 0.94974493,\n",
       "        0.95756257, 0.9581112 ]),\n",
       " 'split1_test_f1': array([0.90358184, 0.92808331, 0.93585974, 0.92462312, 0.93951875,\n",
       "        0.94400871, 0.93903628, 0.94606351, 0.94904528, 0.92839346,\n",
       "        0.94286647, 0.94874591, 0.93936436, 0.95089481, 0.95544879,\n",
       "        0.94564036, 0.95404432, 0.95572519, 0.93523457, 0.94750628,\n",
       "        0.9534528 , 0.94386423, 0.95444117, 0.95598034, 0.95      ,\n",
       "        0.95559193, 0.95627522]),\n",
       " 'split2_test_f1': array([0.90710496, 0.92463176, 0.93594885, 0.92783945, 0.93960022,\n",
       "        0.94598698, 0.93904803, 0.94755093, 0.95254642, 0.92605747,\n",
       "        0.94343719, 0.94979352, 0.94038877, 0.95281583, 0.9581112 ,\n",
       "        0.94690074, 0.95905923, 0.96126224, 0.93532662, 0.95028826,\n",
       "        0.9554057 , 0.94499295, 0.95833787, 0.96042618, 0.95280557,\n",
       "        0.96004355, 0.96135003]),\n",
       " 'split3_test_f1': array([0.91618467, 0.93307427, 0.94249132, 0.9338896 , 0.94451055,\n",
       "        0.94952784, 0.94247167, 0.95158489, 0.95750462, 0.93435543,\n",
       "        0.94893525, 0.95420429, 0.94408998, 0.95598305, 0.96034858,\n",
       "        0.9522673 , 0.96218808, 0.9638423 , 0.94439618, 0.95368857,\n",
       "        0.95868309, 0.94963092, 0.96020063, 0.96215509, 0.95730778,\n",
       "        0.96298715, 0.96482631]),\n",
       " 'split4_test_f1': array([0.91145022, 0.93607894, 0.94510226, 0.93436703, 0.94570476,\n",
       "        0.95181504, 0.94317817, 0.95357374, 0.95589189, 0.9364484 ,\n",
       "        0.95206219, 0.95625812, 0.94556799, 0.95819796, 0.96342919,\n",
       "        0.95367671, 0.96212121, 0.96461138, 0.94431879, 0.95831077,\n",
       "        0.96115451, 0.95138289, 0.96307559, 0.96428959, 0.95748134,\n",
       "        0.96484375, 0.964402  ]),\n",
       " 'mean_test_f1': array([0.9087126 , 0.92957233, 0.93886984, 0.92937075, 0.94117152,\n",
       "        0.94683419, 0.93952776, 0.94870477, 0.95301717, 0.9302036 ,\n",
       "        0.94594053, 0.95132438, 0.94128125, 0.95369025, 0.95857721,\n",
       "        0.9487313 , 0.95864303, 0.96060443, 0.93867744, 0.95159744,\n",
       "        0.95672943, 0.94635989, 0.95829025, 0.96034212, 0.95346792,\n",
       "        0.96020579, 0.96099295]),\n",
       " 'std_test_f1': array([0.00456696, 0.0043367 , 0.00412163, 0.00401848, 0.00342069,\n",
       "        0.00336987, 0.00328886, 0.00334495, 0.00325338, 0.00439133,\n",
       "        0.00386481, 0.00332715, 0.0031339 , 0.00296501, 0.00302846,\n",
       "        0.00353661, 0.00328804, 0.00346179, 0.00465751, 0.00398702,\n",
       "        0.00279462, 0.00356831, 0.00315415, 0.00283196, 0.00338165,\n",
       "        0.00339256, 0.00337654]),\n",
       " 'rank_test_f1': array([27, 25, 22, 26, 20, 16, 21, 15, 11, 24, 18, 13, 19,  9,  6, 14,  5,\n",
       "         2, 23, 12,  8, 17,  7,  3, 10,  4,  1], dtype=int32),\n",
       " 'split0_train_f1': array([0.91068356, 0.93452013, 0.94378858, 0.93447385, 0.94872765,\n",
       "        0.95747741, 0.94874761, 0.96333433, 0.97113032, 0.93373543,\n",
       "        0.95421111, 0.96505208, 0.94910034, 0.97019192, 0.98443675,\n",
       "        0.96359151, 0.98572596, 0.99752347, 0.94350864, 0.96579499,\n",
       "        0.97889973, 0.95742545, 0.98531375, 0.99733203, 0.9718463 ,\n",
       "        0.99755022, 0.999864  ]),\n",
       " 'split1_train_f1': array([0.90958193, 0.93272796, 0.94272961, 0.93323739, 0.94864391,\n",
       "        0.95671512, 0.94985855, 0.96386391, 0.97290393, 0.93275663,\n",
       "        0.95320765, 0.96487221, 0.94876916, 0.97139903, 0.98471515,\n",
       "        0.96423346, 0.98715087, 0.99744162, 0.94293059, 0.96584332,\n",
       "        0.97904461, 0.95683999, 0.98643126, 0.99700468, 0.97322133,\n",
       "        0.99806734, 0.99972797]),\n",
       " 'split2_train_f1': array([0.90970231, 0.93326868, 0.94297093, 0.93410998, 0.94873319,\n",
       "        0.95678359, 0.94927126, 0.96422958, 0.97151245, 0.93327587,\n",
       "        0.95330855, 0.96468412, 0.94937975, 0.97093403, 0.98509334,\n",
       "        0.96418598, 0.98826157, 0.99790448, 0.94287572, 0.96513811,\n",
       "        0.97858194, 0.95714945, 0.98520396, 0.99700485, 0.97417496,\n",
       "        0.9984216 , 0.9998096 ]),\n",
       " 'split3_train_f1': array([0.90942844, 0.93107715, 0.94064792, 0.93256149, 0.94693039,\n",
       "        0.95451954, 0.9471868 , 0.96188256, 0.97037077, 0.93168671,\n",
       "        0.95164966, 0.96214099, 0.94683667, 0.97021833, 0.98316076,\n",
       "        0.96197729, 0.98510308, 0.99675988, 0.94193444, 0.96377088,\n",
       "        0.97752595, 0.9551858 , 0.98586178, 0.99719552, 0.9716958 ,\n",
       "        0.99752347, 0.9998368 ]),\n",
       " 'split4_train_f1': array([0.90816194, 0.93110973, 0.94094701, 0.93313062, 0.94684448,\n",
       "        0.95458743, 0.94710463, 0.96203425, 0.96951734, 0.93154521,\n",
       "        0.95131879, 0.96190891, 0.9472716 , 0.96876787, 0.98328926,\n",
       "        0.96192363, 0.98598601, 0.99725073, 0.94133586, 0.96318468,\n",
       "        0.97733588, 0.95466768, 0.98487285, 0.99656751, 0.97139439,\n",
       "        0.99755022, 0.99964636]),\n",
       " 'mean_train_f1': array([0.90951163, 0.93254073, 0.94221681, 0.93350266, 0.94797592,\n",
       "        0.95601662, 0.94843377, 0.96306892, 0.97108696, 0.93259997,\n",
       "        0.95273915, 0.96373166, 0.9482715 , 0.97030223, 0.98413905,\n",
       "        0.96318237, 0.9864455 , 0.99737603, 0.94251705, 0.96474639,\n",
       "        0.97827762, 0.95625367, 0.98553672, 0.99702092, 0.97246655,\n",
       "        0.99782257, 0.99977695]),\n",
       " 'std_train_f1': array([0.0008054 , 0.00131703, 0.00121457, 0.00069378, 0.00088972,\n",
       "        0.00122425, 0.00110918, 0.00095159, 0.00113674, 0.00086223,\n",
       "        0.00108764, 0.0014003 , 0.0010219 , 0.0008917 , 0.00077593,\n",
       "        0.00103112, 0.00112486, 0.00037434, 0.00077686, 0.00108137,\n",
       "        0.0007099 , 0.0011113 , 0.000549  , 0.00025822, 0.00105987,\n",
       "        0.00036237, 0.0000796 ]),\n",
       " 'split0_test_roc_auc': array([0.97915255, 0.98778444, 0.99029567, 0.98630256, 0.99116498,\n",
       "        0.99257736, 0.98960709, 0.99271031, 0.99391096, 0.98773881,\n",
       "        0.99247793, 0.99371484, 0.9911655 , 0.99406254, 0.99477011,\n",
       "        0.99271788, 0.99479621, 0.99505493, 0.99034233, 0.99375927,\n",
       "        0.99446341, 0.99257038, 0.99466841, 0.99495658, 0.99388367,\n",
       "        0.99511018, 0.99522061]),\n",
       " 'split1_test_roc_auc': array([0.97898141, 0.98731244, 0.98990401, 0.98565274, 0.99076313,\n",
       "        0.99222622, 0.98871153, 0.99186085, 0.99299319, 0.98727729,\n",
       "        0.99203916, 0.99325773, 0.99084738, 0.99359509, 0.99422019,\n",
       "        0.99189118, 0.99385728, 0.99412725, 0.98990931, 0.99330267,\n",
       "        0.99392788, 0.99220836, 0.99413797, 0.99429224, 0.99302472,\n",
       "        0.9942241 , 0.99428014]),\n",
       " 'split2_test_roc_auc': array([0.97756019, 0.98705291, 0.99003657, 0.98462938, 0.99119307,\n",
       "        0.99292951, 0.98823765, 0.99291738, 0.99436382, 0.9872551 ,\n",
       "        0.99260239, 0.9941519 , 0.9913342 , 0.99465307, 0.99541847,\n",
       "        0.99291921, 0.99545043, 0.99569585, 0.99012788, 0.99417923,\n",
       "        0.99515786, 0.99290874, 0.99535722, 0.99549653, 0.99445432,\n",
       "        0.99559871, 0.99560962]),\n",
       " 'split3_test_roc_auc': array([0.9821665 , 0.98994392, 0.99225515, 0.9881587 , 0.99289528,\n",
       "        0.9941817 , 0.99127551, 0.99421085, 0.99507603, 0.99009886,\n",
       "        0.99404099, 0.9949855 , 0.99289664, 0.99544333, 0.99586356,\n",
       "        0.99423719, 0.99595591, 0.99610968, 0.99245656, 0.99510231,\n",
       "        0.99561066, 0.99428425, 0.99586455, 0.99599585, 0.99504224,\n",
       "        0.99595572, 0.99601812]),\n",
       " 'split4_test_roc_auc': array([0.98109768, 0.98982522, 0.99222708, 0.98815462, 0.99292334,\n",
       "        0.99435338, 0.99155202, 0.99443813, 0.99541393, 0.98989176,\n",
       "        0.99418179, 0.99520111, 0.99297445, 0.99562023, 0.99627415,\n",
       "        0.99445429, 0.99619896, 0.99634179, 0.99225741, 0.99514834,\n",
       "        0.99577015, 0.99425671, 0.9962884 , 0.9963283 , 0.99547712,\n",
       "        0.99633133, 0.99625023]),\n",
       " 'mean_test_roc_auc': array([0.97979167, 0.98838378, 0.9909437 , 0.9865796 , 0.99178796,\n",
       "        0.99325363, 0.98987676, 0.9932275 , 0.99435159, 0.98845236,\n",
       "        0.99306845, 0.99426222, 0.99184363, 0.99467485, 0.9953093 ,\n",
       "        0.99324395, 0.99525176, 0.9954659 , 0.9910187 , 0.99429836,\n",
       "        0.99498599, 0.99324569, 0.99526331, 0.9954139 , 0.99437641,\n",
       "        0.99544401, 0.99547574]),\n",
       " 'std_test_roc_auc': array([0.00163646, 0.0012482 , 0.00106684, 0.0013938 , 0.00092817,\n",
       "        0.00085892, 0.00133268, 0.00096582, 0.00085941, 0.00127328,\n",
       "        0.00087301, 0.0007383 , 0.00090548, 0.00077789, 0.0007385 ,\n",
       "        0.00096578, 0.00084671, 0.00079942, 0.00110305, 0.00073007,\n",
       "        0.00069676, 0.00086561, 0.00077993, 0.00072786, 0.00086381,\n",
       "        0.00073113, 0.00069376]),\n",
       " 'rank_test_roc_auc': array([27, 25, 22, 26, 20, 14, 23, 17, 11, 24, 18, 13, 19,  9,  5, 16,  7,\n",
       "         2, 21, 12,  8, 15,  6,  4, 10,  3,  1], dtype=int32),\n",
       " 'split0_train_roc_auc': array([0.98088525, 0.98945798, 0.9922397 , 0.98841875, 0.99392682,\n",
       "        0.99563225, 0.99260896, 0.99666749, 0.9980541 , 0.98946861,\n",
       "        0.99485626, 0.99679731, 0.99393547, 0.99774539, 0.99927298,\n",
       "        0.99668709, 0.99946261, 0.99997347, 0.9923349 , 0.99692671,\n",
       "        0.99867985, 0.99573922, 0.99935918, 0.99996692, 0.99815881,\n",
       "        0.99997705, 0.9999998 ]),\n",
       " 'split1_train_roc_auc': array([0.98056825, 0.9894713 , 0.9922973 , 0.98840309, 0.99404506,\n",
       "        0.99576668, 0.99268087, 0.99681283, 0.99821195, 0.98949985,\n",
       "        0.99492428, 0.99698268, 0.99409202, 0.99802207, 0.99931672,\n",
       "        0.99679934, 0.99952037, 0.99996736, 0.99231779, 0.99712499,\n",
       "        0.9986675 , 0.99578233, 0.9994359 , 0.9999504 , 0.99823208,\n",
       "        0.99997512, 0.99999988]),\n",
       " 'split2_train_roc_auc': array([0.98060346, 0.98941947, 0.99209811, 0.98854351, 0.99385597,\n",
       "        0.99566578, 0.99254797, 0.99663858, 0.99804746, 0.98959581,\n",
       "        0.99474232, 0.99670842, 0.99395992, 0.99784796, 0.99933071,\n",
       "        0.99663149, 0.99958598, 0.9999769 , 0.9922134 , 0.99681131,\n",
       "        0.99856677, 0.99578133, 0.99935201, 0.9999617 , 0.99829283,\n",
       "        0.99998416, 0.99999993]),\n",
       " 'split3_train_roc_auc': array([0.98000881, 0.98879707, 0.99166037, 0.98769488, 0.99342838,\n",
       "        0.99531928, 0.99224906, 0.99652058, 0.99788978, 0.9890299 ,\n",
       "        0.99447486, 0.9964704 , 0.99349727, 0.99780097, 0.99921555,\n",
       "        0.99656053, 0.99942048, 0.99996187, 0.99188906, 0.99668972,\n",
       "        0.99846091, 0.99543596, 0.99940734, 0.9999646 , 0.99800952,\n",
       "        0.99997734, 0.99999997]),\n",
       " 'split4_train_roc_auc': array([0.98002884, 0.98910136, 0.99180838, 0.98786558, 0.99342215,\n",
       "        0.9952847 , 0.99231181, 0.99637323, 0.99783739, 0.98919185,\n",
       "        0.99440858, 0.99640781, 0.99348514, 0.99758643, 0.99921771,\n",
       "        0.9964109 , 0.9994425 , 0.99996303, 0.99190733, 0.99660899,\n",
       "        0.99855877, 0.99533902, 0.99933839, 0.99994776, 0.99804132,\n",
       "        0.99997262, 0.99999982]),\n",
       " 'mean_train_roc_auc': array([0.98041892, 0.98924944, 0.99202077, 0.98818516, 0.99373568,\n",
       "        0.99553374, 0.99247974, 0.99660254, 0.99800814, 0.98935721,\n",
       "        0.99468126, 0.99667332, 0.99379396, 0.99780056, 0.99927074,\n",
       "        0.99661787, 0.99948639, 0.99996853, 0.9921325 , 0.99683235,\n",
       "        0.99858676, 0.99561557, 0.99937856, 0.99995828, 0.99814691,\n",
       "        0.99997726, 0.99999988]),\n",
       " 'std_train_roc_auc': array([0.00034472, 0.00026389, 0.00024714, 0.00033852, 0.00026056,\n",
       "        0.00019464, 0.00016924, 0.00014767, 0.00013293, 0.00021173,\n",
       "        0.00020512, 0.00021165, 0.0002529 , 0.00014157, 0.00004811,\n",
       "        0.00012964, 0.00005985, 0.00000584, 0.00019586, 0.00018178,\n",
       "        0.00008026, 0.00018937, 0.00003691, 0.00000774, 0.00010836,\n",
       "        0.00000384, 0.00000006])}"
      ]
     },
     "execution_count": 54,
     "metadata": {},
     "output_type": "execute_result"
    }
   ],
   "source": [
    "xgb_grid.cv_results_ "
   ]
  },
  {
   "cell_type": "code",
   "execution_count": 55,
   "id": "dd189b00-f35f-438f-9cf0-40ea296a6616",
   "metadata": {},
   "outputs": [
    {
     "name": "stdout",
     "output_type": "stream",
     "text": [
      "              precision    recall  f1-score   support\n",
      "\n",
      "           0       1.00      1.00      1.00     43514\n",
      "           1       1.00      1.00      1.00     22971\n",
      "\n",
      "    accuracy                           1.00     66485\n",
      "   macro avg       1.00      1.00      1.00     66485\n",
      "weighted avg       1.00      1.00      1.00     66485\n",
      "\n"
     ]
    }
   ],
   "source": [
    "print(classification_report(xgb_grid.predict(X_train), y_train))"
   ]
  },
  {
   "cell_type": "code",
   "execution_count": 56,
   "id": "be99c1e2-b38e-417a-9946-d79c23f4b98e",
   "metadata": {},
   "outputs": [
    {
     "name": "stdout",
     "output_type": "stream",
     "text": [
      "              precision    recall  f1-score   support\n",
      "\n",
      "           0       0.98      0.98      0.98     14474\n",
      "           1       0.96      0.96      0.96      7688\n",
      "\n",
      "    accuracy                           0.97     22162\n",
      "   macro avg       0.97      0.97      0.97     22162\n",
      "weighted avg       0.97      0.97      0.97     22162\n",
      "\n"
     ]
    }
   ],
   "source": [
    "print(classification_report(xgb_grid.predict(X_test), y_test))"
   ]
  },
  {
   "cell_type": "code",
   "execution_count": null,
   "id": "bccbc767-e101-40b4-a170-516ad3515d1c",
   "metadata": {},
   "outputs": [],
   "source": []
  },
  {
   "cell_type": "markdown",
   "id": "ac070062-1b13-41a4-aaf5-c18e99402b8a",
   "metadata": {
    "tags": []
   },
   "source": [
    "## CatBoost"
   ]
  },
  {
   "cell_type": "code",
   "execution_count": 57,
   "id": "0c9bc36d-a06f-46c9-a221-a6d667d07e3c",
   "metadata": {},
   "outputs": [],
   "source": [
    "train_pool = Pool(X_train, y_train, cat_features=cat_features)\n",
    "test_pool = Pool(X_test, y_test, cat_features=cat_features)"
   ]
  },
  {
   "cell_type": "code",
   "execution_count": 58,
   "id": "d39a765c-216c-451e-a063-3acb469414ad",
   "metadata": {},
   "outputs": [],
   "source": [
    "catboost_model = CatBoostClassifier(iterations=250,\n",
    "                                    depth=10,\n",
    "                                    learning_rate=1e-1,\n",
    "                                    eval_metric='F1'\n",
    "                                   )"
   ]
  },
  {
   "cell_type": "code",
   "execution_count": 59,
   "id": "d1d0c1c9-e982-4a60-9656-cbb786b73753",
   "metadata": {},
   "outputs": [
    {
     "name": "stdout",
     "output_type": "stream",
     "text": [
      "0:\tlearn: 0.8949237\ttotal: 112ms\tremaining: 27.8s\n",
      "1:\tlearn: 0.9038120\ttotal: 164ms\tremaining: 20.4s\n",
      "2:\tlearn: 0.9143085\ttotal: 224ms\tremaining: 18.4s\n",
      "3:\tlearn: 0.9192387\ttotal: 287ms\tremaining: 17.7s\n",
      "4:\tlearn: 0.9205643\ttotal: 343ms\tremaining: 16.8s\n",
      "5:\tlearn: 0.9250478\ttotal: 397ms\tremaining: 16.1s\n",
      "6:\tlearn: 0.9266708\ttotal: 454ms\tremaining: 15.7s\n",
      "7:\tlearn: 0.9280310\ttotal: 505ms\tremaining: 15.3s\n",
      "8:\tlearn: 0.9288752\ttotal: 569ms\tremaining: 15.2s\n",
      "9:\tlearn: 0.9309655\ttotal: 618ms\tremaining: 14.8s\n",
      "10:\tlearn: 0.9324348\ttotal: 670ms\tremaining: 14.6s\n",
      "11:\tlearn: 0.9328625\ttotal: 732ms\tremaining: 14.5s\n",
      "12:\tlearn: 0.9332528\ttotal: 789ms\tremaining: 14.4s\n",
      "13:\tlearn: 0.9344283\ttotal: 841ms\tremaining: 14.2s\n",
      "14:\tlearn: 0.9352325\ttotal: 889ms\tremaining: 13.9s\n",
      "15:\tlearn: 0.9357556\ttotal: 956ms\tremaining: 14s\n",
      "16:\tlearn: 0.9365847\ttotal: 1.02s\tremaining: 13.9s\n",
      "17:\tlearn: 0.9372732\ttotal: 1.07s\tremaining: 13.8s\n",
      "18:\tlearn: 0.9373191\ttotal: 1.12s\tremaining: 13.6s\n",
      "19:\tlearn: 0.9384183\ttotal: 1.17s\tremaining: 13.5s\n",
      "20:\tlearn: 0.9390587\ttotal: 1.22s\tremaining: 13.3s\n",
      "21:\tlearn: 0.9399935\ttotal: 1.27s\tremaining: 13.2s\n",
      "22:\tlearn: 0.9406292\ttotal: 1.32s\tremaining: 13.1s\n",
      "23:\tlearn: 0.9418024\ttotal: 1.37s\tremaining: 12.9s\n",
      "24:\tlearn: 0.9422178\ttotal: 1.42s\tremaining: 12.8s\n",
      "25:\tlearn: 0.9431112\ttotal: 1.48s\tremaining: 12.7s\n",
      "26:\tlearn: 0.9435285\ttotal: 1.52s\tremaining: 12.6s\n",
      "27:\tlearn: 0.9444072\ttotal: 1.58s\tremaining: 12.5s\n",
      "28:\tlearn: 0.9448474\ttotal: 1.63s\tremaining: 12.4s\n",
      "29:\tlearn: 0.9457002\ttotal: 1.68s\tremaining: 12.4s\n",
      "30:\tlearn: 0.9460619\ttotal: 1.73s\tremaining: 12.2s\n",
      "31:\tlearn: 0.9462804\ttotal: 1.78s\tremaining: 12.1s\n",
      "32:\tlearn: 0.9468551\ttotal: 1.83s\tremaining: 12s\n",
      "33:\tlearn: 0.9474186\ttotal: 1.89s\tremaining: 12s\n",
      "34:\tlearn: 0.9473136\ttotal: 1.93s\tremaining: 11.9s\n",
      "35:\tlearn: 0.9474369\ttotal: 1.98s\tremaining: 11.8s\n",
      "36:\tlearn: 0.9482721\ttotal: 2.04s\tremaining: 11.7s\n",
      "37:\tlearn: 0.9484120\ttotal: 2.09s\tremaining: 11.6s\n",
      "38:\tlearn: 0.9485127\ttotal: 2.13s\tremaining: 11.6s\n",
      "39:\tlearn: 0.9487841\ttotal: 2.19s\tremaining: 11.5s\n",
      "40:\tlearn: 0.9489738\ttotal: 2.24s\tremaining: 11.4s\n",
      "41:\tlearn: 0.9494608\ttotal: 2.29s\tremaining: 11.4s\n",
      "42:\tlearn: 0.9497287\ttotal: 2.35s\tremaining: 11.3s\n",
      "43:\tlearn: 0.9499446\ttotal: 2.4s\tremaining: 11.2s\n",
      "44:\tlearn: 0.9501966\ttotal: 2.44s\tremaining: 11.1s\n",
      "45:\tlearn: 0.9504301\ttotal: 2.49s\tremaining: 11.1s\n",
      "46:\tlearn: 0.9504051\ttotal: 2.55s\tremaining: 11s\n",
      "47:\tlearn: 0.9507363\ttotal: 2.6s\tremaining: 11s\n",
      "48:\tlearn: 0.9513344\ttotal: 2.66s\tremaining: 10.9s\n",
      "49:\tlearn: 0.9517131\ttotal: 2.71s\tremaining: 10.8s\n",
      "50:\tlearn: 0.9522176\ttotal: 2.76s\tremaining: 10.8s\n",
      "51:\tlearn: 0.9523231\ttotal: 2.81s\tremaining: 10.7s\n",
      "52:\tlearn: 0.9528421\ttotal: 2.86s\tremaining: 10.6s\n",
      "53:\tlearn: 0.9529166\ttotal: 2.92s\tremaining: 10.6s\n",
      "54:\tlearn: 0.9537980\ttotal: 2.97s\tremaining: 10.5s\n",
      "55:\tlearn: 0.9541376\ttotal: 3.02s\tremaining: 10.5s\n",
      "56:\tlearn: 0.9543924\ttotal: 3.08s\tremaining: 10.4s\n",
      "57:\tlearn: 0.9547193\ttotal: 3.13s\tremaining: 10.4s\n",
      "58:\tlearn: 0.9548516\ttotal: 3.2s\tremaining: 10.3s\n",
      "59:\tlearn: 0.9550877\ttotal: 3.25s\tremaining: 10.3s\n",
      "60:\tlearn: 0.9551953\ttotal: 3.3s\tremaining: 10.2s\n",
      "61:\tlearn: 0.9553088\ttotal: 3.35s\tremaining: 10.2s\n",
      "62:\tlearn: 0.9555280\ttotal: 3.4s\tremaining: 10.1s\n",
      "63:\tlearn: 0.9561495\ttotal: 3.45s\tremaining: 10s\n",
      "64:\tlearn: 0.9564367\ttotal: 3.5s\tremaining: 9.97s\n",
      "65:\tlearn: 0.9570885\ttotal: 3.56s\tremaining: 9.91s\n",
      "66:\tlearn: 0.9573400\ttotal: 3.61s\tremaining: 9.86s\n",
      "67:\tlearn: 0.9574857\ttotal: 3.66s\tremaining: 9.79s\n",
      "68:\tlearn: 0.9575462\ttotal: 3.71s\tremaining: 9.74s\n",
      "69:\tlearn: 0.9577673\ttotal: 3.77s\tremaining: 9.68s\n",
      "70:\tlearn: 0.9579638\ttotal: 3.82s\tremaining: 9.62s\n",
      "71:\tlearn: 0.9580435\ttotal: 3.86s\tremaining: 9.55s\n",
      "72:\tlearn: 0.9581041\ttotal: 3.92s\tremaining: 9.49s\n",
      "73:\tlearn: 0.9580570\ttotal: 3.97s\tremaining: 9.44s\n",
      "74:\tlearn: 0.9583614\ttotal: 4.02s\tremaining: 9.39s\n",
      "75:\tlearn: 0.9588344\ttotal: 4.07s\tremaining: 9.32s\n",
      "76:\tlearn: 0.9588672\ttotal: 4.12s\tremaining: 9.26s\n",
      "77:\tlearn: 0.9589822\ttotal: 4.18s\tremaining: 9.21s\n",
      "78:\tlearn: 0.9590829\ttotal: 4.22s\tremaining: 9.14s\n",
      "79:\tlearn: 0.9595753\ttotal: 4.28s\tremaining: 9.1s\n",
      "80:\tlearn: 0.9596658\ttotal: 4.34s\tremaining: 9.06s\n",
      "81:\tlearn: 0.9597302\ttotal: 4.4s\tremaining: 9.01s\n",
      "82:\tlearn: 0.9597285\ttotal: 4.45s\tremaining: 8.95s\n",
      "83:\tlearn: 0.9600818\ttotal: 4.5s\tremaining: 8.89s\n",
      "84:\tlearn: 0.9601097\ttotal: 4.54s\tremaining: 8.81s\n",
      "85:\tlearn: 0.9600192\ttotal: 4.59s\tremaining: 8.75s\n",
      "86:\tlearn: 0.9603256\ttotal: 4.64s\tremaining: 8.7s\n",
      "87:\tlearn: 0.9605816\ttotal: 4.7s\tremaining: 8.64s\n",
      "88:\tlearn: 0.9606286\ttotal: 4.75s\tremaining: 8.59s\n",
      "89:\tlearn: 0.9607818\ttotal: 4.81s\tremaining: 8.55s\n",
      "90:\tlearn: 0.9606981\ttotal: 4.87s\tremaining: 8.5s\n",
      "91:\tlearn: 0.9609157\ttotal: 4.91s\tremaining: 8.44s\n",
      "92:\tlearn: 0.9610237\ttotal: 4.97s\tremaining: 8.39s\n",
      "93:\tlearn: 0.9613962\ttotal: 5.02s\tremaining: 8.33s\n",
      "94:\tlearn: 0.9613719\ttotal: 5.07s\tremaining: 8.28s\n",
      "95:\tlearn: 0.9618181\ttotal: 5.12s\tremaining: 8.22s\n",
      "96:\tlearn: 0.9617310\ttotal: 5.17s\tremaining: 8.16s\n",
      "97:\tlearn: 0.9622292\ttotal: 5.23s\tremaining: 8.12s\n",
      "98:\tlearn: 0.9624535\ttotal: 5.28s\tremaining: 8.06s\n",
      "99:\tlearn: 0.9624518\ttotal: 5.34s\tremaining: 8.01s\n",
      "100:\tlearn: 0.9626728\ttotal: 5.39s\tremaining: 7.95s\n",
      "101:\tlearn: 0.9629356\ttotal: 5.44s\tremaining: 7.89s\n",
      "102:\tlearn: 0.9628904\ttotal: 5.5s\tremaining: 7.85s\n",
      "103:\tlearn: 0.9630597\ttotal: 5.55s\tremaining: 7.79s\n",
      "104:\tlearn: 0.9632113\ttotal: 5.61s\tremaining: 7.75s\n",
      "105:\tlearn: 0.9634048\ttotal: 5.67s\tremaining: 7.71s\n",
      "106:\tlearn: 0.9636803\ttotal: 5.73s\tremaining: 7.65s\n",
      "107:\tlearn: 0.9638995\ttotal: 5.78s\tremaining: 7.6s\n",
      "108:\tlearn: 0.9639477\ttotal: 5.84s\tremaining: 7.56s\n",
      "109:\tlearn: 0.9639928\ttotal: 5.91s\tremaining: 7.52s\n",
      "110:\tlearn: 0.9639928\ttotal: 5.96s\tremaining: 7.46s\n",
      "111:\tlearn: 0.9643378\ttotal: 6.01s\tremaining: 7.41s\n",
      "112:\tlearn: 0.9643828\ttotal: 6.06s\tremaining: 7.35s\n",
      "113:\tlearn: 0.9646229\ttotal: 6.11s\tremaining: 7.29s\n",
      "114:\tlearn: 0.9644699\ttotal: 6.17s\tremaining: 7.24s\n",
      "115:\tlearn: 0.9647550\ttotal: 6.21s\tremaining: 7.18s\n",
      "116:\tlearn: 0.9648257\ttotal: 6.26s\tremaining: 7.12s\n",
      "117:\tlearn: 0.9654107\ttotal: 6.32s\tremaining: 7.07s\n",
      "118:\tlearn: 0.9654527\ttotal: 6.37s\tremaining: 7.01s\n",
      "119:\tlearn: 0.9655968\ttotal: 6.43s\tremaining: 6.96s\n",
      "120:\tlearn: 0.9659645\ttotal: 6.48s\tremaining: 6.91s\n",
      "121:\tlearn: 0.9661611\ttotal: 6.53s\tremaining: 6.85s\n",
      "122:\tlearn: 0.9663547\ttotal: 6.58s\tremaining: 6.79s\n",
      "123:\tlearn: 0.9665542\ttotal: 6.64s\tremaining: 6.75s\n",
      "124:\tlearn: 0.9667465\ttotal: 6.69s\tremaining: 6.69s\n",
      "125:\tlearn: 0.9667465\ttotal: 6.76s\tremaining: 6.65s\n",
      "126:\tlearn: 0.9669851\ttotal: 6.82s\tremaining: 6.61s\n",
      "127:\tlearn: 0.9670272\ttotal: 6.87s\tremaining: 6.55s\n",
      "128:\tlearn: 0.9673993\ttotal: 6.93s\tremaining: 6.5s\n",
      "129:\tlearn: 0.9677040\ttotal: 6.99s\tremaining: 6.45s\n",
      "130:\tlearn: 0.9680298\ttotal: 7.04s\tremaining: 6.4s\n",
      "131:\tlearn: 0.9684724\ttotal: 7.09s\tremaining: 6.34s\n",
      "132:\tlearn: 0.9689684\ttotal: 7.14s\tremaining: 6.28s\n",
      "133:\tlearn: 0.9691400\ttotal: 7.19s\tremaining: 6.22s\n",
      "134:\tlearn: 0.9692087\ttotal: 7.25s\tremaining: 6.18s\n",
      "135:\tlearn: 0.9692324\ttotal: 7.31s\tremaining: 6.13s\n",
      "136:\tlearn: 0.9694633\ttotal: 7.36s\tremaining: 6.07s\n",
      "137:\tlearn: 0.9694647\ttotal: 7.42s\tremaining: 6.02s\n",
      "138:\tlearn: 0.9696349\ttotal: 7.47s\tremaining: 5.96s\n",
      "139:\tlearn: 0.9699662\ttotal: 7.52s\tremaining: 5.91s\n",
      "140:\tlearn: 0.9700969\ttotal: 7.57s\tremaining: 5.85s\n",
      "141:\tlearn: 0.9703596\ttotal: 7.63s\tremaining: 5.8s\n",
      "142:\tlearn: 0.9706382\ttotal: 7.68s\tremaining: 5.75s\n",
      "143:\tlearn: 0.9705934\ttotal: 7.74s\tremaining: 5.7s\n",
      "144:\tlearn: 0.9707241\ttotal: 7.8s\tremaining: 5.65s\n",
      "145:\tlearn: 0.9708349\ttotal: 7.86s\tremaining: 5.6s\n",
      "146:\tlearn: 0.9708484\ttotal: 7.91s\tremaining: 5.54s\n",
      "147:\tlearn: 0.9712131\ttotal: 7.96s\tremaining: 5.49s\n",
      "148:\tlearn: 0.9711484\ttotal: 8.01s\tremaining: 5.43s\n",
      "149:\tlearn: 0.9713028\ttotal: 8.07s\tremaining: 5.38s\n",
      "150:\tlearn: 0.9713227\ttotal: 8.12s\tremaining: 5.32s\n",
      "151:\tlearn: 0.9718245\ttotal: 8.17s\tremaining: 5.27s\n",
      "152:\tlearn: 0.9719516\ttotal: 8.23s\tremaining: 5.22s\n",
      "153:\tlearn: 0.9720351\ttotal: 8.3s\tremaining: 5.17s\n",
      "154:\tlearn: 0.9719280\ttotal: 8.35s\tremaining: 5.12s\n",
      "155:\tlearn: 0.9720388\ttotal: 8.41s\tremaining: 5.07s\n",
      "156:\tlearn: 0.9721696\ttotal: 8.47s\tremaining: 5.01s\n",
      "157:\tlearn: 0.9723003\ttotal: 8.53s\tremaining: 4.96s\n",
      "158:\tlearn: 0.9723911\ttotal: 8.59s\tremaining: 4.91s\n",
      "159:\tlearn: 0.9724995\ttotal: 8.65s\tremaining: 4.86s\n",
      "160:\tlearn: 0.9728234\ttotal: 8.7s\tremaining: 4.81s\n",
      "161:\tlearn: 0.9729317\ttotal: 8.77s\tremaining: 4.77s\n",
      "162:\tlearn: 0.9729977\ttotal: 8.82s\tremaining: 4.71s\n",
      "163:\tlearn: 0.9730849\ttotal: 8.87s\tremaining: 4.65s\n",
      "164:\tlearn: 0.9731909\ttotal: 8.93s\tremaining: 4.6s\n",
      "165:\tlearn: 0.9732156\ttotal: 8.98s\tremaining: 4.54s\n",
      "166:\tlearn: 0.9731956\ttotal: 9.03s\tremaining: 4.49s\n",
      "167:\tlearn: 0.9734313\ttotal: 9.09s\tremaining: 4.44s\n",
      "168:\tlearn: 0.9735184\ttotal: 9.14s\tremaining: 4.38s\n",
      "169:\tlearn: 0.9734135\ttotal: 9.19s\tremaining: 4.33s\n",
      "170:\tlearn: 0.9734571\ttotal: 9.24s\tremaining: 4.27s\n",
      "171:\tlearn: 0.9737599\ttotal: 9.3s\tremaining: 4.22s\n",
      "172:\tlearn: 0.9739498\ttotal: 9.36s\tremaining: 4.17s\n",
      "173:\tlearn: 0.9739911\ttotal: 9.42s\tremaining: 4.11s\n",
      "174:\tlearn: 0.9741409\ttotal: 9.47s\tremaining: 4.06s\n",
      "175:\tlearn: 0.9741443\ttotal: 9.52s\tremaining: 4s\n",
      "176:\tlearn: 0.9742080\ttotal: 9.58s\tremaining: 3.95s\n",
      "177:\tlearn: 0.9743825\ttotal: 9.63s\tremaining: 3.9s\n",
      "178:\tlearn: 0.9744685\ttotal: 9.69s\tremaining: 3.85s\n",
      "179:\tlearn: 0.9748196\ttotal: 9.74s\tremaining: 3.79s\n",
      "180:\tlearn: 0.9749526\ttotal: 9.79s\tremaining: 3.73s\n",
      "181:\tlearn: 0.9750600\ttotal: 9.84s\tremaining: 3.68s\n",
      "182:\tlearn: 0.9750174\ttotal: 9.9s\tremaining: 3.62s\n",
      "183:\tlearn: 0.9750387\ttotal: 9.95s\tremaining: 3.57s\n",
      "184:\tlearn: 0.9750812\ttotal: 10s\tremaining: 3.51s\n",
      "185:\tlearn: 0.9750823\ttotal: 10s\tremaining: 3.46s\n",
      "186:\tlearn: 0.9750398\ttotal: 10.1s\tremaining: 3.4s\n",
      "187:\tlearn: 0.9753439\ttotal: 10.2s\tremaining: 3.35s\n",
      "188:\tlearn: 0.9754322\ttotal: 10.2s\tremaining: 3.29s\n",
      "189:\tlearn: 0.9755832\ttotal: 10.3s\tremaining: 3.24s\n",
      "190:\tlearn: 0.9758479\ttotal: 10.3s\tremaining: 3.19s\n",
      "191:\tlearn: 0.9759149\ttotal: 10.4s\tremaining: 3.13s\n",
      "192:\tlearn: 0.9761106\ttotal: 10.4s\tremaining: 3.07s\n",
      "193:\tlearn: 0.9762201\ttotal: 10.5s\tremaining: 3.02s\n",
      "194:\tlearn: 0.9762626\ttotal: 10.5s\tremaining: 2.96s\n",
      "195:\tlearn: 0.9762382\ttotal: 10.6s\tremaining: 2.91s\n",
      "196:\tlearn: 0.9763021\ttotal: 10.6s\tremaining: 2.86s\n",
      "197:\tlearn: 0.9762808\ttotal: 10.7s\tremaining: 2.8s\n",
      "198:\tlearn: 0.9764542\ttotal: 10.7s\tremaining: 2.75s\n",
      "199:\tlearn: 0.9764562\ttotal: 10.8s\tremaining: 2.69s\n",
      "200:\tlearn: 0.9765829\ttotal: 10.8s\tremaining: 2.64s\n",
      "201:\tlearn: 0.9767138\ttotal: 10.9s\tremaining: 2.59s\n",
      "202:\tlearn: 0.9766712\ttotal: 10.9s\tremaining: 2.53s\n",
      "203:\tlearn: 0.9769288\ttotal: 11s\tremaining: 2.48s\n",
      "204:\tlearn: 0.9769947\ttotal: 11s\tremaining: 2.42s\n",
      "205:\tlearn: 0.9769531\ttotal: 11.1s\tremaining: 2.37s\n",
      "206:\tlearn: 0.9772157\ttotal: 11.1s\tremaining: 2.31s\n",
      "207:\tlearn: 0.9772807\ttotal: 11.2s\tremaining: 2.26s\n",
      "208:\tlearn: 0.9774105\ttotal: 11.3s\tremaining: 2.21s\n",
      "209:\tlearn: 0.9775180\ttotal: 11.3s\tremaining: 2.15s\n",
      "210:\tlearn: 0.9774735\ttotal: 11.4s\tremaining: 2.1s\n",
      "211:\tlearn: 0.9778224\ttotal: 11.4s\tremaining: 2.04s\n",
      "212:\tlearn: 0.9778873\ttotal: 11.5s\tremaining: 1.99s\n",
      "213:\tlearn: 0.9778873\ttotal: 11.5s\tremaining: 1.94s\n",
      "214:\tlearn: 0.9780840\ttotal: 11.6s\tremaining: 1.88s\n",
      "215:\tlearn: 0.9781926\ttotal: 11.6s\tremaining: 1.83s\n",
      "216:\tlearn: 0.9781703\ttotal: 11.7s\tremaining: 1.77s\n",
      "217:\tlearn: 0.9783031\ttotal: 11.7s\tremaining: 1.72s\n",
      "218:\tlearn: 0.9783893\ttotal: 11.8s\tremaining: 1.67s\n",
      "219:\tlearn: 0.9784988\ttotal: 11.8s\tremaining: 1.61s\n",
      "220:\tlearn: 0.9784979\ttotal: 11.9s\tremaining: 1.56s\n",
      "221:\tlearn: 0.9786520\ttotal: 12s\tremaining: 1.51s\n",
      "222:\tlearn: 0.9786724\ttotal: 12s\tremaining: 1.46s\n",
      "223:\tlearn: 0.9786288\ttotal: 12.1s\tremaining: 1.4s\n",
      "224:\tlearn: 0.9787141\ttotal: 12.1s\tremaining: 1.35s\n",
      "225:\tlearn: 0.9788672\ttotal: 12.2s\tremaining: 1.3s\n",
      "226:\tlearn: 0.9787791\ttotal: 12.3s\tremaining: 1.24s\n",
      "227:\tlearn: 0.9791030\ttotal: 12.3s\tremaining: 1.19s\n",
      "228:\tlearn: 0.9791903\ttotal: 12.4s\tremaining: 1.14s\n",
      "229:\tlearn: 0.9792135\ttotal: 12.4s\tremaining: 1.08s\n",
      "230:\tlearn: 0.9792998\ttotal: 12.5s\tremaining: 1.03s\n",
      "231:\tlearn: 0.9793007\ttotal: 12.5s\tremaining: 974ms\n",
      "232:\tlearn: 0.9794521\ttotal: 12.6s\tremaining: 919ms\n",
      "233:\tlearn: 0.9796248\ttotal: 12.7s\tremaining: 865ms\n",
      "234:\tlearn: 0.9797120\ttotal: 12.7s\tremaining: 811ms\n",
      "235:\tlearn: 0.9798857\ttotal: 12.8s\tremaining: 757ms\n",
      "236:\tlearn: 0.9799079\ttotal: 12.8s\tremaining: 703ms\n",
      "237:\tlearn: 0.9799969\ttotal: 12.9s\tremaining: 649ms\n",
      "238:\tlearn: 0.9799969\ttotal: 12.9s\tremaining: 595ms\n",
      "239:\tlearn: 0.9800192\ttotal: 13s\tremaining: 541ms\n",
      "240:\tlearn: 0.9801483\ttotal: 13s\tremaining: 487ms\n",
      "241:\tlearn: 0.9801920\ttotal: 13.1s\tremaining: 433ms\n",
      "242:\tlearn: 0.9802570\ttotal: 13.1s\tremaining: 379ms\n",
      "243:\tlearn: 0.9803870\ttotal: 13.2s\tremaining: 325ms\n",
      "244:\tlearn: 0.9804538\ttotal: 13.3s\tremaining: 270ms\n",
      "245:\tlearn: 0.9805641\ttotal: 13.3s\tremaining: 216ms\n",
      "246:\tlearn: 0.9805633\ttotal: 13.4s\tremaining: 162ms\n",
      "247:\tlearn: 0.9806069\ttotal: 13.4s\tremaining: 108ms\n",
      "248:\tlearn: 0.9806908\ttotal: 13.5s\tremaining: 54ms\n",
      "249:\tlearn: 0.9807344\ttotal: 13.5s\tremaining: 0us\n"
     ]
    },
    {
     "data": {
      "text/plain": [
       "<catboost.core.CatBoostClassifier at 0x7efc84b192a0>"
      ]
     },
     "execution_count": 59,
     "metadata": {},
     "output_type": "execute_result"
    }
   ],
   "source": [
    "catboost_model.fit(train_pool)"
   ]
  },
  {
   "cell_type": "code",
   "execution_count": 60,
   "id": "4293d99f-b483-49dc-ad53-5b637bd0a40b",
   "metadata": {},
   "outputs": [
    {
     "name": "stdout",
     "output_type": "stream",
     "text": [
      "              precision    recall  f1-score   support\n",
      "\n",
      "           0       0.99      0.99      0.99     43504\n",
      "           1       0.98      0.98      0.98     22981\n",
      "\n",
      "    accuracy                           0.99     66485\n",
      "   macro avg       0.99      0.98      0.99     66485\n",
      "weighted avg       0.99      0.99      0.99     66485\n",
      "\n"
     ]
    }
   ],
   "source": [
    "print(classification_report(y_train, catboost_model.predict(train_pool)))"
   ]
  },
  {
   "cell_type": "code",
   "execution_count": 61,
   "id": "2e41e692-598d-40a4-82df-8d367b6d1124",
   "metadata": {},
   "outputs": [
    {
     "name": "stdout",
     "output_type": "stream",
     "text": [
      "              precision    recall  f1-score   support\n",
      "\n",
      "           0       0.98      0.98      0.98     14496\n",
      "           1       0.96      0.96      0.96      7666\n",
      "\n",
      "    accuracy                           0.97     22162\n",
      "   macro avg       0.97      0.97      0.97     22162\n",
      "weighted avg       0.97      0.97      0.97     22162\n",
      "\n"
     ]
    }
   ],
   "source": [
    "print(classification_report(y_test, catboost_model.predict(test_pool)))"
   ]
  },
  {
   "cell_type": "code",
   "execution_count": 62,
   "id": "9b9f7fc7-b71b-40e8-b100-1c23d1fd9e1f",
   "metadata": {},
   "outputs": [],
   "source": [
    "param_grid = {'iterations': [200, 250, 300], 'depth': [6, 8, 10], 'learning_rate': [1e-2, 5e-2, 1e-1]}"
   ]
  },
  {
   "cell_type": "code",
   "execution_count": 63,
   "id": "5769507a-5372-444c-81e0-0c867674f55f",
   "metadata": {},
   "outputs": [
    {
     "name": "stdout",
     "output_type": "stream",
     "text": [
      "0:\tloss: 0.9167483\tbest: 0.9167483 (0)\ttotal: 2.42s\tremaining: 1m 3s\n",
      "1:\tloss: 0.9377178\tbest: 0.9377178 (1)\ttotal: 4.52s\tremaining: 56.5s\n",
      "2:\tloss: 0.9439354\tbest: 0.9439354 (2)\ttotal: 6.63s\tremaining: 53.1s\n",
      "3:\tloss: 0.9207211\tbest: 0.9439354 (2)\ttotal: 9.5s\tremaining: 54.6s\n",
      "4:\tloss: 0.9409586\tbest: 0.9439354 (2)\ttotal: 12.1s\tremaining: 53.4s\n",
      "5:\tloss: 0.9458397\tbest: 0.9458397 (5)\ttotal: 14.6s\tremaining: 51.3s\n",
      "6:\tloss: 0.9237113\tbest: 0.9458397 (5)\ttotal: 18.2s\tremaining: 52.1s\n",
      "7:\tloss: 0.9421253\tbest: 0.9458397 (5)\ttotal: 21.4s\tremaining: 50.9s\n",
      "8:\tloss: 0.9476097\tbest: 0.9476097 (8)\ttotal: 24.4s\tremaining: 48.8s\n",
      "9:\tloss: 0.9277187\tbest: 0.9476097 (8)\ttotal: 27.9s\tremaining: 47.4s\n",
      "10:\tloss: 0.9459548\tbest: 0.9476097 (8)\ttotal: 31.1s\tremaining: 45.2s\n",
      "11:\tloss: 0.9510061\tbest: 0.9510061 (11)\ttotal: 34.1s\tremaining: 42.7s\n",
      "12:\tloss: 0.9305556\tbest: 0.9510061 (11)\ttotal: 38.3s\tremaining: 41.2s\n",
      "13:\tloss: 0.9477815\tbest: 0.9510061 (11)\ttotal: 42.2s\tremaining: 39.2s\n",
      "14:\tloss: 0.9526103\tbest: 0.9526103 (14)\ttotal: 45.9s\tremaining: 36.7s\n",
      "15:\tloss: 0.9324368\tbest: 0.9526103 (14)\ttotal: 50.7s\tremaining: 34.9s\n",
      "16:\tloss: 0.9490564\tbest: 0.9526103 (14)\ttotal: 55.3s\tremaining: 32.5s\n",
      "17:\tloss: 0.9541626\tbest: 0.9541626 (17)\ttotal: 59.8s\tremaining: 29.9s\n",
      "18:\tloss: 0.9331597\tbest: 0.9541626 (17)\ttotal: 1m 9s\tremaining: 29.2s\n",
      "19:\tloss: 0.9495633\tbest: 0.9541626 (17)\ttotal: 1m 19s\tremaining: 27.7s\n",
      "20:\tloss: 0.9533894\tbest: 0.9541626 (17)\ttotal: 1m 28s\tremaining: 25.3s\n",
      "21:\tloss: 0.9352143\tbest: 0.9541626 (17)\ttotal: 1m 40s\tremaining: 22.9s\n",
      "22:\tloss: 0.9513207\tbest: 0.9541626 (17)\ttotal: 1m 52s\tremaining: 19.6s\n",
      "23:\tloss: 0.9552206\tbest: 0.9552206 (23)\ttotal: 2m 4s\tremaining: 15.6s\n",
      "24:\tloss: 0.9371329\tbest: 0.9552206 (23)\ttotal: 2m 18s\tremaining: 11.1s\n",
      "25:\tloss: 0.9531813\tbest: 0.9552206 (23)\ttotal: 2m 33s\tremaining: 5.9s\n",
      "26:\tloss: 0.9565788\tbest: 0.9565788 (26)\ttotal: 2m 47s\tremaining: 0us\n",
      "Estimating final quality...\n"
     ]
    }
   ],
   "source": [
    "# https://catboost.ai/en/docs/concepts/python-reference_catboostclassifier_grid_search\n",
    "cb_grid_model = CatBoostClassifier(eval_metric='F1', logging_level='Silent')\n",
    "cb_grid_result = cb_grid_model.grid_search(param_grid, train_pool)"
   ]
  },
  {
   "cell_type": "code",
   "execution_count": 64,
   "id": "f4d240b8-f744-42ba-ae39-60fb5b6846d4",
   "metadata": {},
   "outputs": [
    {
     "data": {
      "text/plain": [
       "{'depth': 10, 'iterations': 300, 'learning_rate': 0.1}"
      ]
     },
     "execution_count": 64,
     "metadata": {},
     "output_type": "execute_result"
    }
   ],
   "source": [
    "cb_grid_result['params']"
   ]
  },
  {
   "cell_type": "code",
   "execution_count": 65,
   "id": "0eaa8a11-f25a-445c-a05d-9773ac82d453",
   "metadata": {},
   "outputs": [
    {
     "name": "stdout",
     "output_type": "stream",
     "text": [
      "              precision    recall  f1-score   support\n",
      "\n",
      "           0       0.99      0.99      0.99     43504\n",
      "           1       0.99      0.98      0.98     22981\n",
      "\n",
      "    accuracy                           0.99     66485\n",
      "   macro avg       0.99      0.99      0.99     66485\n",
      "weighted avg       0.99      0.99      0.99     66485\n",
      "\n"
     ]
    }
   ],
   "source": [
    "print(classification_report(y_train, cb_grid_model.predict(train_pool)))"
   ]
  },
  {
   "cell_type": "code",
   "execution_count": 66,
   "id": "ef82d6e1-0967-4c3a-8160-ca3f1eccc99d",
   "metadata": {},
   "outputs": [
    {
     "name": "stdout",
     "output_type": "stream",
     "text": [
      "              precision    recall  f1-score   support\n",
      "\n",
      "           0       0.98      0.98      0.98     14496\n",
      "           1       0.96      0.96      0.96      7666\n",
      "\n",
      "    accuracy                           0.97     22162\n",
      "   macro avg       0.97      0.97      0.97     22162\n",
      "weighted avg       0.97      0.97      0.97     22162\n",
      "\n"
     ]
    }
   ],
   "source": [
    "print(classification_report(y_test, cb_grid_model.predict(test_pool)))"
   ]
  },
  {
   "cell_type": "code",
   "execution_count": null,
   "id": "11aea301-a1c6-4234-b36f-787b16c25d01",
   "metadata": {},
   "outputs": [],
   "source": []
  },
  {
   "cell_type": "markdown",
   "id": "d1bb19dc-82c3-4b68-9b82-5a8b691add44",
   "metadata": {},
   "source": [
    "## Neural Network"
   ]
  },
  {
   "cell_type": "code",
   "execution_count": 67,
   "id": "c74a7ff7-e299-451f-b889-370709a21ae2",
   "metadata": {},
   "outputs": [],
   "source": [
    "# https://gist.github.com/MaxHalford/9bfaa8daf8b4bc17a7fb7ba58c880675\n",
    "input_dim = len(pipe.named_steps['transform'].get_feature_names_out())\n",
    "def nn_model():\n",
    "    model = tf.keras.models.Sequential([\n",
    "        Dense(128, input_dim=input_dim, activation='relu'),\n",
    "        Dropout(0.2),\n",
    "        Dense(64, activation='relu'),\n",
    "        Dropout(0.2),\n",
    "        Dense(32, activation='relu'),\n",
    "        Dense(1, activation='sigmoid')\n",
    "    ])\n",
    "    \n",
    "    model.compile(loss='binary_crossentropy', optimizer='adam', metrics=\n",
    "                  ['accuracy', 'AUC'])\n",
    "    \n",
    "    return model\n",
    "\n",
    "early_stopping = tf.keras.callbacks.EarlyStopping(monitor='val_loss', patience=3)\n",
    "# https://www.tensorflow.org/tensorboard/tensorboard_in_notebooks\n",
    "logdir = os.path.join(\"tensorboard\", datetime.datetime.now().strftime(\"%Y%m%d-%H%M%S\"))\n",
    "tensorboard_cb = tf.keras.callbacks.TensorBoard(logdir, histogram_freq=1)"
   ]
  },
  {
   "cell_type": "code",
   "execution_count": 68,
   "id": "fe900af6-e087-4b9f-a7ee-1512aaee69be",
   "metadata": {},
   "outputs": [],
   "source": [
    "nn_pipe = Pipeline(steps=[\n",
    "    ('transform', transform),\n",
    "    ('predict', KerasClassifier(model=nn_model, batch_size=32, epochs=100,\n",
    "                               validation_split=0.2, callbacks=[early_stopping, tensorboard_cb])) \n",
    "])"
   ]
  },
  {
   "cell_type": "code",
   "execution_count": 69,
   "id": "c9e67a34-3cb0-4d23-8ca2-0135fbf22c06",
   "metadata": {},
   "outputs": [
    {
     "data": {
      "text/html": [
       "<style>#sk-container-id-8 {color: black;background-color: white;}#sk-container-id-8 pre{padding: 0;}#sk-container-id-8 div.sk-toggleable {background-color: white;}#sk-container-id-8 label.sk-toggleable__label {cursor: pointer;display: block;width: 100%;margin-bottom: 0;padding: 0.3em;box-sizing: border-box;text-align: center;}#sk-container-id-8 label.sk-toggleable__label-arrow:before {content: \"▸\";float: left;margin-right: 0.25em;color: #696969;}#sk-container-id-8 label.sk-toggleable__label-arrow:hover:before {color: black;}#sk-container-id-8 div.sk-estimator:hover label.sk-toggleable__label-arrow:before {color: black;}#sk-container-id-8 div.sk-toggleable__content {max-height: 0;max-width: 0;overflow: hidden;text-align: left;background-color: #f0f8ff;}#sk-container-id-8 div.sk-toggleable__content pre {margin: 0.2em;color: black;border-radius: 0.25em;background-color: #f0f8ff;}#sk-container-id-8 input.sk-toggleable__control:checked~div.sk-toggleable__content {max-height: 200px;max-width: 100%;overflow: auto;}#sk-container-id-8 input.sk-toggleable__control:checked~label.sk-toggleable__label-arrow:before {content: \"▾\";}#sk-container-id-8 div.sk-estimator input.sk-toggleable__control:checked~label.sk-toggleable__label {background-color: #d4ebff;}#sk-container-id-8 div.sk-label input.sk-toggleable__control:checked~label.sk-toggleable__label {background-color: #d4ebff;}#sk-container-id-8 input.sk-hidden--visually {border: 0;clip: rect(1px 1px 1px 1px);clip: rect(1px, 1px, 1px, 1px);height: 1px;margin: -1px;overflow: hidden;padding: 0;position: absolute;width: 1px;}#sk-container-id-8 div.sk-estimator {font-family: monospace;background-color: #f0f8ff;border: 1px dotted black;border-radius: 0.25em;box-sizing: border-box;margin-bottom: 0.5em;}#sk-container-id-8 div.sk-estimator:hover {background-color: #d4ebff;}#sk-container-id-8 div.sk-parallel-item::after {content: \"\";width: 100%;border-bottom: 1px solid gray;flex-grow: 1;}#sk-container-id-8 div.sk-label:hover label.sk-toggleable__label {background-color: #d4ebff;}#sk-container-id-8 div.sk-serial::before {content: \"\";position: absolute;border-left: 1px solid gray;box-sizing: border-box;top: 0;bottom: 0;left: 50%;z-index: 0;}#sk-container-id-8 div.sk-serial {display: flex;flex-direction: column;align-items: center;background-color: white;padding-right: 0.2em;padding-left: 0.2em;position: relative;}#sk-container-id-8 div.sk-item {position: relative;z-index: 1;}#sk-container-id-8 div.sk-parallel {display: flex;align-items: stretch;justify-content: center;background-color: white;position: relative;}#sk-container-id-8 div.sk-item::before, #sk-container-id-8 div.sk-parallel-item::before {content: \"\";position: absolute;border-left: 1px solid gray;box-sizing: border-box;top: 0;bottom: 0;left: 50%;z-index: -1;}#sk-container-id-8 div.sk-parallel-item {display: flex;flex-direction: column;z-index: 1;position: relative;background-color: white;}#sk-container-id-8 div.sk-parallel-item:first-child::after {align-self: flex-end;width: 50%;}#sk-container-id-8 div.sk-parallel-item:last-child::after {align-self: flex-start;width: 50%;}#sk-container-id-8 div.sk-parallel-item:only-child::after {width: 0;}#sk-container-id-8 div.sk-dashed-wrapped {border: 1px dashed gray;margin: 0 0.4em 0.5em 0.4em;box-sizing: border-box;padding-bottom: 0.4em;background-color: white;}#sk-container-id-8 div.sk-label label {font-family: monospace;font-weight: bold;display: inline-block;line-height: 1.2em;}#sk-container-id-8 div.sk-label-container {text-align: center;}#sk-container-id-8 div.sk-container {/* jupyter's `normalize.less` sets `[hidden] { display: none; }` but bootstrap.min.css set `[hidden] { display: none !important; }` so we also need the `!important` here to be able to override the default hidden behavior on the sphinx rendered scikit-learn.org. See: https://github.com/scikit-learn/scikit-learn/issues/21755 */display: inline-block !important;position: relative;}#sk-container-id-8 div.sk-text-repr-fallback {display: none;}</style><div id=\"sk-container-id-8\" class=\"sk-top-container\"><div class=\"sk-text-repr-fallback\"><pre>Pipeline(steps=[(&#x27;transform&#x27;,\n",
       "                 ColumnTransformer(transformers=[(&#x27;numeric&#x27;, MinMaxScaler(),\n",
       "                                                  [86, 44, 96, 24, 85, 62, 18,\n",
       "                                                   80, 34, 52, 70, 7, 40, 58,\n",
       "                                                   76, 13, 33, 51, 69, 6, 38,\n",
       "                                                   56, 74, 11, 42, 78, 15, 27,\n",
       "                                                   19, 45, ...]),\n",
       "                                                 (&#x27;categorical&#x27;,\n",
       "                                                  OneHotEncoder(handle_unknown=&#x27;infrequent_if_exist&#x27;),\n",
       "                                                  [22, 25, 26, 31, 41, 48, 49,\n",
       "                                                   59, 60, 77, 83, 93, 97])])),\n",
       "                (&#x27;predict&#x27;,\n",
       "                 KerasClassifier(batch_size=32, callbacks=[&lt;keras.callbacks.EarlyStopping object at 0x7efc84afe440&gt;, &lt;keras.callbacks.TensorBoard object at 0x7efc84afe2f0&gt;], epochs=100, model=&lt;function nn_model at 0x7efc84ae4e50&gt;, validation_split=0.2))])</pre><b>In a Jupyter environment, please rerun this cell to show the HTML representation or trust the notebook. <br />On GitHub, the HTML representation is unable to render, please try loading this page with nbviewer.org.</b></div><div class=\"sk-container\" hidden><div class=\"sk-item sk-dashed-wrapped\"><div class=\"sk-label-container\"><div class=\"sk-label sk-toggleable\"><input class=\"sk-toggleable__control sk-hidden--visually\" id=\"sk-estimator-id-47\" type=\"checkbox\" ><label for=\"sk-estimator-id-47\" class=\"sk-toggleable__label sk-toggleable__label-arrow\">Pipeline</label><div class=\"sk-toggleable__content\"><pre>Pipeline(steps=[(&#x27;transform&#x27;,\n",
       "                 ColumnTransformer(transformers=[(&#x27;numeric&#x27;, MinMaxScaler(),\n",
       "                                                  [86, 44, 96, 24, 85, 62, 18,\n",
       "                                                   80, 34, 52, 70, 7, 40, 58,\n",
       "                                                   76, 13, 33, 51, 69, 6, 38,\n",
       "                                                   56, 74, 11, 42, 78, 15, 27,\n",
       "                                                   19, 45, ...]),\n",
       "                                                 (&#x27;categorical&#x27;,\n",
       "                                                  OneHotEncoder(handle_unknown=&#x27;infrequent_if_exist&#x27;),\n",
       "                                                  [22, 25, 26, 31, 41, 48, 49,\n",
       "                                                   59, 60, 77, 83, 93, 97])])),\n",
       "                (&#x27;predict&#x27;,\n",
       "                 KerasClassifier(batch_size=32, callbacks=[&lt;keras.callbacks.EarlyStopping object at 0x7efc84afe440&gt;, &lt;keras.callbacks.TensorBoard object at 0x7efc84afe2f0&gt;], epochs=100, model=&lt;function nn_model at 0x7efc84ae4e50&gt;, validation_split=0.2))])</pre></div></div></div><div class=\"sk-serial\"><div class=\"sk-item sk-dashed-wrapped\"><div class=\"sk-label-container\"><div class=\"sk-label sk-toggleable\"><input class=\"sk-toggleable__control sk-hidden--visually\" id=\"sk-estimator-id-48\" type=\"checkbox\" ><label for=\"sk-estimator-id-48\" class=\"sk-toggleable__label sk-toggleable__label-arrow\">transform: ColumnTransformer</label><div class=\"sk-toggleable__content\"><pre>ColumnTransformer(transformers=[(&#x27;numeric&#x27;, MinMaxScaler(),\n",
       "                                 [86, 44, 96, 24, 85, 62, 18, 80, 34, 52, 70, 7,\n",
       "                                  40, 58, 76, 13, 33, 51, 69, 6, 38, 56, 74, 11,\n",
       "                                  42, 78, 15, 27, 19, 45, ...]),\n",
       "                                (&#x27;categorical&#x27;,\n",
       "                                 OneHotEncoder(handle_unknown=&#x27;infrequent_if_exist&#x27;),\n",
       "                                 [22, 25, 26, 31, 41, 48, 49, 59, 60, 77, 83,\n",
       "                                  93, 97])])</pre></div></div></div><div class=\"sk-parallel\"><div class=\"sk-parallel-item\"><div class=\"sk-item\"><div class=\"sk-label-container\"><div class=\"sk-label sk-toggleable\"><input class=\"sk-toggleable__control sk-hidden--visually\" id=\"sk-estimator-id-49\" type=\"checkbox\" ><label for=\"sk-estimator-id-49\" class=\"sk-toggleable__label sk-toggleable__label-arrow\">numeric</label><div class=\"sk-toggleable__content\"><pre>[86, 44, 96, 24, 85, 62, 18, 80, 34, 52, 70, 7, 40, 58, 76, 13, 33, 51, 69, 6, 38, 56, 74, 11, 42, 78, 15, 27, 19, 45, 63, 0, 32, 50, 68, 5, 35, 53, 71, 8, 14, 28, 20, 46, 64, 1, 89, 91, 90, 82, 43, 61, 79, 16, 39, 57, 75, 12, 67, 4, 94, 30, 66, 3, 36, 54, 72, 9, 37, 55, 73, 10, 17, 29, 21, 47, 65, 2, 23, 87, 88, 84, 81, 92, 95]</pre></div></div></div><div class=\"sk-serial\"><div class=\"sk-item\"><div class=\"sk-estimator sk-toggleable\"><input class=\"sk-toggleable__control sk-hidden--visually\" id=\"sk-estimator-id-50\" type=\"checkbox\" ><label for=\"sk-estimator-id-50\" class=\"sk-toggleable__label sk-toggleable__label-arrow\">MinMaxScaler</label><div class=\"sk-toggleable__content\"><pre>MinMaxScaler()</pre></div></div></div></div></div></div><div class=\"sk-parallel-item\"><div class=\"sk-item\"><div class=\"sk-label-container\"><div class=\"sk-label sk-toggleable\"><input class=\"sk-toggleable__control sk-hidden--visually\" id=\"sk-estimator-id-51\" type=\"checkbox\" ><label for=\"sk-estimator-id-51\" class=\"sk-toggleable__label sk-toggleable__label-arrow\">categorical</label><div class=\"sk-toggleable__content\"><pre>[22, 25, 26, 31, 41, 48, 49, 59, 60, 77, 83, 93, 97]</pre></div></div></div><div class=\"sk-serial\"><div class=\"sk-item\"><div class=\"sk-estimator sk-toggleable\"><input class=\"sk-toggleable__control sk-hidden--visually\" id=\"sk-estimator-id-52\" type=\"checkbox\" ><label for=\"sk-estimator-id-52\" class=\"sk-toggleable__label sk-toggleable__label-arrow\">OneHotEncoder</label><div class=\"sk-toggleable__content\"><pre>OneHotEncoder(handle_unknown=&#x27;infrequent_if_exist&#x27;)</pre></div></div></div></div></div></div></div></div><div class=\"sk-item\"><div class=\"sk-estimator sk-toggleable\"><input class=\"sk-toggleable__control sk-hidden--visually\" id=\"sk-estimator-id-53\" type=\"checkbox\" ><label for=\"sk-estimator-id-53\" class=\"sk-toggleable__label sk-toggleable__label-arrow\">KerasClassifier</label><div class=\"sk-toggleable__content\"><pre>KerasClassifier(\n",
       "\tmodel=&lt;function nn_model at 0x7efc84ae4e50&gt;\n",
       "\tbuild_fn=None\n",
       "\twarm_start=False\n",
       "\trandom_state=None\n",
       "\toptimizer=rmsprop\n",
       "\tloss=None\n",
       "\tmetrics=None\n",
       "\tbatch_size=32\n",
       "\tvalidation_batch_size=None\n",
       "\tverbose=1\n",
       "\tcallbacks=[&lt;keras.callbacks.EarlyStopping object at 0x7efc84afe440&gt;, &lt;keras.callbacks.TensorBoard object at 0x7efc84afe2f0&gt;]\n",
       "\tvalidation_split=0.2\n",
       "\tshuffle=True\n",
       "\trun_eagerly=False\n",
       "\tepochs=100\n",
       "\tclass_weight=None\n",
       ")</pre></div></div></div></div></div></div></div>"
      ],
      "text/plain": [
       "Pipeline(steps=[('transform',\n",
       "                 ColumnTransformer(transformers=[('numeric', MinMaxScaler(),\n",
       "                                                  [86, 44, 96, 24, 85, 62, 18,\n",
       "                                                   80, 34, 52, 70, 7, 40, 58,\n",
       "                                                   76, 13, 33, 51, 69, 6, 38,\n",
       "                                                   56, 74, 11, 42, 78, 15, 27,\n",
       "                                                   19, 45, ...]),\n",
       "                                                 ('categorical',\n",
       "                                                  OneHotEncoder(handle_unknown='infrequent_if_exist'),\n",
       "                                                  [22, 25, 26, 31, 41, 48, 49,\n",
       "                                                   59, 60, 77, 83, 93, 97])])),\n",
       "                ('predict',\n",
       "                 KerasClassifier(batch_size=32, callbacks=[<keras.callbacks.EarlyStopping object at 0x7efc84afe440>, <keras.callbacks.TensorBoard object at 0x7efc84afe2f0>], epochs=100, model=<function nn_model at 0x7efc84ae4e50>, validation_split=0.2))])"
      ]
     },
     "execution_count": 69,
     "metadata": {},
     "output_type": "execute_result"
    }
   ],
   "source": [
    "nn_pipe"
   ]
  },
  {
   "cell_type": "code",
   "execution_count": 70,
   "id": "0d5f607a-ca1a-4d83-927d-e01f83950c02",
   "metadata": {},
   "outputs": [
    {
     "name": "stdout",
     "output_type": "stream",
     "text": [
      "Epoch 1/100\n"
     ]
    },
    {
     "name": "stderr",
     "output_type": "stream",
     "text": [
      "2022-10-14 19:01:56.391798: I tensorflow/core/platform/cpu_feature_guard.cc:193] This TensorFlow binary is optimized with oneAPI Deep Neural Network Library (oneDNN) to use the following CPU instructions in performance-critical operations:  SSE4.1 SSE4.2 AVX AVX2 FMA\n",
      "To enable them in other operations, rebuild TensorFlow with the appropriate compiler flags.\n"
     ]
    },
    {
     "name": "stdout",
     "output_type": "stream",
     "text": [
      "1663/1663 [==============================] - 3s 2ms/step - loss: 0.2280 - accuracy: 0.9075 - auc: 0.9630 - val_loss: 0.1801 - val_accuracy: 0.9201 - val_auc: 0.9803\n",
      "Epoch 2/100\n",
      "1663/1663 [==============================] - 3s 2ms/step - loss: 0.1892 - accuracy: 0.9227 - auc: 0.9754 - val_loss: 0.1708 - val_accuracy: 0.9261 - val_auc: 0.9817\n",
      "Epoch 3/100\n",
      "1663/1663 [==============================] - 3s 2ms/step - loss: 0.1817 - accuracy: 0.9246 - auc: 0.9774 - val_loss: 0.1588 - val_accuracy: 0.9364 - val_auc: 0.9825\n",
      "Epoch 4/100\n",
      "1663/1663 [==============================] - 3s 2ms/step - loss: 0.1753 - accuracy: 0.9274 - auc: 0.9790 - val_loss: 0.1571 - val_accuracy: 0.9357 - val_auc: 0.9839\n",
      "Epoch 5/100\n",
      "1663/1663 [==============================] - 3s 2ms/step - loss: 0.1705 - accuracy: 0.9302 - auc: 0.9801 - val_loss: 0.1529 - val_accuracy: 0.9390 - val_auc: 0.9849\n",
      "Epoch 6/100\n",
      "1663/1663 [==============================] - 3s 2ms/step - loss: 0.1664 - accuracy: 0.9314 - auc: 0.9810 - val_loss: 0.1981 - val_accuracy: 0.9172 - val_auc: 0.9845\n",
      "Epoch 7/100\n",
      "1663/1663 [==============================] - 3s 2ms/step - loss: 0.1628 - accuracy: 0.9319 - auc: 0.9818 - val_loss: 0.1639 - val_accuracy: 0.9277 - val_auc: 0.9850\n",
      "Epoch 8/100\n",
      "1663/1663 [==============================] - 3s 2ms/step - loss: 0.1582 - accuracy: 0.9342 - auc: 0.9828 - val_loss: 0.1373 - val_accuracy: 0.9416 - val_auc: 0.9868\n",
      "Epoch 9/100\n",
      "1663/1663 [==============================] - 3s 2ms/step - loss: 0.1573 - accuracy: 0.9353 - auc: 0.9830 - val_loss: 0.1488 - val_accuracy: 0.9396 - val_auc: 0.9872\n",
      "Epoch 10/100\n",
      "1663/1663 [==============================] - 3s 2ms/step - loss: 0.1534 - accuracy: 0.9371 - auc: 0.9839 - val_loss: 0.1371 - val_accuracy: 0.9433 - val_auc: 0.9874\n",
      "Epoch 11/100\n",
      "1663/1663 [==============================] - 3s 2ms/step - loss: 0.1518 - accuracy: 0.9368 - auc: 0.9843 - val_loss: 0.1349 - val_accuracy: 0.9480 - val_auc: 0.9880\n",
      "Epoch 12/100\n",
      "1663/1663 [==============================] - 3s 2ms/step - loss: 0.1518 - accuracy: 0.9379 - auc: 0.9841 - val_loss: 0.1282 - val_accuracy: 0.9495 - val_auc: 0.9889\n",
      "Epoch 13/100\n",
      "1663/1663 [==============================] - 3s 2ms/step - loss: 0.1487 - accuracy: 0.9391 - auc: 0.9848 - val_loss: 0.1424 - val_accuracy: 0.9416 - val_auc: 0.9880\n",
      "Epoch 14/100\n",
      "1663/1663 [==============================] - 3s 2ms/step - loss: 0.1468 - accuracy: 0.9405 - auc: 0.9852 - val_loss: 0.1351 - val_accuracy: 0.9467 - val_auc: 0.9883\n",
      "Epoch 15/100\n",
      "1663/1663 [==============================] - 3s 2ms/step - loss: 0.1484 - accuracy: 0.9403 - auc: 0.9848 - val_loss: 0.1323 - val_accuracy: 0.9489 - val_auc: 0.9882\n"
     ]
    }
   ],
   "source": [
    "# https://www.adriangb.com/scikeras/stable/migration.html#migration\n",
    "history = nn_pipe.fit(X_train, y_train)"
   ]
  },
  {
   "cell_type": "code",
   "execution_count": 71,
   "id": "0713876d-2226-48d1-8a8b-376514bf15a6",
   "metadata": {},
   "outputs": [
    {
     "name": "stdout",
     "output_type": "stream",
     "text": [
      "2078/2078 [==============================] - 2s 760us/step\n",
      "              precision    recall  f1-score   support\n",
      "\n",
      "           0       0.97      0.95      0.96     44388\n",
      "           1       0.90      0.94      0.92     22097\n",
      "\n",
      "    accuracy                           0.95     66485\n",
      "   macro avg       0.93      0.94      0.94     66485\n",
      "weighted avg       0.95      0.95      0.95     66485\n",
      "\n"
     ]
    }
   ],
   "source": [
    "print(classification_report(nn_pipe.predict(X_train), y_train))"
   ]
  },
  {
   "cell_type": "code",
   "execution_count": 72,
   "id": "d6bcf631-7ce7-423d-a2c2-bed8e40d0732",
   "metadata": {},
   "outputs": [
    {
     "name": "stdout",
     "output_type": "stream",
     "text": [
      "693/693 [==============================] - 1s 765us/step\n",
      "              precision    recall  f1-score   support\n",
      "\n",
      "           0       0.97      0.95      0.96     14794\n",
      "           1       0.90      0.93      0.92      7368\n",
      "\n",
      "    accuracy                           0.94     22162\n",
      "   macro avg       0.93      0.94      0.94     22162\n",
      "weighted avg       0.94      0.94      0.94     22162\n",
      "\n"
     ]
    }
   ],
   "source": [
    "print(classification_report(nn_pipe.predict(X_test), y_test))"
   ]
  },
  {
   "cell_type": "code",
   "execution_count": 73,
   "id": "766f6883-c66c-4249-a85f-feb3a043a8f3",
   "metadata": {},
   "outputs": [],
   "source": [
    "history = nn_pipe.named_steps['predict'].history_"
   ]
  },
  {
   "cell_type": "code",
   "execution_count": 74,
   "id": "e00c8099-d17c-4633-9a92-efd5bded8010",
   "metadata": {},
   "outputs": [],
   "source": [
    "%load_ext tensorboard"
   ]
  },
  {
   "cell_type": "code",
   "execution_count": 75,
   "id": "383db52e-3051-4b85-ad8a-17a65f49a5df",
   "metadata": {},
   "outputs": [
    {
     "data": {
      "text/html": [
       "\n",
       "      <iframe id=\"tensorboard-frame-8148b2c4f08576ae\" width=\"100%\" height=\"800\" frameborder=\"0\">\n",
       "      </iframe>\n",
       "      <script>\n",
       "        (function() {\n",
       "          const frame = document.getElementById(\"tensorboard-frame-8148b2c4f08576ae\");\n",
       "          const url = new URL(\"/\", window.location);\n",
       "          const port = 6006;\n",
       "          if (port) {\n",
       "            url.port = port;\n",
       "          }\n",
       "          frame.src = url;\n",
       "        })();\n",
       "      </script>\n",
       "    "
      ],
      "text/plain": [
       "<IPython.core.display.HTML object>"
      ]
     },
     "metadata": {},
     "output_type": "display_data"
    }
   ],
   "source": [
    "%tensorboard --logdir=tensorboard/ --port 6006 --bind_all"
   ]
  },
  {
   "cell_type": "markdown",
   "id": "e664c93d-5e0a-46cb-a84a-664817577399",
   "metadata": {},
   "source": [
    "### Grid Search"
   ]
  },
  {
   "cell_type": "code",
   "execution_count": 76,
   "id": "67e4a027-90b5-441f-b5a3-f2bb784459ba",
   "metadata": {},
   "outputs": [],
   "source": [
    "# clear session/graph\n",
    "tf.keras.backend.clear_session()\n",
    "tf.compat.v1.reset_default_graph()"
   ]
  },
  {
   "cell_type": "code",
   "execution_count": 77,
   "id": "ad82a9f8-a3de-4385-a1be-054bb7795f16",
   "metadata": {},
   "outputs": [],
   "source": [
    "# https://www.adriangb.com/scikeras/stable/quickstart.html#in-an-sklearn-pipeline\n",
    "# tensorboard callback doesn't work, maybe due to similar issue: https://github.com/keras-team/keras-tuner/issues/574\n",
    "param_grid = {'optimizer__learning_rate': [1e-3, 1e-2, 1e-1], 'batch_size': [16, 32, 64]}\n",
    "nn_pipe = Pipeline(steps=[\n",
    "    ('transform', transform),\n",
    "    ('predict', GridSearchCV(KerasClassifier(model=nn_model, epochs=100, validation_split=0.2, callbacks=[early_stopping], verbose=0), param_grid, return_train_score=True, refit='f1', scoring=scoring, n_jobs=-1))\n",
    "     ])"
   ]
  },
  {
   "cell_type": "code",
   "execution_count": 78,
   "id": "6b1fda92-77ee-4f5e-9eb7-bc6f78e137fb",
   "metadata": {},
   "outputs": [
    {
     "name": "stdout",
     "output_type": "stream",
     "text": [
      "INFO:tensorflow:Assets written to: ram:///tmp/tmpwpmk2pab/assets\n",
      "INFO:tensorflow:Assets written to: ram:///tmp/tmp1s_sc4ow/assets\n",
      "INFO:tensorflow:Assets written to: ram:///tmp/tmpc_833rez/assets\n",
      "INFO:tensorflow:Assets written to: ram:///tmp/tmpm64qq9d2/assets\n",
      "INFO:tensorflow:Assets written to: ram:///tmp/tmp3oqeav57/assets\n",
      "INFO:tensorflow:Assets written to: ram:///tmp/tmpi32qypwc/assets\n",
      "INFO:tensorflow:Assets written to: ram:///tmp/tmp0408yfk1/assets\n",
      "INFO:tensorflow:Assets written to: ram:///tmp/tmp_yj_egbu/assets\n",
      "INFO:tensorflow:Assets written to: ram:///tmp/tmpuiclfnbt/assets\n",
      "INFO:tensorflow:Assets written to: ram:///tmp/tmpiohi99we/assets\n"
     ]
    },
    {
     "name": "stderr",
     "output_type": "stream",
     "text": [
      "2022-10-14 19:02:52.048896: I tensorflow/core/platform/cpu_feature_guard.cc:193] This TensorFlow binary is optimized with oneAPI Deep Neural Network Library (oneDNN) to use the following CPU instructions in performance-critical operations:  SSE4.1 SSE4.2 AVX AVX2 FMA\n",
      "To enable them in other operations, rebuild TensorFlow with the appropriate compiler flags.\n"
     ]
    },
    {
     "name": "stdout",
     "output_type": "stream",
     "text": [
      "INFO:tensorflow:Assets written to: ram:///tmp/tmpk02ginmq/assets\n",
      "INFO:tensorflow:Assets written to: ram:///tmp/tmpk0v0xb0n/assets\n"
     ]
    },
    {
     "name": "stderr",
     "output_type": "stream",
     "text": [
      "2022-10-14 19:02:53.427710: I tensorflow/core/platform/cpu_feature_guard.cc:193] This TensorFlow binary is optimized with oneAPI Deep Neural Network Library (oneDNN) to use the following CPU instructions in performance-critical operations:  SSE4.1 SSE4.2 AVX AVX2 FMA\n",
      "To enable them in other operations, rebuild TensorFlow with the appropriate compiler flags.\n"
     ]
    },
    {
     "name": "stdout",
     "output_type": "stream",
     "text": [
      "INFO:tensorflow:Assets written to: ram:///tmp/tmp2520ejjw/assets\n",
      "INFO:tensorflow:Assets written to: ram:///tmp/tmpv5rhsxz_/assets\n"
     ]
    },
    {
     "name": "stderr",
     "output_type": "stream",
     "text": [
      "2022-10-14 19:02:55.320813: I tensorflow/core/platform/cpu_feature_guard.cc:193] This TensorFlow binary is optimized with oneAPI Deep Neural Network Library (oneDNN) to use the following CPU instructions in performance-critical operations:  SSE4.1 SSE4.2 AVX AVX2 FMA\n",
      "To enable them in other operations, rebuild TensorFlow with the appropriate compiler flags.\n"
     ]
    },
    {
     "name": "stdout",
     "output_type": "stream",
     "text": [
      "INFO:tensorflow:Assets written to: ram:///tmp/tmp40fxa1bn/assets\n",
      "INFO:tensorflow:Assets written to: ram:///tmp/tmp7gz5yem4/assets\n"
     ]
    },
    {
     "name": "stderr",
     "output_type": "stream",
     "text": [
      "2022-10-14 19:02:57.287835: I tensorflow/core/platform/cpu_feature_guard.cc:193] This TensorFlow binary is optimized with oneAPI Deep Neural Network Library (oneDNN) to use the following CPU instructions in performance-critical operations:  SSE4.1 SSE4.2 AVX AVX2 FMA\n",
      "To enable them in other operations, rebuild TensorFlow with the appropriate compiler flags.\n"
     ]
    },
    {
     "name": "stdout",
     "output_type": "stream",
     "text": [
      "INFO:tensorflow:Assets written to: ram:///tmp/tmpqms4ry46/assets\n",
      "INFO:tensorflow:Assets written to: ram:///tmp/tmp6el6fs0i/assets\n"
     ]
    },
    {
     "name": "stderr",
     "output_type": "stream",
     "text": [
      "2022-10-14 19:02:59.034116: I tensorflow/core/platform/cpu_feature_guard.cc:193] This TensorFlow binary is optimized with oneAPI Deep Neural Network Library (oneDNN) to use the following CPU instructions in performance-critical operations:  SSE4.1 SSE4.2 AVX AVX2 FMA\n",
      "To enable them in other operations, rebuild TensorFlow with the appropriate compiler flags.\n"
     ]
    },
    {
     "name": "stdout",
     "output_type": "stream",
     "text": [
      "INFO:tensorflow:Assets written to: ram:///tmp/tmpwc7td4gs/assets\n",
      "INFO:tensorflow:Assets written to: ram:///tmp/tmpwev8vtjn/assets\n"
     ]
    },
    {
     "name": "stderr",
     "output_type": "stream",
     "text": [
      "2022-10-14 19:03:01.877687: I tensorflow/core/platform/cpu_feature_guard.cc:193] This TensorFlow binary is optimized with oneAPI Deep Neural Network Library (oneDNN) to use the following CPU instructions in performance-critical operations:  SSE4.1 SSE4.2 AVX AVX2 FMA\n",
      "To enable them in other operations, rebuild TensorFlow with the appropriate compiler flags.\n"
     ]
    },
    {
     "name": "stdout",
     "output_type": "stream",
     "text": [
      "INFO:tensorflow:Assets written to: ram:///tmp/tmpb48prmly/assets\n",
      "INFO:tensorflow:Assets written to: ram:///tmp/tmp0agwdwfi/assets\n",
      "INFO:tensorflow:Assets written to: ram:///tmp/tmph8njobxj/assets\n",
      "INFO:tensorflow:Assets written to: ram:///tmp/tmpqxb03h1r/assets\n",
      "INFO:tensorflow:Assets written to: ram:///tmp/tmp9p9eo9rr/assets\n",
      "INFO:tensorflow:Assets written to: ram:///tmp/tmp4i25k_mr/assets\n",
      "INFO:tensorflow:Assets written to: ram:///tmp/tmpok93vpsg/assets\n",
      "INFO:tensorflow:Assets written to: ram:///tmp/tmpud8xas31/assets\n",
      "INFO:tensorflow:Assets written to: ram:///tmp/tmpl_z0_47d/assets\n",
      "INFO:tensorflow:Assets written to: ram:///tmp/tmp4rzn4q12/assets\n",
      "INFO:tensorflow:Assets written to: ram:///tmp/tmpve1ynm0a/assets\n",
      "INFO:tensorflow:Assets written to: ram:///tmp/tmp82ax71pa/assets\n",
      "INFO:tensorflow:Assets written to: ram:///tmp/tmpv8rlwikz/assets\n",
      "INFO:tensorflow:Assets written to: ram:///tmp/tmpyvlix_8p/assets\n",
      "INFO:tensorflow:Assets written to: ram:///tmp/tmprqcbagg0/assets\n",
      "INFO:tensorflow:Assets written to: ram:///tmp/tmpy0kz2pwv/assets\n",
      "INFO:tensorflow:Assets written to: ram:///tmp/tmpapolhr2r/assets\n",
      "INFO:tensorflow:Assets written to: ram:///tmp/tmpx2l67uzo/assets\n",
      "INFO:tensorflow:Assets written to: ram:///tmp/tmps4an8s6v/assets\n",
      "INFO:tensorflow:Assets written to: ram:///tmp/tmpumo1rudq/assets\n",
      "INFO:tensorflow:Assets written to: ram:///tmp/tmpoav5vag9/assets\n",
      "INFO:tensorflow:Assets written to: ram:///tmp/tmp0imo3u07/assets\n",
      "INFO:tensorflow:Assets written to: ram:///tmp/tmp_v9mxetd/assets\n",
      "INFO:tensorflow:Assets written to: ram:///tmp/tmpqtvk3406/assets\n",
      "INFO:tensorflow:Assets written to: ram:///tmp/tmpoav5ug01/assets\n",
      "INFO:tensorflow:Assets written to: ram:///tmp/tmpiluz27ca/assets\n",
      "INFO:tensorflow:Assets written to: ram:///tmp/tmpicbipyhh/assets\n",
      "INFO:tensorflow:Assets written to: ram:///tmp/tmpa2us4mrc/assets\n",
      "INFO:tensorflow:Assets written to: ram:///tmp/tmp67jgmmjc/assets\n",
      "INFO:tensorflow:Assets written to: ram:///tmp/tmpm1tnspvh/assets\n",
      "INFO:tensorflow:Assets written to: ram:///tmp/tmp29tnx229/assets\n",
      "INFO:tensorflow:Assets written to: ram:///tmp/tmp7n8lb1pr/assets\n",
      "INFO:tensorflow:Assets written to: ram:///tmp/tmpwgkh1njh/assets\n",
      "INFO:tensorflow:Assets written to: ram:///tmp/tmpt9bzrses/assets\n",
      "INFO:tensorflow:Assets written to: ram:///tmp/tmp9qudhg19/assets\n",
      "INFO:tensorflow:Assets written to: ram:///tmp/tmpk7hr7tij/assets\n",
      "INFO:tensorflow:Assets written to: ram:///tmp/tmpoen1nqf1/assets\n",
      "INFO:tensorflow:Assets written to: ram:///tmp/tmpw_nib16f/assets\n",
      "INFO:tensorflow:Assets written to: ram:///tmp/tmp5n41u9w3/assets\n",
      "INFO:tensorflow:Assets written to: ram:///tmp/tmpd5a6mtnj/assets\n",
      "INFO:tensorflow:Assets written to: ram:///tmp/tmplfw20ib1/assets\n",
      "INFO:tensorflow:Assets written to: ram:///tmp/tmpadb5_81x/assets\n",
      "INFO:tensorflow:Assets written to: ram:///tmp/tmp4iaee8ua/assets\n",
      "INFO:tensorflow:Assets written to: ram:///tmp/tmpbbh8hu_3/assets\n",
      "INFO:tensorflow:Assets written to: ram:///tmp/tmpla0rxojp/assets\n",
      "INFO:tensorflow:Assets written to: ram:///tmp/tmpafavczqu/assets\n",
      "INFO:tensorflow:Assets written to: ram:///tmp/tmpohmnejnb/assets\n",
      "INFO:tensorflow:Assets written to: ram:///tmp/tmp4lfsj0gn/assets\n",
      "INFO:tensorflow:Assets written to: ram:///tmp/tmpeo_xotcj/assets\n",
      "INFO:tensorflow:Assets written to: ram:///tmp/tmpxxxz4zc6/assets\n",
      "INFO:tensorflow:Assets written to: ram:///tmp/tmpb22dczfy/assets\n",
      "INFO:tensorflow:Assets written to: ram:///tmp/tmp2a0c5pag/assets\n",
      "INFO:tensorflow:Assets written to: ram:///tmp/tmpp40gu5dd/assets\n",
      "INFO:tensorflow:Assets written to: ram:///tmp/tmpqaud4adf/assets\n",
      "INFO:tensorflow:Assets written to: ram:///tmp/tmp6zjbfwg4/assets\n",
      "INFO:tensorflow:Assets written to: ram:///tmp/tmp5t65u7no/assets\n",
      "INFO:tensorflow:Assets written to: ram:///tmp/tmpjm8ismtv/assets\n"
     ]
    },
    {
     "name": "stderr",
     "output_type": "stream",
     "text": [
      "2022-10-14 19:11:37.069963: I tensorflow/core/platform/cpu_feature_guard.cc:193] This TensorFlow binary is optimized with oneAPI Deep Neural Network Library (oneDNN) to use the following CPU instructions in performance-critical operations:  SSE4.1 SSE4.2 AVX AVX2 FMA\n",
      "To enable them in other operations, rebuild TensorFlow with the appropriate compiler flags.\n"
     ]
    },
    {
     "name": "stdout",
     "output_type": "stream",
     "text": [
      "INFO:tensorflow:Assets written to: ram:///tmp/tmp2veoqsn9/assets\n",
      "INFO:tensorflow:Assets written to: ram:///tmp/tmpiv9bleg_/assets\n",
      "INFO:tensorflow:Assets written to: ram:///tmp/tmpbp7l9c98/assets\n",
      "INFO:tensorflow:Assets written to: ram:///tmp/tmpnlaudpcu/assets\n",
      "INFO:tensorflow:Assets written to: ram:///tmp/tmpjr5_qtca/assets\n",
      "INFO:tensorflow:Assets written to: ram:///tmp/tmpjwf5jvre/assets\n",
      "INFO:tensorflow:Assets written to: ram:///tmp/tmpso1iwd9t/assets\n",
      "INFO:tensorflow:Assets written to: ram:///tmp/tmpgjtn705a/assets\n",
      "INFO:tensorflow:Assets written to: ram:///tmp/tmpk7lpo2ji/assets\n",
      "INFO:tensorflow:Assets written to: ram:///tmp/tmp4qr75r6p/assets\n",
      "INFO:tensorflow:Assets written to: ram:///tmp/tmp1ifqn2d1/assets\n",
      "INFO:tensorflow:Assets written to: ram:///tmp/tmp73kh27pg/assets\n",
      "INFO:tensorflow:Assets written to: ram:///tmp/tmpq35t2hrw/assets\n",
      "INFO:tensorflow:Assets written to: ram:///tmp/tmp78zibtr1/assets\n",
      "INFO:tensorflow:Assets written to: ram:///tmp/tmp6pewr5tq/assets\n",
      "INFO:tensorflow:Assets written to: ram:///tmp/tmpyzaxvq56/assets\n"
     ]
    },
    {
     "data": {
      "text/html": [
       "<style>#sk-container-id-9 {color: black;background-color: white;}#sk-container-id-9 pre{padding: 0;}#sk-container-id-9 div.sk-toggleable {background-color: white;}#sk-container-id-9 label.sk-toggleable__label {cursor: pointer;display: block;width: 100%;margin-bottom: 0;padding: 0.3em;box-sizing: border-box;text-align: center;}#sk-container-id-9 label.sk-toggleable__label-arrow:before {content: \"▸\";float: left;margin-right: 0.25em;color: #696969;}#sk-container-id-9 label.sk-toggleable__label-arrow:hover:before {color: black;}#sk-container-id-9 div.sk-estimator:hover label.sk-toggleable__label-arrow:before {color: black;}#sk-container-id-9 div.sk-toggleable__content {max-height: 0;max-width: 0;overflow: hidden;text-align: left;background-color: #f0f8ff;}#sk-container-id-9 div.sk-toggleable__content pre {margin: 0.2em;color: black;border-radius: 0.25em;background-color: #f0f8ff;}#sk-container-id-9 input.sk-toggleable__control:checked~div.sk-toggleable__content {max-height: 200px;max-width: 100%;overflow: auto;}#sk-container-id-9 input.sk-toggleable__control:checked~label.sk-toggleable__label-arrow:before {content: \"▾\";}#sk-container-id-9 div.sk-estimator input.sk-toggleable__control:checked~label.sk-toggleable__label {background-color: #d4ebff;}#sk-container-id-9 div.sk-label input.sk-toggleable__control:checked~label.sk-toggleable__label {background-color: #d4ebff;}#sk-container-id-9 input.sk-hidden--visually {border: 0;clip: rect(1px 1px 1px 1px);clip: rect(1px, 1px, 1px, 1px);height: 1px;margin: -1px;overflow: hidden;padding: 0;position: absolute;width: 1px;}#sk-container-id-9 div.sk-estimator {font-family: monospace;background-color: #f0f8ff;border: 1px dotted black;border-radius: 0.25em;box-sizing: border-box;margin-bottom: 0.5em;}#sk-container-id-9 div.sk-estimator:hover {background-color: #d4ebff;}#sk-container-id-9 div.sk-parallel-item::after {content: \"\";width: 100%;border-bottom: 1px solid gray;flex-grow: 1;}#sk-container-id-9 div.sk-label:hover label.sk-toggleable__label {background-color: #d4ebff;}#sk-container-id-9 div.sk-serial::before {content: \"\";position: absolute;border-left: 1px solid gray;box-sizing: border-box;top: 0;bottom: 0;left: 50%;z-index: 0;}#sk-container-id-9 div.sk-serial {display: flex;flex-direction: column;align-items: center;background-color: white;padding-right: 0.2em;padding-left: 0.2em;position: relative;}#sk-container-id-9 div.sk-item {position: relative;z-index: 1;}#sk-container-id-9 div.sk-parallel {display: flex;align-items: stretch;justify-content: center;background-color: white;position: relative;}#sk-container-id-9 div.sk-item::before, #sk-container-id-9 div.sk-parallel-item::before {content: \"\";position: absolute;border-left: 1px solid gray;box-sizing: border-box;top: 0;bottom: 0;left: 50%;z-index: -1;}#sk-container-id-9 div.sk-parallel-item {display: flex;flex-direction: column;z-index: 1;position: relative;background-color: white;}#sk-container-id-9 div.sk-parallel-item:first-child::after {align-self: flex-end;width: 50%;}#sk-container-id-9 div.sk-parallel-item:last-child::after {align-self: flex-start;width: 50%;}#sk-container-id-9 div.sk-parallel-item:only-child::after {width: 0;}#sk-container-id-9 div.sk-dashed-wrapped {border: 1px dashed gray;margin: 0 0.4em 0.5em 0.4em;box-sizing: border-box;padding-bottom: 0.4em;background-color: white;}#sk-container-id-9 div.sk-label label {font-family: monospace;font-weight: bold;display: inline-block;line-height: 1.2em;}#sk-container-id-9 div.sk-label-container {text-align: center;}#sk-container-id-9 div.sk-container {/* jupyter's `normalize.less` sets `[hidden] { display: none; }` but bootstrap.min.css set `[hidden] { display: none !important; }` so we also need the `!important` here to be able to override the default hidden behavior on the sphinx rendered scikit-learn.org. See: https://github.com/scikit-learn/scikit-learn/issues/21755 */display: inline-block !important;position: relative;}#sk-container-id-9 div.sk-text-repr-fallback {display: none;}</style><div id=\"sk-container-id-9\" class=\"sk-top-container\"><div class=\"sk-text-repr-fallback\"><pre>Pipeline(steps=[(&#x27;transform&#x27;,\n",
       "                 ColumnTransformer(transformers=[(&#x27;numeric&#x27;, MinMaxScaler(),\n",
       "                                                  [86, 44, 96, 24, 85, 62, 18,\n",
       "                                                   80, 34, 52, 70, 7, 40, 58,\n",
       "                                                   76, 13, 33, 51, 69, 6, 38,\n",
       "                                                   56, 74, 11, 42, 78, 15, 27,\n",
       "                                                   19, 45, ...]),\n",
       "                                                 (&#x27;categorical&#x27;,\n",
       "                                                  OneHotEncoder(handle_unknown=&#x27;infrequent_if_exist&#x27;),\n",
       "                                                  [22, 25, 26, 31, 41, 48, 49,\n",
       "                                                   59, 60, 77, 83, 93, 97])])),\n",
       "                (&#x27;predict&#x27;,\n",
       "                 GridSearchCV(estimator=KerasClassifier(callbacks=[&lt;keras.callbacks.EarlyStopping object at 0x7efc84afe440&gt;], epochs=100, model=&lt;function nn_model at 0x7efc84ae4e50&gt;, validation_split=0.2, verbose=0),\n",
       "                              n_jobs=-1,\n",
       "                              param_grid={&#x27;batch_size&#x27;: [16, 32, 64],\n",
       "                                          &#x27;optimizer__learning_rate&#x27;: [0.001,\n",
       "                                                                       0.01,\n",
       "                                                                       0.1]},\n",
       "                              refit=&#x27;f1&#x27;, return_train_score=True,\n",
       "                              scoring=[&#x27;accuracy&#x27;, &#x27;f1&#x27;, &#x27;roc_auc&#x27;]))])</pre><b>In a Jupyter environment, please rerun this cell to show the HTML representation or trust the notebook. <br />On GitHub, the HTML representation is unable to render, please try loading this page with nbviewer.org.</b></div><div class=\"sk-container\" hidden><div class=\"sk-item sk-dashed-wrapped\"><div class=\"sk-label-container\"><div class=\"sk-label sk-toggleable\"><input class=\"sk-toggleable__control sk-hidden--visually\" id=\"sk-estimator-id-54\" type=\"checkbox\" ><label for=\"sk-estimator-id-54\" class=\"sk-toggleable__label sk-toggleable__label-arrow\">Pipeline</label><div class=\"sk-toggleable__content\"><pre>Pipeline(steps=[(&#x27;transform&#x27;,\n",
       "                 ColumnTransformer(transformers=[(&#x27;numeric&#x27;, MinMaxScaler(),\n",
       "                                                  [86, 44, 96, 24, 85, 62, 18,\n",
       "                                                   80, 34, 52, 70, 7, 40, 58,\n",
       "                                                   76, 13, 33, 51, 69, 6, 38,\n",
       "                                                   56, 74, 11, 42, 78, 15, 27,\n",
       "                                                   19, 45, ...]),\n",
       "                                                 (&#x27;categorical&#x27;,\n",
       "                                                  OneHotEncoder(handle_unknown=&#x27;infrequent_if_exist&#x27;),\n",
       "                                                  [22, 25, 26, 31, 41, 48, 49,\n",
       "                                                   59, 60, 77, 83, 93, 97])])),\n",
       "                (&#x27;predict&#x27;,\n",
       "                 GridSearchCV(estimator=KerasClassifier(callbacks=[&lt;keras.callbacks.EarlyStopping object at 0x7efc84afe440&gt;], epochs=100, model=&lt;function nn_model at 0x7efc84ae4e50&gt;, validation_split=0.2, verbose=0),\n",
       "                              n_jobs=-1,\n",
       "                              param_grid={&#x27;batch_size&#x27;: [16, 32, 64],\n",
       "                                          &#x27;optimizer__learning_rate&#x27;: [0.001,\n",
       "                                                                       0.01,\n",
       "                                                                       0.1]},\n",
       "                              refit=&#x27;f1&#x27;, return_train_score=True,\n",
       "                              scoring=[&#x27;accuracy&#x27;, &#x27;f1&#x27;, &#x27;roc_auc&#x27;]))])</pre></div></div></div><div class=\"sk-serial\"><div class=\"sk-item sk-dashed-wrapped\"><div class=\"sk-label-container\"><div class=\"sk-label sk-toggleable\"><input class=\"sk-toggleable__control sk-hidden--visually\" id=\"sk-estimator-id-55\" type=\"checkbox\" ><label for=\"sk-estimator-id-55\" class=\"sk-toggleable__label sk-toggleable__label-arrow\">transform: ColumnTransformer</label><div class=\"sk-toggleable__content\"><pre>ColumnTransformer(transformers=[(&#x27;numeric&#x27;, MinMaxScaler(),\n",
       "                                 [86, 44, 96, 24, 85, 62, 18, 80, 34, 52, 70, 7,\n",
       "                                  40, 58, 76, 13, 33, 51, 69, 6, 38, 56, 74, 11,\n",
       "                                  42, 78, 15, 27, 19, 45, ...]),\n",
       "                                (&#x27;categorical&#x27;,\n",
       "                                 OneHotEncoder(handle_unknown=&#x27;infrequent_if_exist&#x27;),\n",
       "                                 [22, 25, 26, 31, 41, 48, 49, 59, 60, 77, 83,\n",
       "                                  93, 97])])</pre></div></div></div><div class=\"sk-parallel\"><div class=\"sk-parallel-item\"><div class=\"sk-item\"><div class=\"sk-label-container\"><div class=\"sk-label sk-toggleable\"><input class=\"sk-toggleable__control sk-hidden--visually\" id=\"sk-estimator-id-56\" type=\"checkbox\" ><label for=\"sk-estimator-id-56\" class=\"sk-toggleable__label sk-toggleable__label-arrow\">numeric</label><div class=\"sk-toggleable__content\"><pre>[86, 44, 96, 24, 85, 62, 18, 80, 34, 52, 70, 7, 40, 58, 76, 13, 33, 51, 69, 6, 38, 56, 74, 11, 42, 78, 15, 27, 19, 45, 63, 0, 32, 50, 68, 5, 35, 53, 71, 8, 14, 28, 20, 46, 64, 1, 89, 91, 90, 82, 43, 61, 79, 16, 39, 57, 75, 12, 67, 4, 94, 30, 66, 3, 36, 54, 72, 9, 37, 55, 73, 10, 17, 29, 21, 47, 65, 2, 23, 87, 88, 84, 81, 92, 95]</pre></div></div></div><div class=\"sk-serial\"><div class=\"sk-item\"><div class=\"sk-estimator sk-toggleable\"><input class=\"sk-toggleable__control sk-hidden--visually\" id=\"sk-estimator-id-57\" type=\"checkbox\" ><label for=\"sk-estimator-id-57\" class=\"sk-toggleable__label sk-toggleable__label-arrow\">MinMaxScaler</label><div class=\"sk-toggleable__content\"><pre>MinMaxScaler()</pre></div></div></div></div></div></div><div class=\"sk-parallel-item\"><div class=\"sk-item\"><div class=\"sk-label-container\"><div class=\"sk-label sk-toggleable\"><input class=\"sk-toggleable__control sk-hidden--visually\" id=\"sk-estimator-id-58\" type=\"checkbox\" ><label for=\"sk-estimator-id-58\" class=\"sk-toggleable__label sk-toggleable__label-arrow\">categorical</label><div class=\"sk-toggleable__content\"><pre>[22, 25, 26, 31, 41, 48, 49, 59, 60, 77, 83, 93, 97]</pre></div></div></div><div class=\"sk-serial\"><div class=\"sk-item\"><div class=\"sk-estimator sk-toggleable\"><input class=\"sk-toggleable__control sk-hidden--visually\" id=\"sk-estimator-id-59\" type=\"checkbox\" ><label for=\"sk-estimator-id-59\" class=\"sk-toggleable__label sk-toggleable__label-arrow\">OneHotEncoder</label><div class=\"sk-toggleable__content\"><pre>OneHotEncoder(handle_unknown=&#x27;infrequent_if_exist&#x27;)</pre></div></div></div></div></div></div></div></div><div class=\"sk-item sk-dashed-wrapped\"><div class=\"sk-label-container\"><div class=\"sk-label sk-toggleable\"><input class=\"sk-toggleable__control sk-hidden--visually\" id=\"sk-estimator-id-60\" type=\"checkbox\" ><label for=\"sk-estimator-id-60\" class=\"sk-toggleable__label sk-toggleable__label-arrow\">predict: GridSearchCV</label><div class=\"sk-toggleable__content\"><pre>GridSearchCV(estimator=KerasClassifier(callbacks=[&lt;keras.callbacks.EarlyStopping object at 0x7efc84afe440&gt;], epochs=100, model=&lt;function nn_model at 0x7efc84ae4e50&gt;, validation_split=0.2, verbose=0),\n",
       "             n_jobs=-1,\n",
       "             param_grid={&#x27;batch_size&#x27;: [16, 32, 64],\n",
       "                         &#x27;optimizer__learning_rate&#x27;: [0.001, 0.01, 0.1]},\n",
       "             refit=&#x27;f1&#x27;, return_train_score=True,\n",
       "             scoring=[&#x27;accuracy&#x27;, &#x27;f1&#x27;, &#x27;roc_auc&#x27;])</pre></div></div></div><div class=\"sk-parallel\"><div class=\"sk-parallel-item\"><div class=\"sk-item\"><div class=\"sk-label-container\"><div class=\"sk-label sk-toggleable\"><input class=\"sk-toggleable__control sk-hidden--visually\" id=\"sk-estimator-id-61\" type=\"checkbox\" ><label for=\"sk-estimator-id-61\" class=\"sk-toggleable__label sk-toggleable__label-arrow\">estimator: KerasClassifier</label><div class=\"sk-toggleable__content\"><pre>KerasClassifier(\n",
       "\tmodel=&lt;function nn_model at 0x7efc84ae4e50&gt;\n",
       "\tbuild_fn=None\n",
       "\twarm_start=False\n",
       "\trandom_state=None\n",
       "\toptimizer=rmsprop\n",
       "\tloss=None\n",
       "\tmetrics=None\n",
       "\tbatch_size=None\n",
       "\tvalidation_batch_size=None\n",
       "\tverbose=0\n",
       "\tcallbacks=[&lt;keras.callbacks.EarlyStopping object at 0x7efc84afe440&gt;]\n",
       "\tvalidation_split=0.2\n",
       "\tshuffle=True\n",
       "\trun_eagerly=False\n",
       "\tepochs=100\n",
       "\tclass_weight=None\n",
       ")</pre></div></div></div><div class=\"sk-serial\"><div class=\"sk-item\"><div class=\"sk-estimator sk-toggleable\"><input class=\"sk-toggleable__control sk-hidden--visually\" id=\"sk-estimator-id-62\" type=\"checkbox\" ><label for=\"sk-estimator-id-62\" class=\"sk-toggleable__label sk-toggleable__label-arrow\">KerasClassifier</label><div class=\"sk-toggleable__content\"><pre>KerasClassifier(\n",
       "\tmodel=&lt;function nn_model at 0x7efc84ae4e50&gt;\n",
       "\tbuild_fn=None\n",
       "\twarm_start=False\n",
       "\trandom_state=None\n",
       "\toptimizer=rmsprop\n",
       "\tloss=None\n",
       "\tmetrics=None\n",
       "\tbatch_size=None\n",
       "\tvalidation_batch_size=None\n",
       "\tverbose=0\n",
       "\tcallbacks=[&lt;keras.callbacks.EarlyStopping object at 0x7efc84afe440&gt;]\n",
       "\tvalidation_split=0.2\n",
       "\tshuffle=True\n",
       "\trun_eagerly=False\n",
       "\tepochs=100\n",
       "\tclass_weight=None\n",
       ")</pre></div></div></div></div></div></div></div></div></div></div></div></div>"
      ],
      "text/plain": [
       "Pipeline(steps=[('transform',\n",
       "                 ColumnTransformer(transformers=[('numeric', MinMaxScaler(),\n",
       "                                                  [86, 44, 96, 24, 85, 62, 18,\n",
       "                                                   80, 34, 52, 70, 7, 40, 58,\n",
       "                                                   76, 13, 33, 51, 69, 6, 38,\n",
       "                                                   56, 74, 11, 42, 78, 15, 27,\n",
       "                                                   19, 45, ...]),\n",
       "                                                 ('categorical',\n",
       "                                                  OneHotEncoder(handle_unknown='infrequent_if_exist'),\n",
       "                                                  [22, 25, 26, 31, 41, 48, 49,\n",
       "                                                   59, 60, 77, 83, 93, 97])])),\n",
       "                ('predict',\n",
       "                 GridSearchCV(estimator=KerasClassifier(callbacks=[<keras.callbacks.EarlyStopping object at 0x7efc84afe440>], epochs=100, model=<function nn_model at 0x7efc84ae4e50>, validation_split=0.2, verbose=0),\n",
       "                              n_jobs=-1,\n",
       "                              param_grid={'batch_size': [16, 32, 64],\n",
       "                                          'optimizer__learning_rate': [0.001,\n",
       "                                                                       0.01,\n",
       "                                                                       0.1]},\n",
       "                              refit='f1', return_train_score=True,\n",
       "                              scoring=['accuracy', 'f1', 'roc_auc']))])"
      ]
     },
     "execution_count": 78,
     "metadata": {},
     "output_type": "execute_result"
    }
   ],
   "source": [
    "nn_pipe.fit(X_train, y_train)"
   ]
  },
  {
   "cell_type": "code",
   "execution_count": 79,
   "id": "04a7745a-c099-4d70-8dac-30a5e4cf191c",
   "metadata": {},
   "outputs": [
    {
     "data": {
      "text/plain": [
       "{'batch_size': 32, 'optimizer__learning_rate': 0.01}"
      ]
     },
     "execution_count": 79,
     "metadata": {},
     "output_type": "execute_result"
    }
   ],
   "source": [
    "nn_pipe.named_steps['predict'].best_params_"
   ]
  },
  {
   "cell_type": "code",
   "execution_count": 80,
   "id": "78d5acaa-8d00-45f8-aedd-283c418a555b",
   "metadata": {},
   "outputs": [
    {
     "name": "stdout",
     "output_type": "stream",
     "text": [
      "              precision    recall  f1-score   support\n",
      "\n",
      "           0       0.96      0.96      0.96     43249\n",
      "           1       0.93      0.92      0.92     23236\n",
      "\n",
      "    accuracy                           0.95     66485\n",
      "   macro avg       0.94      0.94      0.94     66485\n",
      "weighted avg       0.95      0.95      0.95     66485\n",
      "\n"
     ]
    }
   ],
   "source": [
    "print(classification_report(nn_pipe.predict(X_train), y_train))"
   ]
  },
  {
   "cell_type": "code",
   "execution_count": 81,
   "id": "004633e1-4916-4cbd-bc89-fab64e5af147",
   "metadata": {},
   "outputs": [
    {
     "name": "stdout",
     "output_type": "stream",
     "text": [
      "              precision    recall  f1-score   support\n",
      "\n",
      "           0       0.95      0.96      0.96     14380\n",
      "           1       0.93      0.92      0.92      7782\n",
      "\n",
      "    accuracy                           0.95     22162\n",
      "   macro avg       0.94      0.94      0.94     22162\n",
      "weighted avg       0.95      0.95      0.95     22162\n",
      "\n"
     ]
    }
   ],
   "source": [
    "print(classification_report(nn_pipe.predict(X_test), y_test))"
   ]
  },
  {
   "cell_type": "code",
   "execution_count": null,
   "id": "6f73bb63-4284-4d7b-b59c-8d4552c9caee",
   "metadata": {},
   "outputs": [],
   "source": []
  },
  {
   "cell_type": "code",
   "execution_count": null,
   "id": "7ad31101-67a6-42e0-84c1-b617fd97e59a",
   "metadata": {},
   "outputs": [],
   "source": []
  },
  {
   "cell_type": "code",
   "execution_count": null,
   "id": "ca6a05b9-02a1-4a56-b7d9-39ce8090b6cd",
   "metadata": {},
   "outputs": [],
   "source": []
  },
  {
   "cell_type": "markdown",
   "id": "be249b11-2185-4e94-afe3-0940e0b37d1b",
   "metadata": {
    "tags": []
   },
   "source": [
    "## SHAP Explainability"
   ]
  },
  {
   "cell_type": "code",
   "execution_count": null,
   "id": "380cee48-9f68-4e7d-91cc-d7513a86112b",
   "metadata": {},
   "outputs": [],
   "source": [
    "# https://shap.readthedocs.io/en/latest/example_notebooks/tabular_examples/tree_based_models/Basic%20SHAP%20Interaction%20Value%20Example%20in%20XGBoost.html\n",
    "preds = clf.predict(X_test)\n",
    "exp = shap.TreeExplainer(clf)\n",
    "shap_values = exp.shap_values(X_test)"
   ]
  },
  {
   "cell_type": "code",
   "execution_count": null,
   "id": "980557a9-a0d7-495f-a7ca-038d0d0de046",
   "metadata": {},
   "outputs": [],
   "source": [
    "shap.summary_plot(shap_values, X_test)"
   ]
  },
  {
   "cell_type": "code",
   "execution_count": null,
   "id": "5a58dfd7-e12c-491d-8ae6-e6cb9cd10faa",
   "metadata": {},
   "outputs": [],
   "source": [
    "shap.summary_plot(shap_values, X_test, plot_type=\"bar\")"
   ]
  },
  {
   "cell_type": "code",
   "execution_count": null,
   "id": "33575362-2595-4642-b7d7-e5b8f4fc40a6",
   "metadata": {},
   "outputs": [],
   "source": [
    "shap.initjs()"
   ]
  },
  {
   "cell_type": "code",
   "execution_count": null,
   "id": "1981101e-99c1-4b61-804b-caa8aa4a0264",
   "metadata": {},
   "outputs": [],
   "source": [
    "shap.force_plot(exp.expected_value, shap_values[2,:], X_test.iloc[2,:])"
   ]
  },
  {
   "cell_type": "code",
   "execution_count": null,
   "id": "f9b22bd1-f1a3-4636-bafe-a28495b665fd",
   "metadata": {},
   "outputs": [],
   "source": []
  }
 ],
 "metadata": {
  "kernelspec": {
   "display_name": "Python 3 (ipykernel)",
   "language": "python",
   "name": "python3"
  },
  "language_info": {
   "codemirror_mode": {
    "name": "ipython",
    "version": 3
   },
   "file_extension": ".py",
   "mimetype": "text/x-python",
   "name": "python",
   "nbconvert_exporter": "python",
   "pygments_lexer": "ipython3",
   "version": "3.10.6"
  }
 },
 "nbformat": 4,
 "nbformat_minor": 5
}
